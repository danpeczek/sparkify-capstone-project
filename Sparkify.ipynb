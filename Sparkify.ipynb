{
 "cells": [
  {
   "cell_type": "markdown",
   "metadata": {},
   "source": [
    "# Sparkify Project Workspace\n",
    "This workspace contains a tiny subset (128MB) of the full dataset available (12GB). Feel free to use this workspace to build your project, or to explore a smaller subset with Spark before deploying your cluster on the cloud. Instructions for setting up your Spark cluster is included in the last lesson of the Extracurricular Spark Course content.\n",
    "\n",
    "You can follow the steps below to guide your data analysis and model building portion of this project."
   ]
  },
  {
   "cell_type": "code",
   "execution_count": 52,
   "metadata": {},
   "outputs": [],
   "source": [
    "# import libraries\n",
    "from pyspark.sql import SparkSession\n",
    "from pyspark.sql.functions import udf, col, rand, split\n",
    "from pyspark.sql.types import IntegerType, BooleanType, StringType, ArrayType, DoubleType\n",
    "from pyspark.ml.feature import StandardScaler, VectorAssembler\n",
    "from pyspark.ml.linalg import Vectors\n",
    "from pyspark.ml.classification import RandomForestClassifier, LogisticRegression, MultilayerPerceptronClassifier\n",
    "from pyspark.ml import Pipeline\n",
    "from pyspark.ml.tuning import CrossValidator, ParamGridBuilder\n",
    "from pyspark.ml.evaluation import MulticlassClassificationEvaluator\n",
    "\n",
    "import pandas as pd\n",
    "import matplotlib.pyplot as plt\n",
    "import seaborn as sns\n",
    "from datetime import datetime"
   ]
  },
  {
   "cell_type": "code",
   "execution_count": 53,
   "metadata": {},
   "outputs": [],
   "source": [
    "spark = SparkSession.builder \\\n",
    "    .master(\"local\") \\\n",
    "    .appName(\"Sparkify\") \\\n",
    "    .getOrCreate()"
   ]
  },
  {
   "cell_type": "markdown",
   "metadata": {},
   "source": [
    "# Load and Clean Dataset\n",
    "In this workspace, the mini-dataset file is `mini_sparkify_event_data.json`. Load and clean the dataset, checking for invalid or missing data - for example, records without userids or sessionids. "
   ]
  },
  {
   "cell_type": "code",
   "execution_count": 54,
   "metadata": {},
   "outputs": [],
   "source": [
    "dataset_path = \"data/mini_sparkify_event_data.json\""
   ]
  },
  {
   "cell_type": "code",
   "execution_count": 55,
   "metadata": {},
   "outputs": [
    {
     "data": {
      "text/plain": [
       "DataFrame[artist: string, auth: string, firstName: string, gender: string, itemInSession: bigint, lastName: string, length: double, level: string, location: string, method: string, page: string, registration: bigint, sessionId: bigint, song: string, status: bigint, ts: bigint, userAgent: string, userId: string]"
      ]
     },
     "execution_count": 55,
     "metadata": {},
     "output_type": "execute_result"
    }
   ],
   "source": [
    "df = spark.read.json(dataset_path)\n",
    "df.persist()"
   ]
  },
  {
   "cell_type": "code",
   "execution_count": 56,
   "metadata": {},
   "outputs": [
    {
     "name": "stdout",
     "output_type": "stream",
     "text": [
      "root\n",
      " |-- artist: string (nullable = true)\n",
      " |-- auth: string (nullable = true)\n",
      " |-- firstName: string (nullable = true)\n",
      " |-- gender: string (nullable = true)\n",
      " |-- itemInSession: long (nullable = true)\n",
      " |-- lastName: string (nullable = true)\n",
      " |-- length: double (nullable = true)\n",
      " |-- level: string (nullable = true)\n",
      " |-- location: string (nullable = true)\n",
      " |-- method: string (nullable = true)\n",
      " |-- page: string (nullable = true)\n",
      " |-- registration: long (nullable = true)\n",
      " |-- sessionId: long (nullable = true)\n",
      " |-- song: string (nullable = true)\n",
      " |-- status: long (nullable = true)\n",
      " |-- ts: long (nullable = true)\n",
      " |-- userAgent: string (nullable = true)\n",
      " |-- userId: string (nullable = true)\n",
      "\n"
     ]
    }
   ],
   "source": [
    "df.printSchema()"
   ]
  },
  {
   "cell_type": "code",
   "execution_count": 57,
   "metadata": {},
   "outputs": [
    {
     "name": "stdout",
     "output_type": "stream",
     "text": [
      "+--------------+---------+---------+------+-------------+--------+---------+-----+---------------+------+--------+-------------+---------+---------+------+-------------+--------------------+------+\n",
      "|        artist|     auth|firstName|gender|itemInSession|lastName|   length|level|       location|method|    page| registration|sessionId|     song|status|           ts|           userAgent|userId|\n",
      "+--------------+---------+---------+------+-------------+--------+---------+-----+---------------+------+--------+-------------+---------+---------+------+-------------+--------------------+------+\n",
      "|Martha Tilston|Logged In|    Colin|     M|           50| Freeman|277.89016| paid|Bakersfield, CA|   PUT|NextSong|1538173362000|       29|Rockpools|   200|1538352117000|Mozilla/5.0 (Wind...|    30|\n",
      "+--------------+---------+---------+------+-------------+--------+---------+-----+---------------+------+--------+-------------+---------+---------+------+-------------+--------------------+------+\n",
      "only showing top 1 row\n",
      "\n"
     ]
    }
   ],
   "source": [
    "df.select(\"*\").show(1)"
   ]
  },
  {
   "cell_type": "markdown",
   "metadata": {},
   "source": [
    "# Exploratory Data Analysis\n",
    "When you're working with the full dataset, perform EDA by loading a small subset of the data and doing basic manipulations within Spark. In this workspace, you are already provided a small subset of data you can explore.\n",
    "\n",
    "### Define Churn\n",
    "\n",
    "Once you've done some preliminary analysis, create a column `Churn` to use as the label for your model. I suggest using the `Cancellation Confirmation` events to define your churn, which happen for both paid and free users. As a bonus task, you can also look into the `Submit Downgrade` events.\n",
    "\n",
    "### Explore Data\n",
    "Once you've defined churn, perform some exploratory data analysis to observe the behavior for users who stayed vs users who churned. You can start by exploring aggregates on these two groups of users, observing how much of a specific action they experienced per a certain time unit or number of songs played."
   ]
  },
  {
   "cell_type": "markdown",
   "metadata": {},
   "source": [
    "Let's define the churn function that will find set 1 when row means churn and 0 otherwise. To find a churn we'll use the `page` when `Submit Downgrade` and `Cancellation Confirmation` event happened. Let's treat churn and downgrade users separetely, as each of them can have significant differences in behavior."
   ]
  },
  {
   "cell_type": "code",
   "execution_count": 58,
   "metadata": {},
   "outputs": [],
   "source": [
    "def isChurn(page):\n",
    "    if page == \"Submit Downgrade\" or page == \"Cancellation Confirmation\":\n",
    "        return True\n",
    "    return False"
   ]
  },
  {
   "cell_type": "code",
   "execution_count": 59,
   "metadata": {},
   "outputs": [],
   "source": [
    "def churn(value):\n",
    "    if value == \"Cancellation Confirmation\":\n",
    "        return 2\n",
    "    if value == \"Submit Downgrade\":\n",
    "        return 1\n",
    "    return 0"
   ]
  },
  {
   "cell_type": "markdown",
   "metadata": {},
   "source": [
    "Now let's apply this function our dataframe."
   ]
  },
  {
   "cell_type": "code",
   "execution_count": 60,
   "metadata": {},
   "outputs": [],
   "source": [
    "setChurn = udf(churn, IntegerType())\n",
    "df = df.withColumn(\"churn\", setChurn(df.page))"
   ]
  },
  {
   "cell_type": "markdown",
   "metadata": {},
   "source": [
    "So now let's take churned and downgraded users id's and let's put them to separate collection. First let's collect id of users that left our service by reasons."
   ]
  },
  {
   "cell_type": "code",
   "execution_count": 61,
   "metadata": {},
   "outputs": [],
   "source": [
    "churned_ids = df.filter(df.churn == 2).select(\"userId\").dropDuplicates().collect()\n",
    "churned_ids = [i.userId for i in churned_ids]\n",
    "\n",
    "downgraded_ids = df.filter(df.churn == 1).select(\"userId\").dropDuplicates().collect()\n",
    "downgraded_ids = [i.userId for i in downgraded_ids]"
   ]
  },
  {
   "cell_type": "markdown",
   "metadata": {},
   "source": [
    "Now let's define two functions that will find users that are churned and not churned."
   ]
  },
  {
   "cell_type": "code",
   "execution_count": 62,
   "metadata": {},
   "outputs": [],
   "source": [
    "isInChurn = udf(lambda x: x in (churned_ids), BooleanType())\n",
    "isInDowngraded = udf(lambda x: x in (downgraded_ids), BooleanType())\n",
    "notInChurn = udf(lambda x: x not in (churned_ids+downgraded_ids), BooleanType())"
   ]
  },
  {
   "cell_type": "markdown",
   "metadata": {},
   "source": [
    "### Do we have null values across the dataset?\n",
    "\n",
    "Now as we have simple churn defined, let's take a look more on how the dataset looks llike. First let's see which column has a null value and how much of these values are there"
   ]
  },
  {
   "cell_type": "code",
   "execution_count": 63,
   "metadata": {},
   "outputs": [
    {
     "name": "stdout",
     "output_type": "stream",
     "text": [
      "Column artist contains 58392 null values\n",
      "Column auth contains 0 null values\n",
      "Column firstName contains 8346 null values\n",
      "Column gender contains 8346 null values\n",
      "Column itemInSession contains 0 null values\n",
      "Column lastName contains 8346 null values\n",
      "Column length contains 58392 null values\n",
      "Column level contains 0 null values\n",
      "Column location contains 8346 null values\n",
      "Column method contains 0 null values\n",
      "Column page contains 0 null values\n",
      "Column registration contains 8346 null values\n",
      "Column sessionId contains 0 null values\n",
      "Column song contains 58392 null values\n",
      "Column status contains 0 null values\n",
      "Column ts contains 0 null values\n",
      "Column userAgent contains 8346 null values\n",
      "Column userId contains 0 null values\n",
      "Column churn contains 0 null values\n"
     ]
    }
   ],
   "source": [
    "for column in df.columns:\n",
    "    print(\"Column {} contains {} null values\".format(column, df.where(col(column).isNull()).count()))"
   ]
  },
  {
   "cell_type": "markdown",
   "metadata": {},
   "source": [
    "So it looks like some of the values are nulls. We can see that number of different values are the same across all columns, let's see what can be cause of this situation.\n",
    "\n",
    "Let's check if the same number null values have correclation with columns."
   ]
  },
  {
   "cell_type": "code",
   "execution_count": 64,
   "metadata": {},
   "outputs": [
    {
     "data": {
      "text/plain": [
       "[Row(page='Cancel'),\n",
       " Row(page='Submit Downgrade'),\n",
       " Row(page='Thumbs Down'),\n",
       " Row(page='Home'),\n",
       " Row(page='Downgrade'),\n",
       " Row(page='Roll Advert'),\n",
       " Row(page='Logout'),\n",
       " Row(page='Save Settings'),\n",
       " Row(page='Cancellation Confirmation'),\n",
       " Row(page='About'),\n",
       " Row(page='Submit Registration'),\n",
       " Row(page='Settings'),\n",
       " Row(page='Login'),\n",
       " Row(page='Register'),\n",
       " Row(page='Add to Playlist'),\n",
       " Row(page='Add Friend'),\n",
       " Row(page='Thumbs Up'),\n",
       " Row(page='Help'),\n",
       " Row(page='Upgrade'),\n",
       " Row(page='Error'),\n",
       " Row(page='Submit Upgrade')]"
      ]
     },
     "execution_count": 64,
     "metadata": {},
     "output_type": "execute_result"
    }
   ],
   "source": [
    "df.select(\"page\").where((col(\"artist\").isNull()) | (col(\"length\").isNull()) | (col(\"song\").isNull())).dropDuplicates().collect()"
   ]
  },
  {
   "cell_type": "markdown",
   "metadata": {},
   "source": [
    "So these pages are not connected with playing a song at all, that's then understandable why the 'artist', 'length' and 'song' columns contain null values - they are not existing is such situation.\n",
    "\n",
    "Now let's see the columns for first and last name, gender and userAgent."
   ]
  },
  {
   "cell_type": "code",
   "execution_count": 65,
   "metadata": {},
   "outputs": [
    {
     "data": {
      "text/plain": [
       "[Row(page='Home'),\n",
       " Row(page='About'),\n",
       " Row(page='Submit Registration'),\n",
       " Row(page='Login'),\n",
       " Row(page='Register'),\n",
       " Row(page='Help'),\n",
       " Row(page='Error')]"
      ]
     },
     "execution_count": 65,
     "metadata": {},
     "output_type": "execute_result"
    }
   ],
   "source": [
    "df.select(\"page\").where((col(\"firstName\").isNull()) | (col(\"gender\").isNull()) | (col(\"lastName\").isNull()) | (col(\"location\").isNull()) | (col(\"registration\").isNull()) | (col(\"userAgent\").isNull())).dropDuplicates().collect()"
   ]
  },
  {
   "cell_type": "markdown",
   "metadata": {},
   "source": [
    "So the reason why these columns contains null values is that, the events are connected to the operations done by the users out of the logged session."
   ]
  },
  {
   "cell_type": "markdown",
   "metadata": {},
   "source": [
    "### How many users churned from the service?"
   ]
  },
  {
   "cell_type": "code",
   "execution_count": 66,
   "metadata": {},
   "outputs": [
    {
     "name": "stdout",
     "output_type": "stream",
     "text": [
      "Number of churned users: 52\n",
      "Number of downgraded users: 49\n",
      "Number of staying users: 134\n"
     ]
    }
   ],
   "source": [
    "print(\"Number of churned users: {}\".format(df.filter(isInChurn(df.userId)).select(\"userId\").dropDuplicates().count()))\n",
    "print(\"Number of downgraded users: {}\".format(df.filter(isInDowngraded(df.userId)).select(\"userId\").dropDuplicates().count()))\n",
    "print(\"Number of staying users: {}\".format(df.filter(notInChurn(df.userId)).select(\"userId\").dropDuplicates().count()))"
   ]
  },
  {
   "cell_type": "markdown",
   "metadata": {},
   "source": [
    "So it looks like for the sparkify mini event data less users had events `Submit Downgrade` or `Cancellation Confirmation` from users which didn't take that options, however there can be users that returned to the service after leaving it e.g. downgraded from premium and still were using it for free - this situation allow us only to get money from advertisements during the free sessions."
   ]
  },
  {
   "cell_type": "markdown",
   "metadata": {},
   "source": [
    "### How churn rate distribute over genders?\n",
    "\n",
    "Let's see which users of which gender are more likely to churn. First let's get the dataframe of churn users."
   ]
  },
  {
   "cell_type": "code",
   "execution_count": 67,
   "metadata": {},
   "outputs": [
    {
     "data": {
      "text/html": [
       "<div>\n",
       "<style scoped>\n",
       "    .dataframe tbody tr th:only-of-type {\n",
       "        vertical-align: middle;\n",
       "    }\n",
       "\n",
       "    .dataframe tbody tr th {\n",
       "        vertical-align: top;\n",
       "    }\n",
       "\n",
       "    .dataframe thead th {\n",
       "        text-align: right;\n",
       "    }\n",
       "</style>\n",
       "<table border=\"1\" class=\"dataframe\">\n",
       "  <thead>\n",
       "    <tr style=\"text-align: right;\">\n",
       "      <th></th>\n",
       "      <th>userId</th>\n",
       "      <th>gender</th>\n",
       "      <th>churn</th>\n",
       "    </tr>\n",
       "  </thead>\n",
       "  <tbody>\n",
       "    <tr>\n",
       "      <th>0</th>\n",
       "      <td>125</td>\n",
       "      <td>M</td>\n",
       "      <td>0</td>\n",
       "    </tr>\n",
       "    <tr>\n",
       "      <th>1</th>\n",
       "      <td>51</td>\n",
       "      <td>M</td>\n",
       "      <td>0</td>\n",
       "    </tr>\n",
       "    <tr>\n",
       "      <th>2</th>\n",
       "      <td>54</td>\n",
       "      <td>F</td>\n",
       "      <td>0</td>\n",
       "    </tr>\n",
       "    <tr>\n",
       "      <th>3</th>\n",
       "      <td>100014</td>\n",
       "      <td>M</td>\n",
       "      <td>0</td>\n",
       "    </tr>\n",
       "    <tr>\n",
       "      <th>4</th>\n",
       "      <td>101</td>\n",
       "      <td>M</td>\n",
       "      <td>0</td>\n",
       "    </tr>\n",
       "  </tbody>\n",
       "</table>\n",
       "</div>"
      ],
      "text/plain": [
       "   userId gender  churn\n",
       "0     125      M      0\n",
       "1      51      M      0\n",
       "2      54      F      0\n",
       "3  100014      M      0\n",
       "4     101      M      0"
      ]
     },
     "execution_count": 67,
     "metadata": {},
     "output_type": "execute_result"
    }
   ],
   "source": [
    "users_ch=df.filter(isInChurn(df.userId)).select(\"userId\", \"gender\", \"churn\").dropDuplicates([\"userId\"]).toPandas()\n",
    "users_ch.head()"
   ]
  },
  {
   "cell_type": "markdown",
   "metadata": {},
   "source": [
    "But what is it? The `churn` column contains 0? Indeed it's because we filter out the users with Id's that performed downgrade of the account and due to `dropDuplicates()` the information about churn for downgrade was missed. Let's fix it for the sake of answering the question."
   ]
  },
  {
   "cell_type": "code",
   "execution_count": 68,
   "metadata": {},
   "outputs": [
    {
     "data": {
      "text/html": [
       "<div>\n",
       "<style scoped>\n",
       "    .dataframe tbody tr th:only-of-type {\n",
       "        vertical-align: middle;\n",
       "    }\n",
       "\n",
       "    .dataframe tbody tr th {\n",
       "        vertical-align: top;\n",
       "    }\n",
       "\n",
       "    .dataframe thead th {\n",
       "        text-align: right;\n",
       "    }\n",
       "</style>\n",
       "<table border=\"1\" class=\"dataframe\">\n",
       "  <thead>\n",
       "    <tr style=\"text-align: right;\">\n",
       "      <th></th>\n",
       "      <th>userId</th>\n",
       "      <th>gender</th>\n",
       "      <th>churn</th>\n",
       "    </tr>\n",
       "  </thead>\n",
       "  <tbody>\n",
       "    <tr>\n",
       "      <th>0</th>\n",
       "      <td>125</td>\n",
       "      <td>M</td>\n",
       "      <td>2</td>\n",
       "    </tr>\n",
       "    <tr>\n",
       "      <th>1</th>\n",
       "      <td>51</td>\n",
       "      <td>M</td>\n",
       "      <td>2</td>\n",
       "    </tr>\n",
       "    <tr>\n",
       "      <th>2</th>\n",
       "      <td>54</td>\n",
       "      <td>F</td>\n",
       "      <td>2</td>\n",
       "    </tr>\n",
       "    <tr>\n",
       "      <th>3</th>\n",
       "      <td>100014</td>\n",
       "      <td>M</td>\n",
       "      <td>2</td>\n",
       "    </tr>\n",
       "    <tr>\n",
       "      <th>4</th>\n",
       "      <td>101</td>\n",
       "      <td>M</td>\n",
       "      <td>2</td>\n",
       "    </tr>\n",
       "  </tbody>\n",
       "</table>\n",
       "</div>"
      ],
      "text/plain": [
       "   userId gender  churn\n",
       "0     125      M      2\n",
       "1      51      M      2\n",
       "2      54      F      2\n",
       "3  100014      M      2\n",
       "4     101      M      2"
      ]
     },
     "execution_count": 68,
     "metadata": {},
     "output_type": "execute_result"
    }
   ],
   "source": [
    "users_ch[\"churn\"] = 2\n",
    "users_ch.head()"
   ]
  },
  {
   "cell_type": "markdown",
   "metadata": {},
   "source": [
    "Now, let's do the same for downgraded users."
   ]
  },
  {
   "cell_type": "code",
   "execution_count": 69,
   "metadata": {},
   "outputs": [
    {
     "data": {
      "text/html": [
       "<div>\n",
       "<style scoped>\n",
       "    .dataframe tbody tr th:only-of-type {\n",
       "        vertical-align: middle;\n",
       "    }\n",
       "\n",
       "    .dataframe tbody tr th {\n",
       "        vertical-align: top;\n",
       "    }\n",
       "\n",
       "    .dataframe thead th {\n",
       "        text-align: right;\n",
       "    }\n",
       "</style>\n",
       "<table border=\"1\" class=\"dataframe\">\n",
       "  <thead>\n",
       "    <tr style=\"text-align: right;\">\n",
       "      <th></th>\n",
       "      <th>userId</th>\n",
       "      <th>gender</th>\n",
       "      <th>churn</th>\n",
       "    </tr>\n",
       "  </thead>\n",
       "  <tbody>\n",
       "    <tr>\n",
       "      <th>0</th>\n",
       "      <td>54</td>\n",
       "      <td>F</td>\n",
       "      <td>1</td>\n",
       "    </tr>\n",
       "    <tr>\n",
       "      <th>1</th>\n",
       "      <td>11</td>\n",
       "      <td>F</td>\n",
       "      <td>1</td>\n",
       "    </tr>\n",
       "    <tr>\n",
       "      <th>2</th>\n",
       "      <td>30</td>\n",
       "      <td>M</td>\n",
       "      <td>1</td>\n",
       "    </tr>\n",
       "    <tr>\n",
       "      <th>3</th>\n",
       "      <td>59</td>\n",
       "      <td>M</td>\n",
       "      <td>1</td>\n",
       "    </tr>\n",
       "    <tr>\n",
       "      <th>4</th>\n",
       "      <td>85</td>\n",
       "      <td>M</td>\n",
       "      <td>1</td>\n",
       "    </tr>\n",
       "  </tbody>\n",
       "</table>\n",
       "</div>"
      ],
      "text/plain": [
       "  userId gender  churn\n",
       "0     54      F      1\n",
       "1     11      F      1\n",
       "2     30      M      1\n",
       "3     59      M      1\n",
       "4     85      M      1"
      ]
     },
     "execution_count": 69,
     "metadata": {},
     "output_type": "execute_result"
    }
   ],
   "source": [
    "users_dw=df.filter(isInDowngraded(df.userId)).select(\"userId\", \"gender\", \"churn\").dropDuplicates([\"userId\"]).toPandas()\n",
    "users_dw[\"churn\"] = 1\n",
    "users_dw.head()"
   ]
  },
  {
   "cell_type": "code",
   "execution_count": 70,
   "metadata": {},
   "outputs": [],
   "source": [
    "users_gender = pd.concat([users_ch, users_dw,\\\n",
    "                                   df.filter(notInChurn(df.userId)).select(\"userId\", \"gender\", \"location\", \"churn\").dropDuplicates([\"userId\"]).toPandas()], axis=0)"
   ]
  },
  {
   "cell_type": "code",
   "execution_count": 71,
   "metadata": {},
   "outputs": [
    {
     "data": {
      "image/png": "[encoded data removed]",
      "text/plain": [
       "<Figure size 432x288 with 1 Axes>"
      ]
     },
     "metadata": {
      "needs_background": "light"
     },
     "output_type": "display_data"
    }
   ],
   "source": [
    "plt.clf()\n",
    "ax = sns.countplot(x=\"gender\", hue=\"churn\", data=users_gender)\n",
    "plt.show()"
   ]
  },
  {
   "cell_type": "markdown",
   "metadata": {},
   "source": [
    "So we can see that there are slightly more male users that churn from the service, but based on the proportion in both columns it's hard to tell if gender determines the churn.\n",
    "\n",
    "Now let's clear this pandas dataframe."
   ]
  },
  {
   "cell_type": "code",
   "execution_count": 72,
   "metadata": {},
   "outputs": [],
   "source": [
    "users_gender.drop(users_gender.index, inplace=True)\n",
    "users_ch.drop(users_ch.index, inplace=True)\n",
    "users_dw.drop(users_dw.index, inplace=True)"
   ]
  },
  {
   "cell_type": "markdown",
   "metadata": {},
   "source": [
    "### How many users were still using the service after churn?\n",
    "\n",
    "To answer for this question let's collect the users with churned by history of their events with ascending timestamp, to know how everything grew."
   ]
  },
  {
   "cell_type": "code",
   "execution_count": 73,
   "metadata": {},
   "outputs": [],
   "source": [
    "churned_users = [df.select(\"*\").where(col(\"userId\") == row).sort('ts').collect() for row in (churned_ids+downgraded_ids)]"
   ]
  },
  {
   "cell_type": "code",
   "execution_count": 74,
   "metadata": {},
   "outputs": [],
   "source": [
    "staying_ids = df.filter(notInChurn(df.userId)).select(\"userId\").dropDuplicates().collect()\n",
    "staying_ids = [i.userId for i in staying_ids]\n",
    "\n",
    "staying_users = [df.select(\"*\").where(col(\"userId\") == row).sort('ts').collect() for row in staying_ids]"
   ]
  },
  {
   "cell_type": "markdown",
   "metadata": {},
   "source": [
    "Now let's see is some users still were using the service after `Downgrading`. After cancellation the user has removed account and has different id, so it's not trivial task to find such a user."
   ]
  },
  {
   "cell_type": "code",
   "execution_count": 75,
   "metadata": {},
   "outputs": [
    {
     "name": "stdout",
     "output_type": "stream",
     "text": [
      "Number of users that downgraded churn: 58, so the downgrading users are 57.42574257425742% of churned users.\n"
     ]
    }
   ],
   "source": [
    "back_ids = []\n",
    "for user in churned_users:\n",
    "    churned_row = False\n",
    "    r = None\n",
    "    for row in user:\n",
    "        if row.page == \"Submit Downgrade\":\n",
    "            churned_row = True\n",
    "            r = row\n",
    "            continue\n",
    "        if row.churn == 0 and churned_row == True and row.song != None:\n",
    "            back_ids.append(row.userId)\n",
    "            break\n",
    "            \n",
    "print(\"Number of users that downgraded churn: {}, so the downgrading users are {}% of churned users.\".format(len(back_ids), (len(back_ids)/len(churned_users))*100))"
   ]
  },
  {
   "cell_type": "markdown",
   "metadata": {},
   "source": [
    "### How different pages relates to churn?\n",
    "\n",
    "Let's gather the following events and check how they looks like for churn and not churn users. Let's calculate number of interactions with the all of the available pages.\n",
    "\n",
    "When creating dataset if the churned user is churn by downgrading we need to take only the data until the downgrade, as after downgrade he may behave different from users that are on free model, but never go to premium and then downgraded."
   ]
  },
  {
   "cell_type": "code",
   "execution_count": 76,
   "metadata": {},
   "outputs": [
    {
     "data": {
      "text/plain": [
       "['Cancel',\n",
       " 'Submit Downgrade',\n",
       " 'Thumbs Down',\n",
       " 'Home',\n",
       " 'Downgrade',\n",
       " 'Roll Advert',\n",
       " 'Logout',\n",
       " 'Save Settings',\n",
       " 'Cancellation Confirmation',\n",
       " 'About',\n",
       " 'Submit Registration',\n",
       " 'Settings',\n",
       " 'Login',\n",
       " 'Register',\n",
       " 'Add to Playlist',\n",
       " 'Add Friend',\n",
       " 'NextSong',\n",
       " 'Thumbs Up',\n",
       " 'Help',\n",
       " 'Upgrade',\n",
       " 'Error',\n",
       " 'Submit Upgrade']"
      ]
     },
     "execution_count": 76,
     "metadata": {},
     "output_type": "execute_result"
    }
   ],
   "source": [
    "pages = df.select(\"page\").dropDuplicates().collect()\n",
    "pages = [x.page for x in pages]\n",
    "pages"
   ]
  },
  {
   "cell_type": "code",
   "execution_count": 77,
   "metadata": {},
   "outputs": [],
   "source": [
    "def takeUserDowngradeTimestamp(churned_user_id):\n",
    "    timestamp = df.select('ts').where((df.userId == churned_user_id) & (df.page == \"Submit Downgrade\")).dropDuplicates().collect()\n",
    "    if len(timestamp) == 0:\n",
    "        return 0\n",
    "    return timestamp[0].ts"
   ]
  },
  {
   "cell_type": "code",
   "execution_count": 80,
   "metadata": {},
   "outputs": [],
   "source": [
    "#### TODO CREATE PER ALL PAGES\n",
    "\n",
    "def createUserPandasDataset(user_ids, churnValue):\n",
    "    dataframe = pd.DataFrame(data={'userId': user_ids, 'churn': [churnValue] * len(user_ids)})\n",
    "    thumbs_up = []\n",
    "    thumbs_down = []\n",
    "    add_to_playlist = []\n",
    "    next_song = []\n",
    "    error = []\n",
    "    add_friend = []\n",
    "    downgrade = []\n",
    "    upgrade = []\n",
    "    settings = []\n",
    "    for user_id in user_ids:\n",
    "        if (churnValue == 1 or churnValue == 2):\n",
    "            ts = takeUserDowngradeTimestamp(user_id)\n",
    "            if ts != 0:\n",
    "                thumbs_up.append(df.select('page').where((df.userId == user_id) & (df.page == 'Thumbs Up') & (df.ts < ts)).count())\n",
    "                thumbs_down.append(df.select('page').where((df.userId == user_id) & (df.page == 'Thumbs Down') & (df.ts < ts)).count())\n",
    "                add_to_playlist.append(df.select('page').where((df.userId == user_id) & (df.page == 'Add to Playlist') & (df.ts < ts)).count())\n",
    "                next_song.append(df.select('page').where((df.userId == user_id) & (df.page == 'NextSong') & (df.ts < ts)).count())\n",
    "                error.append(df.select('page').where((df.userId == user_id) & (df.page == 'Error') & (df.ts < ts)).count())\n",
    "                add_friend.append(df.select('page').where((df.userId == user_id) & (df.page == 'Add Friend') & (df.ts < ts)).count())\n",
    "                downgrade.append(df.select('page').where((df.userId == user_id) & (df.page == 'Downgrade') & (df.ts < ts)).count())\n",
    "                upgrade.append(df.select('page').where((df.userId == user_id) & (df.page == 'Upgrade') & (df.ts < ts)).count())\n",
    "                settings.append(df.select('page').where((df.userId == user_id) & (df.page == 'Settings') & (df.ts < ts)).count())\n",
    "                continue\n",
    "\n",
    "        thumbs_up.append(df.select('page').where((df.userId == user_id) & (df.page == 'Thumbs Up')).count())\n",
    "        thumbs_down.append(df.select('page').where((df.userId == user_id) & (df.page == 'Thumbs Down')).count())\n",
    "        add_to_playlist.append(df.select('page').where((df.userId == user_id) & (df.page == 'Add to Playlist')).count())\n",
    "        next_song.append(df.select('page').where((df.userId == user_id) & (df.page == 'NextSong')).count())\n",
    "        error.append(df.select('page').where((df.userId == user_id) & (df.page == 'Error')).count())\n",
    "        add_friend.append(df.select('page').where((df.userId == user_id) & (df.page == 'Add Friend')).count())\n",
    "        downgrade.append(df.select('page').where((df.userId == user_id) & (df.page == 'Downgrade')).count())\n",
    "        upgrade.append(df.select('page').where((df.userId == user_id) & (df.page == 'Upgrade')).count())\n",
    "        settings.append(df.select('page').where((df.userId == user_id) & (df.page == 'Settings')).count())\n",
    "    dataframe[\"thumbs up\"] = thumbs_up\n",
    "    dataframe[\"thumbs down\"] = thumbs_down\n",
    "    dataframe[\"add to playlist\"] = add_to_playlist\n",
    "    dataframe[\"next song\"] = next_song\n",
    "    dataframe[\"error\"] = error\n",
    "    dataframe[\"add friend\"] = add_friend\n",
    "    dataframe[\"downgrade\"] = downgrade\n",
    "    dataframe[\"upgrade\"] = upgrade\n",
    "    dataframe[\"settings\"] = settings\n",
    "    return dataframe"
   ]
  },
  {
   "cell_type": "code",
   "execution_count": 81,
   "metadata": {},
   "outputs": [],
   "source": [
    "churned_df = createUserPandasDataset(churned_ids, 2)\n",
    "downgraded_df = createUserPandasDataset(downgraded_ids, 1)\n",
    "staying_df = createUserPandasDataset(staying_ids, 0)"
   ]
  },
  {
   "cell_type": "code",
   "execution_count": 82,
   "metadata": {},
   "outputs": [],
   "source": [
    "users_df = pd.concat([churned_df, staying_df, downgraded_df])\n",
    "churned_df.drop(churned_df.index, inplace=True)\n",
    "downgraded_df.drop(downgraded_df.index, inplace=True)\n",
    "staying_df.drop(staying_df.index, inplace=True)"
   ]
  },
  {
   "cell_type": "code",
   "execution_count": 83,
   "metadata": {},
   "outputs": [
    {
     "data": {
      "text/html": [
       "<div>\n",
       "<style scoped>\n",
       "    .dataframe tbody tr th:only-of-type {\n",
       "        vertical-align: middle;\n",
       "    }\n",
       "\n",
       "    .dataframe tbody tr th {\n",
       "        vertical-align: top;\n",
       "    }\n",
       "\n",
       "    .dataframe thead th {\n",
       "        text-align: right;\n",
       "    }\n",
       "</style>\n",
       "<table border=\"1\" class=\"dataframe\">\n",
       "  <thead>\n",
       "    <tr style=\"text-align: right;\">\n",
       "      <th></th>\n",
       "      <th>userId</th>\n",
       "      <th>churn</th>\n",
       "      <th>thumbs up</th>\n",
       "      <th>thumbs down</th>\n",
       "      <th>add to playlist</th>\n",
       "      <th>next song</th>\n",
       "      <th>error</th>\n",
       "      <th>add friend</th>\n",
       "      <th>downgrade</th>\n",
       "      <th>upgrade</th>\n",
       "      <th>settings</th>\n",
       "    </tr>\n",
       "  </thead>\n",
       "  <tbody>\n",
       "    <tr>\n",
       "      <th>0</th>\n",
       "      <td>125</td>\n",
       "      <td>2</td>\n",
       "      <td>0</td>\n",
       "      <td>0</td>\n",
       "      <td>0</td>\n",
       "      <td>8</td>\n",
       "      <td>0</td>\n",
       "      <td>0</td>\n",
       "      <td>0</td>\n",
       "      <td>0</td>\n",
       "      <td>0</td>\n",
       "    </tr>\n",
       "    <tr>\n",
       "      <th>1</th>\n",
       "      <td>51</td>\n",
       "      <td>2</td>\n",
       "      <td>100</td>\n",
       "      <td>21</td>\n",
       "      <td>52</td>\n",
       "      <td>2111</td>\n",
       "      <td>1</td>\n",
       "      <td>28</td>\n",
       "      <td>23</td>\n",
       "      <td>0</td>\n",
       "      <td>12</td>\n",
       "    </tr>\n",
       "    <tr>\n",
       "      <th>2</th>\n",
       "      <td>54</td>\n",
       "      <td>2</td>\n",
       "      <td>69</td>\n",
       "      <td>9</td>\n",
       "      <td>39</td>\n",
       "      <td>1420</td>\n",
       "      <td>1</td>\n",
       "      <td>21</td>\n",
       "      <td>19</td>\n",
       "      <td>0</td>\n",
       "      <td>5</td>\n",
       "    </tr>\n",
       "    <tr>\n",
       "      <th>3</th>\n",
       "      <td>100014</td>\n",
       "      <td>2</td>\n",
       "      <td>17</td>\n",
       "      <td>3</td>\n",
       "      <td>7</td>\n",
       "      <td>257</td>\n",
       "      <td>0</td>\n",
       "      <td>6</td>\n",
       "      <td>3</td>\n",
       "      <td>0</td>\n",
       "      <td>1</td>\n",
       "    </tr>\n",
       "    <tr>\n",
       "      <th>4</th>\n",
       "      <td>101</td>\n",
       "      <td>2</td>\n",
       "      <td>86</td>\n",
       "      <td>16</td>\n",
       "      <td>61</td>\n",
       "      <td>1797</td>\n",
       "      <td>3</td>\n",
       "      <td>29</td>\n",
       "      <td>22</td>\n",
       "      <td>1</td>\n",
       "      <td>9</td>\n",
       "    </tr>\n",
       "  </tbody>\n",
       "</table>\n",
       "</div>"
      ],
      "text/plain": [
       "   userId  churn  thumbs up  thumbs down  add to playlist  next song  error  \\\n",
       "0     125      2          0            0                0          8      0   \n",
       "1      51      2        100           21               52       2111      1   \n",
       "2      54      2         69            9               39       1420      1   \n",
       "3  100014      2         17            3                7        257      0   \n",
       "4     101      2         86           16               61       1797      3   \n",
       "\n",
       "   add friend  downgrade  upgrade  settings  \n",
       "0           0          0        0         0  \n",
       "1          28         23        0        12  \n",
       "2          21         19        0         5  \n",
       "3           6          3        0         1  \n",
       "4          29         22        1         9  "
      ]
     },
     "execution_count": 83,
     "metadata": {},
     "output_type": "execute_result"
    }
   ],
   "source": [
    "users_df.head()"
   ]
  },
  {
   "cell_type": "code",
   "execution_count": 84,
   "metadata": {},
   "outputs": [],
   "source": [
    "users_df.to_pickle(\"data/users_df.pkl\")"
   ]
  },
  {
   "cell_type": "code",
   "execution_count": 85,
   "metadata": {},
   "outputs": [
    {
     "data": {
      "image/png": "[encoded data removed]",
      "text/plain": [
       "<Figure size 360x360 with 6 Axes>"
      ]
     },
     "metadata": {
      "needs_background": "light"
     },
     "output_type": "display_data"
    },
    {
     "name": "stdout",
     "output_type": "stream",
     "text": [
      "****************************************\n"
     ]
    },
    {
     "data": {
      "image/png": "[encoded data removed]",
      "text/plain": [
       "<Figure size 360x360 with 6 Axes>"
      ]
     },
     "metadata": {
      "needs_background": "light"
     },
     "output_type": "display_data"
    },
    {
     "name": "stdout",
     "output_type": "stream",
     "text": [
      "****************************************\n"
     ]
    },
    {
     "data": {
      "image/png": "[encoded data removed]",
      "text/plain": [
       "<Figure size 360x360 with 6 Axes>"
      ]
     },
     "metadata": {
      "needs_background": "light"
     },
     "output_type": "display_data"
    },
    {
     "name": "stdout",
     "output_type": "stream",
     "text": [
      "****************************************\n"
     ]
    },
    {
     "data": {
      "image/png": "[encoded data removed]",
      "text/plain": [
       "<Figure size 360x360 with 6 Axes>"
      ]
     },
     "metadata": {
      "needs_background": "light"
     },
     "output_type": "display_data"
    },
    {
     "name": "stdout",
     "output_type": "stream",
     "text": [
      "****************************************\n"
     ]
    },
    {
     "data": {
      "image/png": "[encoded data removed]",
      "text/plain": [
       "<Figure size 360x360 with 6 Axes>"
      ]
     },
     "metadata": {
      "needs_background": "light"
     },
     "output_type": "display_data"
    },
    {
     "name": "stdout",
     "output_type": "stream",
     "text": [
      "****************************************\n"
     ]
    },
    {
     "data": {
      "image/png": "[encoded data removed]",
      "text/plain": [
       "<Figure size 360x360 with 6 Axes>"
      ]
     },
     "metadata": {
      "needs_background": "light"
     },
     "output_type": "display_data"
    },
    {
     "name": "stdout",
     "output_type": "stream",
     "text": [
      "****************************************\n"
     ]
    },
    {
     "data": {
      "image/png": "[encoded data removed]",
      "text/plain": [
       "<Figure size 360x360 with 6 Axes>"
      ]
     },
     "metadata": {
      "needs_background": "light"
     },
     "output_type": "display_data"
    },
    {
     "name": "stdout",
     "output_type": "stream",
     "text": [
      "****************************************\n"
     ]
    },
    {
     "data": {
      "image/png": "[encoded data removed]",
      "text/plain": [
       "<Figure size 360x360 with 6 Axes>"
      ]
     },
     "metadata": {
      "needs_background": "light"
     },
     "output_type": "display_data"
    },
    {
     "name": "stdout",
     "output_type": "stream",
     "text": [
      "****************************************\n"
     ]
    },
    {
     "data": {
      "image/png": "[encoded data removed]",
      "text/plain": [
       "<Figure size 360x360 with 6 Axes>"
      ]
     },
     "metadata": {
      "needs_background": "light"
     },
     "output_type": "display_data"
    },
    {
     "name": "stdout",
     "output_type": "stream",
     "text": [
      "****************************************\n"
     ]
    }
   ],
   "source": [
    "columns = ['thumbs up','thumbs down','add to playlist','next song','error','add friend','downgrade','upgrade','settings']\n",
    "for column in columns:\n",
    "    sns.pairplot(users_df, vars=[column,\"churn\"])\n",
    "    plt.show()\n",
    "    print(\"****************************************\")"
   ]
  },
  {
   "cell_type": "markdown",
   "metadata": {},
   "source": [
    "### Which features may be important?\n",
    "\n",
    "Based on gender check done above, I would not use that feature in the feature engineering as the gender was not showing significant change in the churn or stay for the users.\n",
    "\n",
    "Based on the pair diagrams we can tell that the following pages can help with distinguish the churn and staying users:\n",
    "* Thumbs up \n",
    "* Thumbs down\n",
    "* Add to playlist\n",
    "* Next song\n",
    "* Add friend\n",
    "* Downgrade\n",
    "* Settings"
   ]
  },
  {
   "cell_type": "markdown",
   "metadata": {},
   "source": [
    "# Feature Engineering\n",
    "Once you've familiarized yourself with the data, build out the features you find promising to train your model on. To work with the full dataset, you can follow the following steps.\n",
    "- Write a script to extract the necessary features from the smaller subset of data\n",
    "- Ensure that your script is scalable, using the best practices discussed in Lesson 3\n",
    "- Try your script on the full data set, debugging your script if necessary\n",
    "\n",
    "If you are working in the classroom workspace, you can just extract features based on the small subset of data contained here. Be sure to transfer over this work to the larger dataset when you work on your Spark cluster."
   ]
  },
  {
   "cell_type": "markdown",
   "metadata": {},
   "source": [
    "### Calculated number of usages per used pages\n",
    "\n",
    "For convinience - to avoid doing the smae code in Spark like we did for Pandas, let's re-use the pandas dataframe with number of accesses to relevant pages from previous section. \n",
    "\n",
    "Columns taken to dataframe are chosen based on observations of pair diagrams done in previous section. This dataframe structure will be used for classifier based on machine learning models."
   ]
  },
  {
   "cell_type": "code",
   "execution_count": 86,
   "metadata": {},
   "outputs": [],
   "source": [
    "columns = ['userId','churn','thumbs up', 'thumbs down', 'add to playlist', 'next song', 'add friend', 'downgrade', 'settings']\n",
    "\n",
    "users_df = pd.read_pickle(\"data/users_df.pkl\")"
   ]
  },
  {
   "cell_type": "code",
   "execution_count": 87,
   "metadata": {},
   "outputs": [
    {
     "name": "stdout",
     "output_type": "stream",
     "text": [
      "+------+-----+---------+-----------+---------------+---------+----------+---------+--------+\n",
      "|userId|churn|thumbs up|thumbs down|add to playlist|next song|add friend|downgrade|settings|\n",
      "+------+-----+---------+-----------+---------------+---------+----------+---------+--------+\n",
      "|   156|    0|        0|          0|              0|        3|         0|        0|       1|\n",
      "|   152|    0|       81|         12|             43|     1409|        24|        8|       9|\n",
      "|200001|    2|       10|          1|              3|      115|         0|        0|       6|\n",
      "|100010|    0|       17|          5|              7|      275|         4|        0|       0|\n",
      "|    25|    1|       64|         11|             36|     1263|        28|       11|       5|\n",
      "+------+-----+---------+-----------+---------------+---------+----------+---------+--------+\n",
      "only showing top 5 rows\n",
      "\n"
     ]
    }
   ],
   "source": [
    "df_usages = spark.createDataFrame(users_df[columns])\n",
    "df_usages = df_usages.orderBy(rand())\n",
    "df_usages.show(5)"
   ]
  },
  {
   "cell_type": "markdown",
   "metadata": {},
   "source": [
    "# Modeling\n",
    "Split the full dataset into train, test, and validation sets. Test out several of the machine learning methods you learned. Evaluate the accuracy of the various models, tuning parameters as necessary. Determine your winning model based on test accuracy and report results on the validation set. Since the churned users are a fairly small subset, I suggest using F1 score as the metric to optimize.\n",
    "\n",
    "First let's split the dataset with 80% elements in training set and 20% in test set."
   ]
  },
  {
   "cell_type": "code",
   "execution_count": 88,
   "metadata": {},
   "outputs": [],
   "source": [
    "trainingData, testData = df_usages.randomSplit([0.8, 0.2], seed=42)"
   ]
  },
  {
   "cell_type": "markdown",
   "metadata": {},
   "source": [
    "Now let's set `VectorAssembler` to gather data from columns to `features` column and `StandardScaler` to scale these features."
   ]
  },
  {
   "cell_type": "code",
   "execution_count": 89,
   "metadata": {},
   "outputs": [],
   "source": [
    "vectorAssembler = VectorAssembler(inputCols=df_usages.schema.names[2:], outputCol=\"features\")\n",
    "standardScaler = StandardScaler(inputCol = 'features', outputCol = 'scaledFeatures')"
   ]
  },
  {
   "cell_type": "markdown",
   "metadata": {},
   "source": [
    "### First Model - Random Forest Classifier\n",
    "\n",
    "In first pipeline we'll use the Random Forst Classifier to determine whether the user will churn or not."
   ]
  },
  {
   "cell_type": "code",
   "execution_count": 90,
   "metadata": {},
   "outputs": [],
   "source": [
    "rf = RandomForestClassifier(labelCol=\"churn\", featuresCol=\"scaledFeatures\")"
   ]
  },
  {
   "cell_type": "code",
   "execution_count": 91,
   "metadata": {},
   "outputs": [],
   "source": [
    "pipeline = Pipeline(stages=[vectorAssembler, standardScaler, rf])\n",
    "\n",
    "paramGrid = ParamGridBuilder() \\\n",
    "    .addGrid(rf.numTrees, range(5, 65, 6)) \\\n",
    "    .build()\n",
    "\n",
    "\n",
    "crossval = CrossValidator(estimator=pipeline,\n",
    "                          estimatorParamMaps=paramGrid,\n",
    "                          evaluator=MulticlassClassificationEvaluator(labelCol=\"churn\"),\n",
    "                          numFolds=5)"
   ]
  },
  {
   "cell_type": "code",
   "execution_count": 92,
   "metadata": {},
   "outputs": [],
   "source": [
    "model = crossval.fit(trainingData)"
   ]
  },
  {
   "cell_type": "code",
   "execution_count": 93,
   "metadata": {},
   "outputs": [
    {
     "name": "stdout",
     "output_type": "stream",
     "text": [
      "Random Forest Classifier Accuracy: 58.82352941176471%\n"
     ]
    }
   ],
   "source": [
    "results = model.transform(testData)\n",
    "print(\"Random Forest Classifier Accuracy: {}%\".format((results.filter(results.churn == results.prediction).count()/results.count())*100))"
   ]
  },
  {
   "cell_type": "markdown",
   "metadata": {},
   "source": [
    "### Second Model - Logistic Regression\n",
    "\n",
    "Second model will use Logistic Regression to predict churn users."
   ]
  },
  {
   "cell_type": "code",
   "execution_count": 94,
   "metadata": {},
   "outputs": [],
   "source": [
    "lr = LogisticRegression(labelCol=\"churn\", featuresCol=\"scaledFeatures\")"
   ]
  },
  {
   "cell_type": "code",
   "execution_count": 95,
   "metadata": {},
   "outputs": [],
   "source": [
    "pipeline = Pipeline(stages=[vectorAssembler, standardScaler, lr])\n",
    "\n",
    "paramGrid = ParamGridBuilder() \\\n",
    "    .addGrid(lr.maxIter, range(2,22,2)) \\\n",
    "    .addGrid(lr.regParam, [0.1, 0.3, 0.5, 0.7, 0.9]) \\\n",
    "    .addGrid(lr.elasticNetParam, [0.1, 0.2, 0.3, 0.4, 0.5, 0.6, 0.7, 0.8, 0.9]) \\\n",
    "    .build()\n",
    "\n",
    "crossval = CrossValidator(estimator=pipeline,\n",
    "                          estimatorParamMaps=paramGrid,\n",
    "                          evaluator=MulticlassClassificationEvaluator(labelCol=\"churn\"),\n",
    "                          numFolds=5)"
   ]
  },
  {
   "cell_type": "code",
   "execution_count": 96,
   "metadata": {},
   "outputs": [],
   "source": [
    "model = crossval.fit(trainingData)"
   ]
  },
  {
   "cell_type": "code",
   "execution_count": 97,
   "metadata": {},
   "outputs": [
    {
     "name": "stdout",
     "output_type": "stream",
     "text": [
      "Logistic Regression Accuracy: 61.76470588235294%\n"
     ]
    }
   ],
   "source": [
    "results = model.transform(testData)\n",
    "print(\"Logistic Regression Accuracy: {}%\".format((results.filter(results.churn == results.prediction).count()/results.count())*100))"
   ]
  },
  {
   "cell_type": "markdown",
   "metadata": {},
   "source": [
    "### Third Model - Multilayer Perceptron Classifier\n",
    "\n",
    "Second model will use Multilayer Perceptrion to predict churn users."
   ]
  },
  {
   "cell_type": "code",
   "execution_count": 98,
   "metadata": {},
   "outputs": [],
   "source": [
    "mlp = MultilayerPerceptronClassifier(featuresCol='scaledFeatures', labelCol='churn', seed=42)"
   ]
  },
  {
   "cell_type": "code",
   "execution_count": 99,
   "metadata": {},
   "outputs": [],
   "source": [
    "pipeline = Pipeline(stages=[vectorAssembler, standardScaler, mlp])\n",
    "\n",
    "paramGrid = ParamGridBuilder() \\\n",
    "    .addGrid(mlp.maxIter, [100,150,200,250]) \\\n",
    "    .addGrid(mlp.blockSize, [8, 16, 32, 64, 128]) \\\n",
    "    .addGrid(mlp.layers, [[7,10,10,10,3],[7,20,20,20,3],[7,30,30,30,3],[7,30,30,30,3],[7,40,40,40,3]]) \\\n",
    "    .build()\n",
    "\n",
    "crossval = CrossValidator(estimator=pipeline,\n",
    "                          estimatorParamMaps=paramGrid,\n",
    "                          evaluator=MulticlassClassificationEvaluator(labelCol=\"churn\"),\n",
    "                          numFolds=5)"
   ]
  },
  {
   "cell_type": "code",
   "execution_count": 100,
   "metadata": {},
   "outputs": [],
   "source": [
    "model = crossval.fit(trainingData)"
   ]
  },
  {
   "cell_type": "code",
   "execution_count": 101,
   "metadata": {},
   "outputs": [
    {
     "name": "stdout",
     "output_type": "stream",
     "text": [
      "Multilayer Perceptron Accuracy: 61.76470588235294%\n"
     ]
    }
   ],
   "source": [
    "results = model.transform(testData)\n",
    "print(\"Multilayer Perceptron Accuracy: {}%\".format((results.filter(results.churn == results.prediction).count()/results.count())*100))"
   ]
  },
  {
   "cell_type": "markdown",
   "metadata": {},
   "source": [
    "# Final Steps\n",
    "Clean up your code, adding comments and renaming variables to make the code easier to read and maintain. Refer to the Spark Project Overview page and Data Scientist Capstone Project Rubric to make sure you are including all components of the capstone project and meet all expectations. Remember, this includes thorough documentation in a README file in a Github repository, as well as a web app or blog post."
   ]
  },
  {
   "cell_type": "code",
   "execution_count": null,
   "metadata": {},
   "outputs": [],
   "source": []
  }
 ],
 "metadata": {
  "kernelspec": {
   "display_name": "Python 3",
   "language": "python",
   "name": "python3"
  },
  "language_info": {
   "codemirror_mode": {
    "name": "ipython",
    "version": 3
   },
   "file_extension": ".py",
   "mimetype": "text/x-python",
   "name": "python",
   "nbconvert_exporter": "python",
   "pygments_lexer": "ipython3",
   "version": "3.7.6"
  }
 },
 "nbformat": 4,
 "nbformat_minor": 2
}
