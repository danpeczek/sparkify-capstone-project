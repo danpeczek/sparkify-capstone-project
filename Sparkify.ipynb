{
 "cells": [
  {
   "cell_type": "markdown",
   "metadata": {},
   "source": [
    "# Sparkify Project Workspace\n",
    "This workspace contains a tiny subset (128MB) of the full dataset available (12GB). Feel free to use this workspace to build your project, or to explore a smaller subset with Spark before deploying your cluster on the cloud. Instructions for setting up your Spark cluster is included in the last lesson of the Extracurricular Spark Course content.\n",
    "\n",
    "You can follow the steps below to guide your data analysis and model building portion of this project."
   ]
  },
  {
   "cell_type": "code",
   "execution_count": 1,
   "metadata": {},
   "outputs": [],
   "source": [
    "# import libraries\n",
    "from pyspark.sql import SparkSession\n",
    "from pyspark.sql.functions import udf\n",
    "from pyspark.sql.types import IntegerType"
   ]
  },
  {
   "cell_type": "code",
   "execution_count": 2,
   "metadata": {},
   "outputs": [],
   "source": [
    "spark = SparkSession.builder \\\n",
    "    .master(\"local\") \\\n",
    "    .appName(\"Sparkify\") \\\n",
    "    .getOrCreate()"
   ]
  },
  {
   "cell_type": "markdown",
   "metadata": {},
   "source": [
    "# Load and Clean Dataset\n",
    "In this workspace, the mini-dataset file is `mini_sparkify_event_data.json`. Load and clean the dataset, checking for invalid or missing data - for example, records without userids or sessionids. "
   ]
  },
  {
   "cell_type": "code",
   "execution_count": 3,
   "metadata": {},
   "outputs": [],
   "source": [
    "dataset_path = \"data/mini_sparkify_event_data.json\""
   ]
  },
  {
   "cell_type": "code",
   "execution_count": 4,
   "metadata": {},
   "outputs": [
    {
     "data": {
      "text/plain": [
       "DataFrame[artist: string, auth: string, firstName: string, gender: string, itemInSession: bigint, lastName: string, length: double, level: string, location: string, method: string, page: string, registration: bigint, sessionId: bigint, song: string, status: bigint, ts: bigint, userAgent: string, userId: string]"
      ]
     },
     "execution_count": 4,
     "metadata": {},
     "output_type": "execute_result"
    }
   ],
   "source": [
    "df = spark.read.json(dataset_path)\n",
    "df.persist()"
   ]
  },
  {
   "cell_type": "code",
   "execution_count": 5,
   "metadata": {},
   "outputs": [
    {
     "name": "stdout",
     "output_type": "stream",
     "text": [
      "root\n",
      " |-- artist: string (nullable = true)\n",
      " |-- auth: string (nullable = true)\n",
      " |-- firstName: string (nullable = true)\n",
      " |-- gender: string (nullable = true)\n",
      " |-- itemInSession: long (nullable = true)\n",
      " |-- lastName: string (nullable = true)\n",
      " |-- length: double (nullable = true)\n",
      " |-- level: string (nullable = true)\n",
      " |-- location: string (nullable = true)\n",
      " |-- method: string (nullable = true)\n",
      " |-- page: string (nullable = true)\n",
      " |-- registration: long (nullable = true)\n",
      " |-- sessionId: long (nullable = true)\n",
      " |-- song: string (nullable = true)\n",
      " |-- status: long (nullable = true)\n",
      " |-- ts: long (nullable = true)\n",
      " |-- userAgent: string (nullable = true)\n",
      " |-- userId: string (nullable = true)\n",
      "\n"
     ]
    }
   ],
   "source": [
    "df.printSchema()"
   ]
  },
  {
   "cell_type": "code",
   "execution_count": 6,
   "metadata": {},
   "outputs": [
    {
     "data": {
      "text/plain": [
       "[Row(artist=None, auth='Logged In', firstName='Alexi', gender='F', itemInSession=4, lastName='Warren', length=None, level='paid', location='Spokane-Spokane Valley, WA', method='GET', page='Downgrade', registration=1532482662000, sessionId=53, song=None, status=200, ts=1538354749000, userAgent='Mozilla/5.0 (Windows NT 6.1; WOW64; rv:32.0) Gecko/20100101 Firefox/32.0', userId='54'),\n",
       " Row(artist=None, auth='Logged In', firstName='Faigy', gender='F', itemInSession=29, lastName='Howe', length=None, level='paid', location='Phoenix-Mesa-Scottsdale, AZ', method='GET', page='Downgrade', registration=1538211832000, sessionId=248, song=None, status=200, ts=1538373286000, userAgent='Mozilla/5.0 (Macintosh; Intel Mac OS X 10.9; rv:31.0) Gecko/20100101 Firefox/31.0', userId='95'),\n",
       " Row(artist=None, auth='Logged In', firstName='Faigy', gender='F', itemInSession=115, lastName='Howe', length=None, level='paid', location='Phoenix-Mesa-Scottsdale, AZ', method='GET', page='Downgrade', registration=1538211832000, sessionId=248, song=None, status=200, ts=1538392612000, userAgent='Mozilla/5.0 (Macintosh; Intel Mac OS X 10.9; rv:31.0) Gecko/20100101 Firefox/31.0', userId='95'),\n",
       " Row(artist=None, auth='Logged In', firstName='Kael', gender='M', itemInSession=46, lastName='Baker', length=None, level='paid', location='Kingsport-Bristol-Bristol, TN-VA', method='GET', page='Downgrade', registration=1533102330000, sessionId=249, song=None, status=200, ts=1538393618000, userAgent='\"Mozilla/5.0 (Macintosh; Intel Mac OS X 10_9_4) AppleWebKit/537.77.4 (KHTML, like Gecko) Version/7.0.5 Safari/537.77.4\"', userId='131'),\n",
       " Row(artist=None, auth='Logged In', firstName='Faigy', gender='F', itemInSession=125, lastName='Howe', length=None, level='paid', location='Phoenix-Mesa-Scottsdale, AZ', method='GET', page='Downgrade', registration=1538211832000, sessionId=248, song=None, status=200, ts=1538393664000, userAgent='Mozilla/5.0 (Macintosh; Intel Mac OS X 10.9; rv:31.0) Gecko/20100101 Firefox/31.0', userId='95'),\n",
       " Row(artist=None, auth='Logged In', firstName='Grant', gender='M', itemInSession=119, lastName='Flores', length=None, level='paid', location='New York-Newark-Jersey City, NY-NJ-PA', method='GET', page='Downgrade', registration=1538120859000, sessionId=141, song=None, status=200, ts=1538394855000, userAgent='\"Mozilla/5.0 (Macintosh; Intel Mac OS X 10_9_4) AppleWebKit/537.36 (KHTML, like Gecko) Chrome/36.0.1985.125 Safari/537.36\"', userId='142'),\n",
       " Row(artist=None, auth='Logged In', firstName='Grant', gender='M', itemInSession=121, lastName='Flores', length=None, level='paid', location='New York-Newark-Jersey City, NY-NJ-PA', method='GET', page='Downgrade', registration=1538120859000, sessionId=141, song=None, status=200, ts=1538395054000, userAgent='\"Mozilla/5.0 (Macintosh; Intel Mac OS X 10_9_4) AppleWebKit/537.36 (KHTML, like Gecko) Chrome/36.0.1985.125 Safari/537.36\"', userId='142'),\n",
       " Row(artist=None, auth='Logged In', firstName='Elizabeth', gender='F', itemInSession=17, lastName='Washington', length=None, level='paid', location='Oklahoma City, OK', method='GET', page='Downgrade', registration=1532472246000, sessionId=247, song=None, status=200, ts=1538396771000, userAgent='\"Mozilla/5.0 (Macintosh; Intel Mac OS X 10_9_4) AppleWebKit/537.36 (KHTML, like Gecko) Chrome/36.0.1985.143 Safari/537.36\"', userId='120'),\n",
       " Row(artist=None, auth='Logged In', firstName='Panav', gender='M', itemInSession=41, lastName='Myers', length=None, level='paid', location='Morgantown, WV', method='GET', page='Downgrade', registration=1538239045000, sessionId=237, song=None, status=200, ts=1538398230000, userAgent='\"Mozilla/5.0 (Windows NT 6.1; WOW64) AppleWebKit/537.36 (KHTML, like Gecko) Chrome/36.0.1985.143 Safari/537.36\"', userId='15'),\n",
       " Row(artist=None, auth='Logged In', firstName='Grant', gender='M', itemInSession=139, lastName='Flores', length=None, level='paid', location='New York-Newark-Jersey City, NY-NJ-PA', method='GET', page='Downgrade', registration=1538120859000, sessionId=141, song=None, status=200, ts=1538398648000, userAgent='\"Mozilla/5.0 (Macintosh; Intel Mac OS X 10_9_4) AppleWebKit/537.36 (KHTML, like Gecko) Chrome/36.0.1985.125 Safari/537.36\"', userId='142')]"
      ]
     },
     "execution_count": 6,
     "metadata": {},
     "output_type": "execute_result"
    }
   ],
   "source": [
    "df.select(\"*\").where((df.page == \"Downgrade\") | (df.page == \"Cancellation Confirmation\")).head(10)"
   ]
  },
  {
   "cell_type": "code",
   "execution_count": 7,
   "metadata": {},
   "outputs": [],
   "source": [
    "def churn(value):\n",
    "    if value == \"Downgrade\" or value == \"Cancellation Confirmation\":\n",
    "        return 1\n",
    "    return 0"
   ]
  },
  {
   "cell_type": "code",
   "execution_count": 8,
   "metadata": {},
   "outputs": [],
   "source": [
    "setChurn = udf(churn, IntegerType())\n",
    "df = df.withColumn(\"churn\", setChurn(df.page))"
   ]
  },
  {
   "cell_type": "code",
   "execution_count": 9,
   "metadata": {},
   "outputs": [
    {
     "data": {
      "text/plain": [
       "[Row(artist=None, auth='Logged In', firstName='Alexi', gender='F', itemInSession=4, lastName='Warren', length=None, level='paid', location='Spokane-Spokane Valley, WA', method='GET', page='Downgrade', registration=1532482662000, sessionId=53, song=None, status=200, ts=1538354749000, userAgent='Mozilla/5.0 (Windows NT 6.1; WOW64; rv:32.0) Gecko/20100101 Firefox/32.0', userId='54', churn=1),\n",
       " Row(artist=None, auth='Logged In', firstName='Faigy', gender='F', itemInSession=29, lastName='Howe', length=None, level='paid', location='Phoenix-Mesa-Scottsdale, AZ', method='GET', page='Downgrade', registration=1538211832000, sessionId=248, song=None, status=200, ts=1538373286000, userAgent='Mozilla/5.0 (Macintosh; Intel Mac OS X 10.9; rv:31.0) Gecko/20100101 Firefox/31.0', userId='95', churn=1),\n",
       " Row(artist=None, auth='Logged In', firstName='Faigy', gender='F', itemInSession=115, lastName='Howe', length=None, level='paid', location='Phoenix-Mesa-Scottsdale, AZ', method='GET', page='Downgrade', registration=1538211832000, sessionId=248, song=None, status=200, ts=1538392612000, userAgent='Mozilla/5.0 (Macintosh; Intel Mac OS X 10.9; rv:31.0) Gecko/20100101 Firefox/31.0', userId='95', churn=1),\n",
       " Row(artist=None, auth='Logged In', firstName='Kael', gender='M', itemInSession=46, lastName='Baker', length=None, level='paid', location='Kingsport-Bristol-Bristol, TN-VA', method='GET', page='Downgrade', registration=1533102330000, sessionId=249, song=None, status=200, ts=1538393618000, userAgent='\"Mozilla/5.0 (Macintosh; Intel Mac OS X 10_9_4) AppleWebKit/537.77.4 (KHTML, like Gecko) Version/7.0.5 Safari/537.77.4\"', userId='131', churn=1),\n",
       " Row(artist=None, auth='Logged In', firstName='Faigy', gender='F', itemInSession=125, lastName='Howe', length=None, level='paid', location='Phoenix-Mesa-Scottsdale, AZ', method='GET', page='Downgrade', registration=1538211832000, sessionId=248, song=None, status=200, ts=1538393664000, userAgent='Mozilla/5.0 (Macintosh; Intel Mac OS X 10.9; rv:31.0) Gecko/20100101 Firefox/31.0', userId='95', churn=1),\n",
       " Row(artist=None, auth='Logged In', firstName='Grant', gender='M', itemInSession=119, lastName='Flores', length=None, level='paid', location='New York-Newark-Jersey City, NY-NJ-PA', method='GET', page='Downgrade', registration=1538120859000, sessionId=141, song=None, status=200, ts=1538394855000, userAgent='\"Mozilla/5.0 (Macintosh; Intel Mac OS X 10_9_4) AppleWebKit/537.36 (KHTML, like Gecko) Chrome/36.0.1985.125 Safari/537.36\"', userId='142', churn=1),\n",
       " Row(artist=None, auth='Logged In', firstName='Grant', gender='M', itemInSession=121, lastName='Flores', length=None, level='paid', location='New York-Newark-Jersey City, NY-NJ-PA', method='GET', page='Downgrade', registration=1538120859000, sessionId=141, song=None, status=200, ts=1538395054000, userAgent='\"Mozilla/5.0 (Macintosh; Intel Mac OS X 10_9_4) AppleWebKit/537.36 (KHTML, like Gecko) Chrome/36.0.1985.125 Safari/537.36\"', userId='142', churn=1),\n",
       " Row(artist=None, auth='Logged In', firstName='Elizabeth', gender='F', itemInSession=17, lastName='Washington', length=None, level='paid', location='Oklahoma City, OK', method='GET', page='Downgrade', registration=1532472246000, sessionId=247, song=None, status=200, ts=1538396771000, userAgent='\"Mozilla/5.0 (Macintosh; Intel Mac OS X 10_9_4) AppleWebKit/537.36 (KHTML, like Gecko) Chrome/36.0.1985.143 Safari/537.36\"', userId='120', churn=1),\n",
       " Row(artist=None, auth='Logged In', firstName='Panav', gender='M', itemInSession=41, lastName='Myers', length=None, level='paid', location='Morgantown, WV', method='GET', page='Downgrade', registration=1538239045000, sessionId=237, song=None, status=200, ts=1538398230000, userAgent='\"Mozilla/5.0 (Windows NT 6.1; WOW64) AppleWebKit/537.36 (KHTML, like Gecko) Chrome/36.0.1985.143 Safari/537.36\"', userId='15', churn=1),\n",
       " Row(artist=None, auth='Logged In', firstName='Grant', gender='M', itemInSession=139, lastName='Flores', length=None, level='paid', location='New York-Newark-Jersey City, NY-NJ-PA', method='GET', page='Downgrade', registration=1538120859000, sessionId=141, song=None, status=200, ts=1538398648000, userAgent='\"Mozilla/5.0 (Macintosh; Intel Mac OS X 10_9_4) AppleWebKit/537.36 (KHTML, like Gecko) Chrome/36.0.1985.125 Safari/537.36\"', userId='142', churn=1)]"
      ]
     },
     "execution_count": 9,
     "metadata": {},
     "output_type": "execute_result"
    }
   ],
   "source": [
    "df.select(\"*\").where((df.page == \"Downgrade\") | (df.page == \"Cancellation Confirmation\")).head(10)"
   ]
  },
  {
   "cell_type": "code",
   "execution_count": 10,
   "metadata": {},
   "outputs": [
    {
     "data": {
      "text/plain": [
       "Row(artist=None, auth='Logged In', firstName='Alexi', gender='F', itemInSession=4, lastName='Warren', length=None, level='paid', location='Spokane-Spokane Valley, WA', method='GET', page='Downgrade', registration=1532482662000, sessionId=53, song=None, status=200, ts=1538354749000, userAgent='Mozilla/5.0 (Windows NT 6.1; WOW64; rv:32.0) Gecko/20100101 Firefox/32.0', userId='54', churn=1)"
      ]
     },
     "execution_count": 10,
     "metadata": {},
     "output_type": "execute_result"
    }
   ],
   "source": [
    "df.select(\"*\").where(df.churn == 1).head()"
   ]
  },
  {
   "cell_type": "markdown",
   "metadata": {},
   "source": [
    "# Exploratory Data Analysis\n",
    "When you're working with the full dataset, perform EDA by loading a small subset of the data and doing basic manipulations within Spark. In this workspace, you are already provided a small subset of data you can explore.\n",
    "\n",
    "### Define Churn\n",
    "\n",
    "Once you've done some preliminary analysis, create a column `Churn` to use as the label for your model. I suggest using the `Cancellation Confirmation` events to define your churn, which happen for both paid and free users. As a bonus task, you can also look into the `Downgrade` events.\n",
    "\n",
    "### Explore Data\n",
    "Once you've defined churn, perform some exploratory data analysis to observe the behavior for users who stayed vs users who churned. You can start by exploring aggregates on these two groups of users, observing how much of a specific action they experienced per a certain time unit or number of songs played."
   ]
  },
  {
   "cell_type": "code",
   "execution_count": null,
   "metadata": {},
   "outputs": [],
   "source": []
  },
  {
   "cell_type": "markdown",
   "metadata": {},
   "source": [
    "# Feature Engineering\n",
    "Once you've familiarized yourself with the data, build out the features you find promising to train your model on. To work with the full dataset, you can follow the following steps.\n",
    "- Write a script to extract the necessary features from the smaller subset of data\n",
    "- Ensure that your script is scalable, using the best practices discussed in Lesson 3\n",
    "- Try your script on the full data set, debugging your script if necessary\n",
    "\n",
    "If you are working in the classroom workspace, you can just extract features based on the small subset of data contained here. Be sure to transfer over this work to the larger dataset when you work on your Spark cluster."
   ]
  },
  {
   "cell_type": "code",
   "execution_count": null,
   "metadata": {},
   "outputs": [],
   "source": []
  },
  {
   "cell_type": "markdown",
   "metadata": {},
   "source": [
    "# Modeling\n",
    "Split the full dataset into train, test, and validation sets. Test out several of the machine learning methods you learned. Evaluate the accuracy of the various models, tuning parameters as necessary. Determine your winning model based on test accuracy and report results on the validation set. Since the churned users are a fairly small subset, I suggest using F1 score as the metric to optimize."
   ]
  },
  {
   "cell_type": "code",
   "execution_count": null,
   "metadata": {},
   "outputs": [],
   "source": []
  },
  {
   "cell_type": "markdown",
   "metadata": {},
   "source": [
    "# Final Steps\n",
    "Clean up your code, adding comments and renaming variables to make the code easier to read and maintain. Refer to the Spark Project Overview page and Data Scientist Capstone Project Rubric to make sure you are including all components of the capstone project and meet all expectations. Remember, this includes thorough documentation in a README file in a Github repository, as well as a web app or blog post."
   ]
  },
  {
   "cell_type": "code",
   "execution_count": null,
   "metadata": {},
   "outputs": [],
   "source": []
  }
 ],
 "metadata": {
  "kernelspec": {
   "display_name": "Python 3",
   "language": "python",
   "name": "python3"
  },
  "language_info": {
   "codemirror_mode": {
    "name": "ipython",
    "version": 3
   },
   "file_extension": ".py",
   "mimetype": "text/x-python",
   "name": "python",
   "nbconvert_exporter": "python",
   "pygments_lexer": "ipython3",
   "version": "3.7.6"
  }
 },
 "nbformat": 4,
 "nbformat_minor": 2
}
