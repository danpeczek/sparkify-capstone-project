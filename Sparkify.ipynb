{
 "cells": [
  {
   "cell_type": "markdown",
   "metadata": {},
   "source": [
    "# Sparkify Project Workspace\n",
    "This workspace contains a tiny subset (128MB) of the full dataset available (12GB). Feel free to use this workspace to build your project, or to explore a smaller subset with Spark before deploying your cluster on the cloud. Instructions for setting up your Spark cluster is included in the last lesson of the Extracurricular Spark Course content.\n",
    "\n",
    "You can follow the steps below to guide your data analysis and model building portion of this project."
   ]
  },
  {
   "cell_type": "code",
   "execution_count": 2,
   "metadata": {},
   "outputs": [],
   "source": [
    "# import libraries\n",
    "from pyspark.sql import SparkSession\n",
    "from pyspark.sql.functions import udf, col\n",
    "from pyspark.sql.types import IntegerType, BooleanType\n",
    "\n",
    "import pandas as pd\n",
    "import matplotlib.pyplot as plt\n",
    "import seaborn as sns"
   ]
  },
  {
   "cell_type": "code",
   "execution_count": 3,
   "metadata": {},
   "outputs": [],
   "source": [
    "spark = SparkSession.builder \\\n",
    "    .master(\"local\") \\\n",
    "    .appName(\"Sparkify\") \\\n",
    "    .getOrCreate()"
   ]
  },
  {
   "cell_type": "markdown",
   "metadata": {},
   "source": [
    "# Load and Clean Dataset\n",
    "In this workspace, the mini-dataset file is `mini_sparkify_event_data.json`. Load and clean the dataset, checking for invalid or missing data - for example, records without userids or sessionids. "
   ]
  },
  {
   "cell_type": "code",
   "execution_count": 4,
   "metadata": {},
   "outputs": [],
   "source": [
    "dataset_path = \"data/mini_sparkify_event_data.json\""
   ]
  },
  {
   "cell_type": "code",
   "execution_count": 5,
   "metadata": {},
   "outputs": [
    {
     "data": {
      "text/plain": [
       "DataFrame[artist: string, auth: string, firstName: string, gender: string, itemInSession: bigint, lastName: string, length: double, level: string, location: string, method: string, page: string, registration: bigint, sessionId: bigint, song: string, status: bigint, ts: bigint, userAgent: string, userId: string]"
      ]
     },
     "execution_count": 5,
     "metadata": {},
     "output_type": "execute_result"
    }
   ],
   "source": [
    "df = spark.read.json(dataset_path)\n",
    "df.persist()"
   ]
  },
  {
   "cell_type": "code",
   "execution_count": 6,
   "metadata": {},
   "outputs": [
    {
     "name": "stdout",
     "output_type": "stream",
     "text": [
      "root\n",
      " |-- artist: string (nullable = true)\n",
      " |-- auth: string (nullable = true)\n",
      " |-- firstName: string (nullable = true)\n",
      " |-- gender: string (nullable = true)\n",
      " |-- itemInSession: long (nullable = true)\n",
      " |-- lastName: string (nullable = true)\n",
      " |-- length: double (nullable = true)\n",
      " |-- level: string (nullable = true)\n",
      " |-- location: string (nullable = true)\n",
      " |-- method: string (nullable = true)\n",
      " |-- page: string (nullable = true)\n",
      " |-- registration: long (nullable = true)\n",
      " |-- sessionId: long (nullable = true)\n",
      " |-- song: string (nullable = true)\n",
      " |-- status: long (nullable = true)\n",
      " |-- ts: long (nullable = true)\n",
      " |-- userAgent: string (nullable = true)\n",
      " |-- userId: string (nullable = true)\n",
      "\n"
     ]
    }
   ],
   "source": [
    "df.printSchema()"
   ]
  },
  {
   "cell_type": "markdown",
   "metadata": {},
   "source": [
    "# Exploratory Data Analysis\n",
    "When you're working with the full dataset, perform EDA by loading a small subset of the data and doing basic manipulations within Spark. In this workspace, you are already provided a small subset of data you can explore.\n",
    "\n",
    "### Define Churn\n",
    "\n",
    "Once you've done some preliminary analysis, create a column `Churn` to use as the label for your model. I suggest using the `Cancellation Confirmation` events to define your churn, which happen for both paid and free users. As a bonus task, you can also look into the `Submit Downgrade` events.\n",
    "\n",
    "### Explore Data\n",
    "Once you've defined churn, perform some exploratory data analysis to observe the behavior for users who stayed vs users who churned. You can start by exploring aggregates on these two groups of users, observing how much of a specific action they experienced per a certain time unit or number of songs played."
   ]
  },
  {
   "cell_type": "markdown",
   "metadata": {},
   "source": [
    "Let's define the churn function that will find set 1 when row means churn and 0 otherwise. To find a churn we'll use the `page` when `Submit Downgrade` and `Cancellation Confirmation` event happened."
   ]
  },
  {
   "cell_type": "code",
   "execution_count": 7,
   "metadata": {},
   "outputs": [],
   "source": [
    "def churn(value):\n",
    "    if value == \"Downgrade\" or value == \"Cancellation Confirmation\":\n",
    "        return 1\n",
    "    return 0"
   ]
  },
  {
   "cell_type": "markdown",
   "metadata": {},
   "source": [
    "Now let's apply this function our dataframe."
   ]
  },
  {
   "cell_type": "code",
   "execution_count": 8,
   "metadata": {},
   "outputs": [],
   "source": [
    "setChurn = udf(churn, IntegerType())\n",
    "df = df.withColumn(\"churn\", setChurn(df.page))"
   ]
  },
  {
   "cell_type": "markdown",
   "metadata": {},
   "source": [
    "So now let's take churned users id's and let's put them to separate collection. First let's collect id of users that left our service by reasons."
   ]
  },
  {
   "cell_type": "code",
   "execution_count": 9,
   "metadata": {},
   "outputs": [],
   "source": [
    "churned_ids = df.filter(df.churn == 1).select(\"userId\").dropDuplicates().collect()\n",
    "churned_ids = [i.userId for i in churned_ids]"
   ]
  },
  {
   "cell_type": "markdown",
   "metadata": {},
   "source": [
    "Now let's define two functions that will find users that are churned and not churned."
   ]
  },
  {
   "cell_type": "code",
   "execution_count": 10,
   "metadata": {},
   "outputs": [],
   "source": [
    "isInChurn = udf(lambda x: x in churned_ids, BooleanType())\n",
    "notInChurn = udf(lambda x: x not in churned_ids, BooleanType())"
   ]
  },
  {
   "cell_type": "markdown",
   "metadata": {},
   "source": [
    "Before digging into checking the churn users, let's check the null values across the dataset."
   ]
  },
  {
   "cell_type": "markdown",
   "metadata": {},
   "source": [
    "### Do we have null values across the dataset?\n",
    "\n",
    "Now as we have simple churn defined, let's take a look more on how the dataset looks llike. First let's see which column has a null value and how much of these values are there"
   ]
  },
  {
   "cell_type": "code",
   "execution_count": 11,
   "metadata": {},
   "outputs": [
    {
     "name": "stdout",
     "output_type": "stream",
     "text": [
      "Column artist contains 58392 null values\n",
      "Column auth contains 0 null values\n",
      "Column firstName contains 8346 null values\n",
      "Column gender contains 8346 null values\n",
      "Column itemInSession contains 0 null values\n",
      "Column lastName contains 8346 null values\n",
      "Column length contains 58392 null values\n",
      "Column level contains 0 null values\n",
      "Column location contains 8346 null values\n",
      "Column method contains 0 null values\n",
      "Column page contains 0 null values\n",
      "Column registration contains 8346 null values\n",
      "Column sessionId contains 0 null values\n",
      "Column song contains 58392 null values\n",
      "Column status contains 0 null values\n",
      "Column ts contains 0 null values\n",
      "Column userAgent contains 8346 null values\n",
      "Column userId contains 0 null values\n",
      "Column churn contains 0 null values\n"
     ]
    }
   ],
   "source": [
    "for column in df.columns:\n",
    "    print(\"Column {} contains {} null values\".format(column, df.where(col(column).isNull()).count()))"
   ]
  },
  {
   "cell_type": "markdown",
   "metadata": {},
   "source": [
    "So it looks like some of the values are nulls. We can see that number of different values are the same across all columns, let's see what can be cause of this situation.\n",
    "\n",
    "Let's check if the same number null values have correclation with columns."
   ]
  },
  {
   "cell_type": "code",
   "execution_count": 12,
   "metadata": {},
   "outputs": [
    {
     "data": {
      "text/plain": [
       "[Row(page='Cancel'),\n",
       " Row(page='Submit Downgrade'),\n",
       " Row(page='Thumbs Down'),\n",
       " Row(page='Home'),\n",
       " Row(page='Downgrade'),\n",
       " Row(page='Roll Advert'),\n",
       " Row(page='Logout'),\n",
       " Row(page='Save Settings'),\n",
       " Row(page='Cancellation Confirmation'),\n",
       " Row(page='About'),\n",
       " Row(page='Submit Registration'),\n",
       " Row(page='Settings'),\n",
       " Row(page='Login'),\n",
       " Row(page='Register'),\n",
       " Row(page='Add to Playlist'),\n",
       " Row(page='Add Friend'),\n",
       " Row(page='Thumbs Up'),\n",
       " Row(page='Help'),\n",
       " Row(page='Upgrade'),\n",
       " Row(page='Error'),\n",
       " Row(page='Submit Upgrade')]"
      ]
     },
     "execution_count": 12,
     "metadata": {},
     "output_type": "execute_result"
    }
   ],
   "source": [
    "df.select(\"page\").where((col(\"artist\").isNull()) | (col(\"length\").isNull()) | (col(\"song\").isNull())).dropDuplicates().collect()"
   ]
  },
  {
   "cell_type": "markdown",
   "metadata": {},
   "source": [
    "So these pages are not connected with playing a song at all, that's then understandable why the 'artist', 'length' and 'song' columns contain null values - they are not existing is such situation.\n",
    "\n",
    "Now let's see the columns for first and last name, gender and userAgent."
   ]
  },
  {
   "cell_type": "code",
   "execution_count": 13,
   "metadata": {},
   "outputs": [
    {
     "data": {
      "text/plain": [
       "[Row(page='Home'),\n",
       " Row(page='About'),\n",
       " Row(page='Submit Registration'),\n",
       " Row(page='Login'),\n",
       " Row(page='Register'),\n",
       " Row(page='Help'),\n",
       " Row(page='Error')]"
      ]
     },
     "execution_count": 13,
     "metadata": {},
     "output_type": "execute_result"
    }
   ],
   "source": [
    "df.select(\"page\").where((col(\"firstName\").isNull()) | (col(\"gender\").isNull()) | (col(\"lastName\").isNull()) | (col(\"location\").isNull()) | (col(\"registration\").isNull()) | (col(\"userAgent\").isNull())).dropDuplicates().collect()"
   ]
  },
  {
   "cell_type": "markdown",
   "metadata": {},
   "source": [
    "So the reason why these columns contains null values is that, the events are connected to the operations done by the users out of the logged session."
   ]
  },
  {
   "cell_type": "markdown",
   "metadata": {},
   "source": [
    "### How many users churned from the service?"
   ]
  },
  {
   "cell_type": "code",
   "execution_count": 14,
   "metadata": {},
   "outputs": [
    {
     "name": "stdout",
     "output_type": "stream",
     "text": [
      "Number of churned users: 171\n",
      "Number of staying users: 55\n"
     ]
    }
   ],
   "source": [
    "print(\"Number of churned users: {}\".format(df.filter(isInChurn(df.userId)).select(\"userId\").dropDuplicates().count()))\n",
    "print(\"Number of staying users: {}\".format(df.filter(notInChurn(df.userId)).select(\"userId\").dropDuplicates().count()))"
   ]
  },
  {
   "cell_type": "markdown",
   "metadata": {},
   "source": [
    "So it looks like for the sparkify mini event data less users had events `Submit Downgrade` or `Cancellation Confirmation` from users which didn't take that options, however there can be users that returned to the service after leaving it e.g. downgraded from premium and still were using it for free - this situation allow us only to get money from advertisements during the free sessions."
   ]
  },
  {
   "cell_type": "markdown",
   "metadata": {},
   "source": [
    "### How churn rate distribute over genders?\n",
    "\n",
    "Let's see which users of which gender are more likely to churn. First let's get the dataframe of churn users."
   ]
  },
  {
   "cell_type": "code",
   "execution_count": 15,
   "metadata": {},
   "outputs": [
    {
     "data": {
      "text/html": [
       "<div>\n",
       "<style scoped>\n",
       "    .dataframe tbody tr th:only-of-type {\n",
       "        vertical-align: middle;\n",
       "    }\n",
       "\n",
       "    .dataframe tbody tr th {\n",
       "        vertical-align: top;\n",
       "    }\n",
       "\n",
       "    .dataframe thead th {\n",
       "        text-align: right;\n",
       "    }\n",
       "</style>\n",
       "<table border=\"1\" class=\"dataframe\">\n",
       "  <thead>\n",
       "    <tr style=\"text-align: right;\">\n",
       "      <th></th>\n",
       "      <th>userId</th>\n",
       "      <th>gender</th>\n",
       "      <th>churn</th>\n",
       "    </tr>\n",
       "  </thead>\n",
       "  <tbody>\n",
       "    <tr>\n",
       "      <th>0</th>\n",
       "      <td>200002</td>\n",
       "      <td>M</td>\n",
       "      <td>0</td>\n",
       "    </tr>\n",
       "    <tr>\n",
       "      <th>1</th>\n",
       "      <td>125</td>\n",
       "      <td>M</td>\n",
       "      <td>0</td>\n",
       "    </tr>\n",
       "    <tr>\n",
       "      <th>2</th>\n",
       "      <td>124</td>\n",
       "      <td>F</td>\n",
       "      <td>0</td>\n",
       "    </tr>\n",
       "    <tr>\n",
       "      <th>3</th>\n",
       "      <td>51</td>\n",
       "      <td>M</td>\n",
       "      <td>0</td>\n",
       "    </tr>\n",
       "    <tr>\n",
       "      <th>4</th>\n",
       "      <td>15</td>\n",
       "      <td>M</td>\n",
       "      <td>0</td>\n",
       "    </tr>\n",
       "  </tbody>\n",
       "</table>\n",
       "</div>"
      ],
      "text/plain": [
       "   userId gender  churn\n",
       "0  200002      M      0\n",
       "1     125      M      0\n",
       "2     124      F      0\n",
       "3      51      M      0\n",
       "4      15      M      0"
      ]
     },
     "execution_count": 15,
     "metadata": {},
     "output_type": "execute_result"
    }
   ],
   "source": [
    "users_gender=df.filter(isInChurn(df.userId)).select(\"userId\", \"gender\", \"churn\").dropDuplicates([\"userId\"]).toPandas()\n",
    "users_gender.head()"
   ]
  },
  {
   "cell_type": "markdown",
   "metadata": {},
   "source": [
    "But what is it? The `churn` column contains 0? Indeed it's because we filter out the users with Id's that performed downgrade of the account and due to `dropDuplicates()` the information about churn for downgrade was missed. Let's fix it for the sake of answering the question."
   ]
  },
  {
   "cell_type": "code",
   "execution_count": 16,
   "metadata": {},
   "outputs": [
    {
     "data": {
      "text/html": [
       "<div>\n",
       "<style scoped>\n",
       "    .dataframe tbody tr th:only-of-type {\n",
       "        vertical-align: middle;\n",
       "    }\n",
       "\n",
       "    .dataframe tbody tr th {\n",
       "        vertical-align: top;\n",
       "    }\n",
       "\n",
       "    .dataframe thead th {\n",
       "        text-align: right;\n",
       "    }\n",
       "</style>\n",
       "<table border=\"1\" class=\"dataframe\">\n",
       "  <thead>\n",
       "    <tr style=\"text-align: right;\">\n",
       "      <th></th>\n",
       "      <th>userId</th>\n",
       "      <th>gender</th>\n",
       "      <th>churn</th>\n",
       "    </tr>\n",
       "  </thead>\n",
       "  <tbody>\n",
       "    <tr>\n",
       "      <th>0</th>\n",
       "      <td>200002</td>\n",
       "      <td>M</td>\n",
       "      <td>1</td>\n",
       "    </tr>\n",
       "    <tr>\n",
       "      <th>1</th>\n",
       "      <td>125</td>\n",
       "      <td>M</td>\n",
       "      <td>1</td>\n",
       "    </tr>\n",
       "    <tr>\n",
       "      <th>2</th>\n",
       "      <td>124</td>\n",
       "      <td>F</td>\n",
       "      <td>1</td>\n",
       "    </tr>\n",
       "    <tr>\n",
       "      <th>3</th>\n",
       "      <td>51</td>\n",
       "      <td>M</td>\n",
       "      <td>1</td>\n",
       "    </tr>\n",
       "    <tr>\n",
       "      <th>4</th>\n",
       "      <td>15</td>\n",
       "      <td>M</td>\n",
       "      <td>1</td>\n",
       "    </tr>\n",
       "  </tbody>\n",
       "</table>\n",
       "</div>"
      ],
      "text/plain": [
       "   userId gender  churn\n",
       "0  200002      M      1\n",
       "1     125      M      1\n",
       "2     124      F      1\n",
       "3      51      M      1\n",
       "4      15      M      1"
      ]
     },
     "execution_count": 16,
     "metadata": {},
     "output_type": "execute_result"
    }
   ],
   "source": [
    "users_gender[\"churn\"] = 1\n",
    "users_gender.head()"
   ]
  },
  {
   "cell_type": "code",
   "execution_count": 17,
   "metadata": {},
   "outputs": [],
   "source": [
    "users_gender = pd.concat([users_gender,\\\n",
    "                                   df.filter(notInChurn(df.userId)).select(\"userId\", \"gender\", \"location\", \"churn\").dropDuplicates([\"userId\"]).toPandas()], axis=0)"
   ]
  },
  {
   "cell_type": "code",
   "execution_count": 18,
   "metadata": {},
   "outputs": [
    {
     "data": {
      "image/png": "[encoded data removed]",
      "text/plain": [
       "<Figure size 432x288 with 1 Axes>"
      ]
     },
     "metadata": {
      "needs_background": "light"
     },
     "output_type": "display_data"
    }
   ],
   "source": [
    "plt.clf()\n",
    "ax = sns.countplot(x=\"gender\", hue=\"churn\", data=users_gender)\n",
    "plt.show()"
   ]
  },
  {
   "cell_type": "markdown",
   "metadata": {},
   "source": [
    "So we can see that there are slightly more male users that churn from the service. Now let's clear this pandas dataframe."
   ]
  },
  {
   "cell_type": "code",
   "execution_count": 19,
   "metadata": {},
   "outputs": [],
   "source": [
    "users_gender.drop(users_gender.index, inplace=True)"
   ]
  },
  {
   "cell_type": "markdown",
   "metadata": {},
   "source": [
    "### How many users were still using the service after churn?\n",
    "\n",
    "To answer for this question let's collect the users with churned by history of their events with ascending timestamp, to know how everything grew."
   ]
  },
  {
   "cell_type": "code",
   "execution_count": 20,
   "metadata": {},
   "outputs": [],
   "source": [
    "churned_users_by_id = [df.select(\"*\").where(col(\"userId\") == row).sort('ts').collect() for row in churned_ids]"
   ]
  },
  {
   "cell_type": "markdown",
   "metadata": {},
   "source": [
    "Now let's see is some users still were using the service after `Downgrading`. After cancellation the user has removed account and has different id."
   ]
  },
  {
   "cell_type": "code",
   "execution_count": 22,
   "metadata": {},
   "outputs": [
    {
     "name": "stdout",
     "output_type": "stream",
     "text": [
      "Row(artist=None, auth='Logged In', firstName='Dominic', gender='M', itemInSession=56, lastName='Torres', length=None, level='paid', location='Chicago-Naperville-Elgin, IL-IN-WI', method='GET', page='Downgrade', registration=1536269906000, sessionId=163, song=None, status=200, ts=1539857854000, userAgent='\"Mozilla/5.0 (iPhone; CPU iPhone OS 7_1 like Mac OS X) AppleWebKit/537.51.2 (KHTML, like Gecko) Version/7.0 Mobile/11D167 Safari/9537.53\"', userId='200002', churn=1)\n",
      "Row(artist='The Jacksons', auth='Logged In', firstName='Dominic', gender='M', itemInSession=58, lastName='Torres', length=479.4771, level='paid', location='Chicago-Naperville-Elgin, IL-IN-WI', method='PUT', page='NextSong', registration=1536269906000, sessionId=163, song='Shake Your Body (Down To The Ground)', status=200, ts=1539858110000, userAgent='\"Mozilla/5.0 (iPhone; CPU iPhone OS 7_1 like Mac OS X) AppleWebKit/537.51.2 (KHTML, like Gecko) Version/7.0 Mobile/11D167 Safari/9537.53\"', userId='200002', churn=0)\n",
      "******************\n",
      "Row(artist=None, auth='Logged In', firstName='Ethan', gender='M', itemInSession=36, lastName='Johnson', length=None, level='paid', location='Lexington-Fayette, KY', method='GET', page='Downgrade', registration=1538080987000, sessionId=236, song=None, status=200, ts=1538404204000, userAgent='\"Mozilla/5.0 (Windows NT 6.1; WOW64) AppleWebKit/537.36 (KHTML, like Gecko) Chrome/36.0.1985.143 Safari/537.36\"', userId='51', churn=1)\n",
      "Row(artist='The Stranglers', auth='Logged In', firstName='Ethan', gender='M', itemInSession=41, lastName='Johnson', length=276.92363, level='paid', location='Lexington-Fayette, KY', method='PUT', page='NextSong', registration=1538080987000, sessionId=236, song='In The Shadows', status=200, ts=1538404792000, userAgent='\"Mozilla/5.0 (Windows NT 6.1; WOW64) AppleWebKit/537.36 (KHTML, like Gecko) Chrome/36.0.1985.143 Safari/537.36\"', userId='51', churn=0)\n",
      "******************\n",
      "Row(artist=None, auth='Logged In', firstName='Nicole', gender='F', itemInSession=28, lastName='Beck', length=None, level='paid', location='Vineland-Bridgeton, NJ', method='GET', page='Downgrade', registration=1532224335000, sessionId=123, song=None, status=200, ts=1538411637000, userAgent='\"Mozilla/5.0 (Macintosh; Intel Mac OS X 10_9_4) AppleWebKit/537.36 (KHTML, like Gecko) Chrome/36.0.1985.143 Safari/537.36\"', userId='124', churn=1)\n",
      "Row(artist='Common', auth='Logged In', firstName='Nicole', gender='F', itemInSession=29, lastName='Beck', length=216.81587, level='paid', location='Vineland-Bridgeton, NJ', method='PUT', page='NextSong', registration=1532224335000, sessionId=123, song='The Food', status=200, ts=1538412038000, userAgent='\"Mozilla/5.0 (Macintosh; Intel Mac OS X 10_9_4) AppleWebKit/537.36 (KHTML, like Gecko) Chrome/36.0.1985.143 Safari/537.36\"', userId='124', churn=0)\n",
      "******************\n",
      "Row(artist=None, auth='Logged In', firstName='Alexi', gender='F', itemInSession=4, lastName='Warren', length=None, level='paid', location='Spokane-Spokane Valley, WA', method='GET', page='Downgrade', registration=1532482662000, sessionId=53, song=None, status=200, ts=1538354749000, userAgent='Mozilla/5.0 (Windows NT 6.1; WOW64; rv:32.0) Gecko/20100101 Firefox/32.0', userId='54', churn=1)\n",
      "Row(artist='Eminem', auth='Logged In', firstName='Alexi', gender='F', itemInSession=5, lastName='Warren', length=269.03465, level='paid', location='Spokane-Spokane Valley, WA', method='PUT', page='NextSong', registration=1532482662000, sessionId=53, song='My Name Is', status=200, ts=1538354985000, userAgent='Mozilla/5.0 (Windows NT 6.1; WOW64; rv:32.0) Gecko/20100101 Firefox/32.0', userId='54', churn=0)\n",
      "******************\n",
      "Row(artist=None, auth='Logged In', firstName='Panav', gender='M', itemInSession=41, lastName='Myers', length=None, level='paid', location='Morgantown, WV', method='GET', page='Downgrade', registration=1538239045000, sessionId=237, song=None, status=200, ts=1538398230000, userAgent='\"Mozilla/5.0 (Windows NT 6.1; WOW64) AppleWebKit/537.36 (KHTML, like Gecko) Chrome/36.0.1985.143 Safari/537.36\"', userId='15', churn=1)\n",
      "Row(artist='K-OS', auth='Logged In', firstName='Panav', gender='M', itemInSession=46, lastName='Myers', length=234.1873, level='paid', location='Morgantown, WV', method='PUT', page='NextSong', registration=1538239045000, sessionId=237, song='Freeze', status=200, ts=1538398713000, userAgent='\"Mozilla/5.0 (Windows NT 6.1; WOW64) AppleWebKit/537.36 (KHTML, like Gecko) Chrome/36.0.1985.143 Safari/537.36\"', userId='15', churn=0)\n",
      "******************\n",
      "Row(artist=None, auth='Logged In', firstName='Camila', gender='F', itemInSession=93, lastName='Calderon', length=None, level='paid', location='Boston-Cambridge-Newton, MA-NH', method='GET', page='Downgrade', registration=1541370470000, sessionId=1562, song=None, status=200, ts=1541738047000, userAgent='\"Mozilla/5.0 (Windows NT 6.1; WOW64) AppleWebKit/537.36 (KHTML, like Gecko) Chrome/36.0.1985.143 Safari/537.36\"', userId='155', churn=1)\n",
      "Row(artist='Westbound Train', auth='Logged In', firstName='Camila', gender='F', itemInSession=94, lastName='Calderon', length=241.3971, level='paid', location='Boston-Cambridge-Newton, MA-NH', method='PUT', page='NextSong', registration=1541370470000, sessionId=1562, song='So Many Things A Man Can Say', status=200, ts=1541738279000, userAgent='\"Mozilla/5.0 (Windows NT 6.1; WOW64) AppleWebKit/537.36 (KHTML, like Gecko) Chrome/36.0.1985.143 Safari/537.36\"', userId='155', churn=0)\n",
      "******************\n",
      "Row(artist=None, auth='Logged In', firstName='Sadie', gender='F', itemInSession=5, lastName='Jones', length=None, level='paid', location='Denver-Aurora-Lakewood, CO', method='GET', page='Downgrade', registration=1537054553000, sessionId=716, song=None, status=200, ts=1539337951000, userAgent='\"Mozilla/5.0 (Macintosh; Intel Mac OS X 10_9_4) AppleWebKit/537.77.4 (KHTML, like Gecko) Version/7.0.5 Safari/537.77.4\"', userId='132', churn=1)\n",
      "Row(artist='The Verve', auth='Logged In', firstName='Sadie', gender='F', itemInSession=7, lastName='Jones', length=360.25424, level='paid', location='Denver-Aurora-Lakewood, CO', method='PUT', page='NextSong', registration=1537054553000, sessionId=716, song='Bitter Sweet Symphony', status=200, ts=1539338146000, userAgent='\"Mozilla/5.0 (Macintosh; Intel Mac OS X 10_9_4) AppleWebKit/537.77.4 (KHTML, like Gecko) Version/7.0.5 Safari/537.77.4\"', userId='132', churn=0)\n",
      "******************\n",
      "Row(artist=None, auth='Logged In', firstName='Rodrigo', gender='M', itemInSession=90, lastName='Carey', length=None, level='paid', location='New York-Newark-Jersey City, NY-NJ-PA', method='GET', page='Downgrade', registration=1535389443000, sessionId=98, song=None, status=200, ts=1539724886000, userAgent='\"Mozilla/5.0 (Windows NT 6.1; WOW64) AppleWebKit/537.36 (KHTML, like Gecko) Chrome/36.0.1985.143 Safari/537.36\"', userId='100014', churn=1)\n",
      "Row(artist='Alison Moyet', auth='Logged In', firstName='Rodrigo', gender='M', itemInSession=91, lastName='Carey', length=259.65669, level='paid', location='New York-Newark-Jersey City, NY-NJ-PA', method='PUT', page='NextSong', registration=1535389443000, sessionId=98, song='A Guy Like You', status=200, ts=1539725020000, userAgent='\"Mozilla/5.0 (Windows NT 6.1; WOW64) AppleWebKit/537.36 (KHTML, like Gecko) Chrome/36.0.1985.143 Safari/537.36\"', userId='100014', churn=0)\n",
      "******************\n",
      "Row(artist=None, auth='Logged In', firstName='Alex', gender='M', itemInSession=194, lastName='Hogan', length=None, level='paid', location='Denver-Aurora-Lakewood, CO', method='GET', page='Downgrade', registration=1535066380000, sessionId=312, song=None, status=200, ts=1538541301000, userAgent='Mozilla/5.0 (Windows NT 6.2; WOW64; rv:31.0) Gecko/20100101 Firefox/31.0', userId='101', churn=1)\n",
      "Row(artist='Shenandoah', auth='Logged In', firstName='Alex', gender='M', itemInSession=195, lastName='Hogan', length=188.49914, level='paid', location='Denver-Aurora-Lakewood, CO', method='PUT', page='NextSong', registration=1535066380000, sessionId=312, song='Church On Cumberland Road', status=200, ts=1538541386000, userAgent='Mozilla/5.0 (Windows NT 6.2; WOW64; rv:31.0) Gecko/20100101 Firefox/31.0', userId='101', churn=0)\n",
      "******************\n",
      "Row(artist=None, auth='Logged In', firstName='Zoe', gender='F', itemInSession=22, lastName='Patel', length=None, level='paid', location='Providence-Warwick, RI-MA', method='GET', page='Downgrade', registration=1532554781000, sessionId=487, song=None, status=200, ts=1539239741000, userAgent='Mozilla/5.0 (Windows NT 6.1; WOW64; Trident/7.0; rv:11.0) like Gecko', userId='11', churn=1)\n",
      "Row(artist='Prohom', auth='Logged In', firstName='Zoe', gender='F', itemInSession=25, lastName='Patel', length=246.38649, level='free', location='Providence-Warwick, RI-MA', method='PUT', page='NextSong', registration=1532554781000, sessionId=487, song='Mise En Bouche', status=200, ts=1539239973000, userAgent='Mozilla/5.0 (Windows NT 6.1; WOW64; Trident/7.0; rv:11.0) like Gecko', userId='11', churn=0)\n",
      "******************\n",
      "Row(artist=None, auth='Logged In', firstName='Samuel', gender='M', itemInSession=20, lastName='Wood', length=None, level='paid', location='New York-Newark-Jersey City, NY-NJ-PA', method='GET', page='Downgrade', registration=1537865819000, sessionId=1158, song=None, status=200, ts=1540403303000, userAgent='\"Mozilla/5.0 (iPad; CPU OS 7_1_1 like Mac OS X) AppleWebKit/537.51.2 (KHTML, like Gecko) Version/7.0 Mobile/11D201 Safari/9537.53\"', userId='138', churn=1)\n",
      "Row(artist='Bitter End', auth='Logged In', firstName='Samuel', gender='M', itemInSession=21, lastName='Wood', length=150.41261, level='paid', location='New York-Newark-Jersey City, NY-NJ-PA', method='PUT', page='NextSong', registration=1537865819000, sessionId=1158, song='Just Say Yes', status=200, ts=1540403609000, userAgent='\"Mozilla/5.0 (iPad; CPU OS 7_1_1 like Mac OS X) AppleWebKit/537.51.2 (KHTML, like Gecko) Version/7.0 Mobile/11D201 Safari/9537.53\"', userId='138', churn=0)\n",
      "******************\n",
      "Row(artist=None, auth='Logged In', firstName='Alyssia', gender='F', itemInSession=64, lastName='Campbell', length=None, level='paid', location='Ionia, MI', method='GET', page='Downgrade', registration=1537082511000, sessionId=47, song=None, status=200, ts=1538506915000, userAgent='\"Mozilla/5.0 (Macintosh; Intel Mac OS X 10_10) AppleWebKit/600.1.8 (KHTML, like Gecko) Version/8.0 Safari/600.1.8\"', userId='300017', churn=1)\n",
      "Row(artist='Boney M.', auth='Logged In', firstName='Alyssia', gender='F', itemInSession=65, lastName='Campbell', length=199.26159, level='paid', location='Ionia, MI', method='PUT', page='NextSong', registration=1537082511000, sessionId=47, song='Oceans Of Fantasy', status=200, ts=1538507090000, userAgent='\"Mozilla/5.0 (Macintosh; Intel Mac OS X 10_10) AppleWebKit/600.1.8 (KHTML, like Gecko) Version/8.0 Safari/600.1.8\"', userId='300017', churn=0)\n",
      "******************\n",
      "Row(artist=None, auth='Logged In', firstName='Kaleb', gender='M', itemInSession=243, lastName='Thompson', length=None, level='paid', location='Los Angeles-Long Beach-Anaheim, CA', method='GET', page='Downgrade', registration=1536988041000, sessionId=617, song=None, status=200, ts=1539071852000, userAgent='\"Mozilla/5.0 (Macintosh; Intel Mac OS X 10_9_4) AppleWebKit/537.77.4 (KHTML, like Gecko) Version/7.0.5 Safari/537.77.4\"', userId='29', churn=1)\n",
      "Row(artist='Jay-Z', auth='Logged In', firstName='Kaleb', gender='M', itemInSession=244, lastName='Thompson', length=212.27057, level='paid', location='Los Angeles-Long Beach-Anaheim, CA', method='PUT', page='NextSong', registration=1536988041000, sessionId=617, song=\"D'Evils\", status=200, ts=1539072085000, userAgent='\"Mozilla/5.0 (Macintosh; Intel Mac OS X 10_9_4) AppleWebKit/537.77.4 (KHTML, like Gecko) Version/7.0.5 Safari/537.77.4\"', userId='29', churn=0)\n",
      "******************\n",
      "Row(artist=None, auth='Logged In', firstName='Jada', gender='F', itemInSession=138, lastName='Barnes', length=None, level='paid', location='Milwaukee-Waukesha-West Allis, WI', method='GET', page='Downgrade', registration=1536824159000, sessionId=588, song=None, status=200, ts=1539347815000, userAgent='\"Mozilla/5.0 (Windows NT 6.1; WOW64) AppleWebKit/537.36 (KHTML, like Gecko) Chrome/36.0.1985.143 Safari/537.36\"', userId='69', churn=1)\n",
      "Row(artist='Die Mooskirchner', auth='Logged In', firstName='Jada', gender='F', itemInSession=139, lastName='Barnes', length=169.29914, level='paid', location='Milwaukee-Waukesha-West Allis, WI', method='PUT', page='NextSong', registration=1536824159000, sessionId=588, song=\"Frisch und g'sund\", status=200, ts=1539347994000, userAgent='\"Mozilla/5.0 (Windows NT 6.1; WOW64) AppleWebKit/537.36 (KHTML, like Gecko) Chrome/36.0.1985.143 Safari/537.36\"', userId='69', churn=0)\n",
      "******************\n",
      "Row(artist=None, auth='Logged In', firstName='Dillyn', gender='F', itemInSession=36, lastName='Richardson', length=None, level='paid', location='Danville, VA', method='GET', page='Downgrade', registration=1537811988000, sessionId=543, song=None, status=200, ts=1538926570000, userAgent='\"Mozilla/5.0 (Windows NT 6.1) AppleWebKit/537.36 (KHTML, like Gecko) Chrome/36.0.1985.143 Safari/537.36\"', userId='42', churn=1)\n",
      "Row(artist='3OH!3', auth='Logged In', firstName='Dillyn', gender='F', itemInSession=37, lastName='Richardson', length=192.522, level='paid', location='Danville, VA', method='PUT', page='NextSong', registration=1537811988000, sessionId=543, song='My First Kiss (Feat. Ke$ha) [Album Version]', status=200, ts=1538926728000, userAgent='\"Mozilla/5.0 (Windows NT 6.1) AppleWebKit/537.36 (KHTML, like Gecko) Chrome/36.0.1985.143 Safari/537.36\"', userId='42', churn=0)\n",
      "******************\n",
      "Row(artist=None, auth='Logged In', firstName='Madelyn', gender='F', itemInSession=62, lastName='Henson', length=None, level='paid', location='Charlotte-Concord-Gastonia, NC-SC', method='GET', page='Downgrade', registration=1532920994000, sessionId=366, song=None, status=200, ts=1538592523000, userAgent='\"Mozilla/5.0 (Macintosh; Intel Mac OS X 10_9_4) AppleWebKit/537.36 (KHTML, like Gecko) Chrome/37.0.2062.94 Safari/537.36\"', userId='113', churn=1)\n",
      "Row(artist='A Different Breed of Killer', auth='Logged In', firstName='Madelyn', gender='F', itemInSession=63, lastName='Henson', length=89.10322, level='paid', location='Charlotte-Concord-Gastonia, NC-SC', method='PUT', page='NextSong', registration=1532920994000, sessionId=366, song='Dawning', status=200, ts=1538592737000, userAgent='\"Mozilla/5.0 (Macintosh; Intel Mac OS X 10_9_4) AppleWebKit/537.36 (KHTML, like Gecko) Chrome/37.0.2062.94 Safari/537.36\"', userId='113', churn=0)\n",
      "******************\n",
      "Row(artist=None, auth='Logged In', firstName='Colin', gender='M', itemInSession=26, lastName='Freeman', length=None, level='paid', location='Bakersfield, CA', method='GET', page='Downgrade', registration=1538173362000, sessionId=532, song=None, status=200, ts=1538953526000, userAgent='Mozilla/5.0 (Windows NT 6.1; WOW64; rv:31.0) Gecko/20100101 Firefox/31.0', userId='30', churn=1)\n",
      "Row(artist='the bird and the bee', auth='Logged In', firstName='Colin', gender='M', itemInSession=27, lastName='Freeman', length=165.642, level='paid', location='Bakersfield, CA', method='PUT', page='NextSong', registration=1538173362000, sessionId=532, song='Again & Again', status=200, ts=1538953759000, userAgent='Mozilla/5.0 (Windows NT 6.1; WOW64; rv:31.0) Gecko/20100101 Firefox/31.0', userId='30', churn=0)\n",
      "******************\n",
      "Row(artist=None, auth='Logged In', firstName='Jaleel', gender='M', itemInSession=34, lastName='Maldonado', length=None, level='paid', location='Boulder, CO', method='GET', page='Downgrade', registration=1537890437000, sessionId=455, song=None, status=200, ts=1538736844000, userAgent='Mozilla/5.0 (Windows NT 6.1; WOW64; rv:31.0) Gecko/20100101 Firefox/31.0', userId='59', churn=1)\n",
      "Row(artist='The Black Keys', auth='Logged In', firstName='Jaleel', gender='M', itemInSession=35, lastName='Maldonado', length=275.85261, level='paid', location='Boulder, CO', method='PUT', page='NextSong', registration=1537890437000, sessionId=455, song='The Flame', status=200, ts=1538736936000, userAgent='Mozilla/5.0 (Windows NT 6.1; WOW64; rv:31.0) Gecko/20100101 Firefox/31.0', userId='59', churn=0)\n",
      "******************\n",
      "Row(artist=None, auth='Logged In', firstName='Jaderion', gender='M', itemInSession=60, lastName='Clark', length=None, level='paid', location='Los Angeles-Long Beach-Anaheim, CA', method='GET', page='Downgrade', registration=1535271638000, sessionId=172, song=None, status=200, ts=1541050804000, userAgent='\"Mozilla/5.0 (iPhone; CPU iPhone OS 7_1 like Mac OS X) AppleWebKit/537.51.2 (KHTML, like Gecko) Version/7.0 Mobile/11D167 Safari/9537.53\"', userId='139', churn=1)\n",
      "Row(artist='Sade', auth='Logged In', firstName='Jaderion', gender='M', itemInSession=62, lastName='Clark', length=271.96036, level='paid', location='Los Angeles-Long Beach-Anaheim, CA', method='PUT', page='NextSong', registration=1535271638000, sessionId=172, song='Hang On To Your Love', status=200, ts=1541051148000, userAgent='\"Mozilla/5.0 (iPhone; CPU iPhone OS 7_1 like Mac OS X) AppleWebKit/537.51.2 (KHTML, like Gecko) Version/7.0 Mobile/11D167 Safari/9537.53\"', userId='139', churn=0)\n",
      "******************\n",
      "Row(artist=None, auth='Logged In', firstName='Teagan', gender='F', itemInSession=71, lastName='Roberts', length=None, level='paid', location='New Philadelphia-Dover, OH', method='GET', page='Downgrade', registration=1537634865000, sessionId=1367, song=None, status=200, ts=1540826453000, userAgent='Mozilla/5.0 (Windows NT 6.1; WOW64; Trident/7.0; rv:11.0) like Gecko', userId='28', churn=1)\n",
      "Row(artist='Showtek', auth='Logged In', firstName='Teagan', gender='F', itemInSession=72, lastName='Roberts', length=257.09669, level='paid', location='New Philadelphia-Dover, OH', method='PUT', page='NextSong', registration=1537634865000, sessionId=1367, song='We Speak Music', status=200, ts=1540826813000, userAgent='Mozilla/5.0 (Windows NT 6.1; WOW64; Trident/7.0; rv:11.0) like Gecko', userId='28', churn=0)\n",
      "******************\n",
      "Row(artist=None, auth='Logged In', firstName='Joseph', gender='M', itemInSession=33, lastName='Green', length=None, level='paid', location='Chicago-Naperville-Elgin, IL-IN-WI', method='GET', page='Downgrade', registration=1535591420000, sessionId=127, song=None, status=200, ts=1539620070000, userAgent='\"Mozilla/5.0 (Macintosh; Intel Mac OS X 10_9_4) AppleWebKit/537.36 (KHTML, like Gecko) Chrome/36.0.1985.125 Safari/537.36\"', userId='300018', churn=1)\n",
      "Row(artist='Ekhymosis', auth='Logged In', firstName='Joseph', gender='M', itemInSession=34, lastName='Green', length=306.72934, level='paid', location='Chicago-Naperville-Elgin, IL-IN-WI', method='PUT', page='NextSong', registration=1535591420000, sessionId=127, song='Solo', status=200, ts=1539620331000, userAgent='\"Mozilla/5.0 (Macintosh; Intel Mac OS X 10_9_4) AppleWebKit/537.36 (KHTML, like Gecko) Chrome/36.0.1985.125 Safari/537.36\"', userId='300018', churn=0)\n",
      "******************\n",
      "Row(artist=None, auth='Logged In', firstName='Carter', gender='M', itemInSession=50, lastName='Tanner', length=None, level='paid', location='Miami-Fort Lauderdale-West Palm Beach, FL', method='GET', page='Downgrade', registration=1530306321000, sessionId=256, song=None, status=200, ts=1540860894000, userAgent='\"Mozilla/5.0 (Windows NT 5.1) AppleWebKit/537.36 (KHTML, like Gecko) Chrome/36.0.1985.143 Safari/537.36\"', userId='300012', churn=1)\n",
      "Row(artist='Wizzard', auth='Logged In', firstName='Carter', gender='M', itemInSession=51, lastName='Tanner', length=278.49098, level='paid', location='Miami-Fort Lauderdale-West Palm Beach, FL', method='PUT', page='NextSong', registration=1530306321000, sessionId=256, song='I Wish It Could Be Christmas Everyday', status=200, ts=1540861202000, userAgent='\"Mozilla/5.0 (Windows NT 5.1) AppleWebKit/537.36 (KHTML, like Gecko) Chrome/36.0.1985.143 Safari/537.36\"', userId='300012', churn=0)\n",
      "******************\n",
      "Row(artist=None, auth='Logged In', firstName='Brayden', gender='M', itemInSession=89, lastName='Thomas', length=None, level='paid', location='Los Angeles-Long Beach-Anaheim, CA', method='GET', page='Downgrade', registration=1534133898000, sessionId=696, song=None, status=200, ts=1539216604000, userAgent='\"Mozilla/5.0 (Macintosh; Intel Mac OS X 10_9_4) AppleWebKit/537.36 (KHTML, like Gecko) Chrome/36.0.1985.143 Safari/537.36\"', userId='85', churn=1)\n",
      "Row(artist='U2', auth='Logged In', firstName='Brayden', gender='M', itemInSession=91, lastName='Thomas', length=296.202, level='paid', location='Los Angeles-Long Beach-Anaheim, CA', method='PUT', page='NextSong', registration=1534133898000, sessionId=696, song='With Or Without You', status=200, ts=1539216862000, userAgent='\"Mozilla/5.0 (Macintosh; Intel Mac OS X 10_9_4) AppleWebKit/537.36 (KHTML, like Gecko) Chrome/36.0.1985.143 Safari/537.36\"', userId='85', churn=0)\n",
      "******************\n",
      "Row(artist=None, auth='Logged In', firstName='Lily', gender='F', itemInSession=19, lastName='Barnett', length=None, level='paid', location='Washington-Arlington-Alexandria, DC-VA-MD-WV', method='GET', page='Downgrade', registration=1537053412000, sessionId=759, song=None, status=200, ts=1539356775000, userAgent='\"Mozilla/5.0 (Macintosh; Intel Mac OS X 10_9_4) AppleWebKit/537.77.4 (KHTML, like Gecko) Version/7.0.5 Safari/537.77.4\"', userId='35', churn=1)\n",
      "Row(artist='Rise Against', auth='Logged In', firstName='Lily', gender='F', itemInSession=20, lastName='Barnett', length=242.25914, level='paid', location='Washington-Arlington-Alexandria, DC-VA-MD-WV', method='PUT', page='NextSong', registration=1537053412000, sessionId=759, song='Savior', status=200, ts=1539357012000, userAgent='\"Mozilla/5.0 (Macintosh; Intel Mac OS X 10_9_4) AppleWebKit/537.77.4 (KHTML, like Gecko) Version/7.0.5 Safari/537.77.4\"', userId='35', churn=0)\n",
      "******************\n",
      "Row(artist=None, auth='Logged In', firstName='Emma', gender='F', itemInSession=9, lastName='Lee', length=None, level='paid', location='Winston-Salem, NC', method='GET', page='Downgrade', registration=1536597540000, sessionId=443, song=None, status=200, ts=1539780773000, userAgent='\"Mozilla/5.0 (Windows NT 6.3; WOW64) AppleWebKit/537.36 (KHTML, like Gecko) Chrome/36.0.1985.143 Safari/537.36\"', userId='16', churn=1)\n",
      "Row(artist='Maxi Priest', auth='Logged In', firstName='Emma', gender='F', itemInSession=10, lastName='Lee', length=263.78404, level='paid', location='Winston-Salem, NC', method='PUT', page='NextSong', registration=1536597540000, sessionId=443, song='Just A Little Bit Longer', status=200, ts=1539781049000, userAgent='\"Mozilla/5.0 (Windows NT 6.3; WOW64) AppleWebKit/537.36 (KHTML, like Gecko) Chrome/36.0.1985.143 Safari/537.36\"', userId='16', churn=0)\n",
      "******************\n",
      "Row(artist=None, auth='Logged In', firstName='Miracle', gender='F', itemInSession=146, lastName='Ho', length=None, level='paid', location='Atlanta-Sandy Springs-Roswell, GA', method='GET', page='Downgrade', registration=1534613601000, sessionId=1407, song=None, status=200, ts=1541185903000, userAgent='Mozilla/5.0 (Windows NT 6.1; WOW64; rv:31.0) Gecko/20100101 Firefox/31.0', userId='52', churn=1)\n",
      "Row(artist='The Spill Canvas', auth='Logged In', firstName='Miracle', gender='F', itemInSession=147, lastName='Ho', length=358.03383, level='paid', location='Atlanta-Sandy Springs-Roswell, GA', method='PUT', page='NextSong', registration=1534613601000, sessionId=1407, song='The TIde (LP Version)', status=200, ts=1541185946000, userAgent='Mozilla/5.0 (Windows NT 6.1; WOW64; rv:31.0) Gecko/20100101 Firefox/31.0', userId='52', churn=0)\n",
      "******************\n",
      "Row(artist=None, auth='Logged In', firstName='Jade', gender='F', itemInSession=79, lastName='Stewart', length=None, level='paid', location='Cookeville, TN', method='GET', page='Downgrade', registration=1535660231000, sessionId=83, song=None, status=200, ts=1538973293000, userAgent='\"Mozilla/5.0 (iPhone; CPU iPhone OS 7_1 like Mac OS X) AppleWebKit/537.51.2 (KHTML, like Gecko) Version/7.0 Mobile/11D167 Safari/9537.53\"', userId='300008', churn=1)\n",
      "Row(artist='Steve Bug', auth='Logged In', firstName='Jade', gender='F', itemInSession=0, lastName='Stewart', length=438.67383, level='paid', location='Cookeville, TN', method='PUT', page='NextSong', registration=1535660231000, sessionId=102, song='Smackman', status=200, ts=1539050068000, userAgent='\"Mozilla/5.0 (iPhone; CPU iPhone OS 7_1 like Mac OS X) AppleWebKit/537.51.2 (KHTML, like Gecko) Version/7.0 Mobile/11D167 Safari/9537.53\"', userId='300008', churn=0)\n",
      "******************\n",
      "Row(artist=None, auth='Logged In', firstName='Jonah', gender='M', itemInSession=9, lastName='Thompson', length=None, level='paid', location='Tallahassee, FL', method='GET', page='Downgrade', registration=1538253263000, sessionId=1823, song=None, status=200, ts=1542802621000, userAgent='Mozilla/5.0 (Macintosh; Intel Mac OS X 10.9; rv:31.0) Gecko/20100101 Firefox/31.0', userId='71', churn=1)\n",
      "Row(artist='Queen', auth='Logged In', firstName='Jonah', gender='M', itemInSession=10, lastName='Thompson', length=218.95791, level='paid', location='Tallahassee, FL', method='PUT', page='NextSong', registration=1538253263000, sessionId=1823, song='Love Of My Life (1993 Digital Remaster)', status=200, ts=1542802846000, userAgent='Mozilla/5.0 (Macintosh; Intel Mac OS X 10.9; rv:31.0) Gecko/20100101 Firefox/31.0', userId='71', churn=0)\n",
      "******************\n",
      "Row(artist=None, auth='Logged In', firstName='Sawyer', gender='M', itemInSession=12, lastName='Larson', length=None, level='paid', location='Houston-The Woodlands-Sugar Land, TX', method='GET', page='Downgrade', registration=1538069638000, sessionId=1139, song=None, status=200, ts=1540458887000, userAgent='\"Mozilla/5.0 (Macintosh; Intel Mac OS X 10_9_4) AppleWebKit/537.36 (KHTML, like Gecko) Chrome/36.0.1985.143 Safari/537.36\"', userId='98', churn=1)\n",
      "Row(artist='Timbaland / Justin Timberlake / Nelly Furtado', auth='Logged In', firstName='Sawyer', gender='M', itemInSession=13, lastName='Larson', length=235.2322, level='paid', location='Houston-The Woodlands-Sugar Land, TX', method='PUT', page='NextSong', registration=1538069638000, sessionId=1139, song='Give It To Me', status=200, ts=1540458976000, userAgent='\"Mozilla/5.0 (Macintosh; Intel Mac OS X 10_9_4) AppleWebKit/537.36 (KHTML, like Gecko) Chrome/36.0.1985.143 Safari/537.36\"', userId='98', churn=0)\n",
      "******************\n",
      "Row(artist=None, auth='Logged In', firstName='Bryson', gender='M', itemInSession=118, lastName='Watson', length=None, level='paid', location='Charlotte-Concord-Gastonia, NC-SC', method='GET', page='Downgrade', registration=1535400650000, sessionId=381, song=None, status=200, ts=1542302252000, userAgent='\"Mozilla/5.0 (X11; Linux x86_64) AppleWebKit/537.36 (KHTML, like Gecko) Chrome/36.0.1985.143 Safari/537.36\"', userId='300013', churn=1)\n",
      "Row(artist='Devendra Banhart', auth='Logged In', firstName='Bryson', gender='M', itemInSession=119, lastName='Watson', length=182.12526, level='paid', location='Charlotte-Concord-Gastonia, NC-SC', method='PUT', page='NextSong', registration=1535400650000, sessionId=381, song='Ay Mama', status=200, ts=1542302465000, userAgent='\"Mozilla/5.0 (X11; Linux x86_64) AppleWebKit/537.36 (KHTML, like Gecko) Chrome/36.0.1985.143 Safari/537.36\"', userId='300013', churn=0)\n",
      "******************\n",
      "Row(artist=None, auth='Logged In', firstName='Madison', gender='F', itemInSession=58, lastName='Atkinson', length=None, level='paid', location='New Haven-Milford, CT', method='GET', page='Downgrade', registration=1531811983000, sessionId=2201, song=None, status=200, ts=1543079183000, userAgent='\"Mozilla/5.0 (Windows NT 6.1; WOW64) AppleWebKit/537.36 (KHTML, like Gecko) Chrome/36.0.1985.143 Safari/537.36\"', userId='99', churn=1)\n",
      "Row(artist='Louie Austen', auth='Logged In', firstName='Madison', gender='F', itemInSession=59, lastName='Atkinson', length=301.7922, level='paid', location='New Haven-Milford, CT', method='PUT', page='NextSong', registration=1531811983000, sessionId=2201, song='Glamour Girl', status=200, ts=1543079309000, userAgent='\"Mozilla/5.0 (Windows NT 6.1; WOW64) AppleWebKit/537.36 (KHTML, like Gecko) Chrome/36.0.1985.143 Safari/537.36\"', userId='99', churn=0)\n",
      "******************\n",
      "Row(artist=None, auth='Logged In', firstName='Bryanna', gender='F', itemInSession=69, lastName='Stone', length=None, level='paid', location='Los Angeles-Long Beach-Anaheim, CA', method='GET', page='Downgrade', registration=1537440271000, sessionId=105, song=None, status=200, ts=1539631064000, userAgent='Mozilla/5.0 (Macintosh; Intel Mac OS X 10.7; rv:31.0) Gecko/20100101 Firefox/31.0', userId='100008', churn=1)\n",
      "Row(artist='Bat For Lashes', auth='Logged In', firstName='Bryanna', gender='F', itemInSession=76, lastName='Stone', length=187.71546, level='paid', location='Los Angeles-Long Beach-Anaheim, CA', method='PUT', page='NextSong', registration=1537440271000, sessionId=105, song='Moon And Moon', status=200, ts=1539631394000, userAgent='Mozilla/5.0 (Macintosh; Intel Mac OS X 10.7; rv:31.0) Gecko/20100101 Firefox/31.0', userId='100008', churn=0)\n",
      "******************\n",
      "Row(artist=None, auth='Logged In', firstName='London', gender='F', itemInSession=24, lastName='Diaz', length=None, level='paid', location='New York-Newark-Jersey City, NY-NJ-PA', method='GET', page='Downgrade', registration=1532625569000, sessionId=123, song=None, status=200, ts=1539928455000, userAgent='\"Mozilla/5.0 (Macintosh; Intel Mac OS X 10_9_4) AppleWebKit/537.36 (KHTML, like Gecko) Chrome/35.0.1916.153 Safari/537.36\"', userId='100025', churn=1)\n",
      "Row(artist='Puddle Of Mudd', auth='Logged In', firstName='London', gender='F', itemInSession=25, lastName='Diaz', length=303.85587, level='paid', location='New York-Newark-Jersey City, NY-NJ-PA', method='PUT', page='NextSong', registration=1532625569000, sessionId=123, song='Blurry', status=200, ts=1539928655000, userAgent='\"Mozilla/5.0 (Macintosh; Intel Mac OS X 10_9_4) AppleWebKit/537.36 (KHTML, like Gecko) Chrome/35.0.1916.153 Safari/537.36\"', userId='100025', churn=0)\n",
      "******************\n",
      "Row(artist=None, auth='Logged In', firstName='Noah', gender='M', itemInSession=59, lastName='Whitehead', length=None, level='paid', location='New Haven-Milford, CT', method='GET', page='Downgrade', registration=1535361448000, sessionId=410, song=None, status=200, ts=1543072130000, userAgent='\"Mozilla/5.0 (Macintosh; Intel Mac OS X 10_7_5) AppleWebKit/537.36 (KHTML, like Gecko) Chrome/36.0.1985.125 Safari/537.36\"', userId='300006', churn=1)\n",
      "Row(artist='Daft Punk', auth='Logged In', firstName='Noah', gender='M', itemInSession=70, lastName='Whitehead', length=223.60771, level='paid', location='New Haven-Milford, CT', method='PUT', page='NextSong', registration=1535361448000, sessionId=410, song='Harder Better Faster Stronger', status=200, ts=1543072405000, userAgent='\"Mozilla/5.0 (Macintosh; Intel Mac OS X 10_7_5) AppleWebKit/537.36 (KHTML, like Gecko) Chrome/36.0.1985.125 Safari/537.36\"', userId='300006', churn=0)\n",
      "******************\n",
      "Row(artist=None, auth='Logged In', firstName='Lindyn', gender='F', itemInSession=3, lastName='Patel', length=None, level='paid', location='Truckee-Grass Valley, CA', method='GET', page='Downgrade', registration=1532589384000, sessionId=167, song=None, status=200, ts=1539735779000, userAgent='Mozilla/5.0 (Macintosh; Intel Mac OS X 10.9; rv:31.0) Gecko/20100101 Firefox/31.0', userId='300002', churn=1)\n",
      "Row(artist='Paramore', auth='Logged In', firstName='Lindyn', gender='F', itemInSession=9, lastName='Patel', length=226.29832, level='paid', location='Truckee-Grass Valley, CA', method='PUT', page='NextSong', registration=1532589384000, sessionId=167, song='Here We Go Again (Album Version)', status=200, ts=1539735908000, userAgent='Mozilla/5.0 (Macintosh; Intel Mac OS X 10.9; rv:31.0) Gecko/20100101 Firefox/31.0', userId='300002', churn=0)\n",
      "******************\n",
      "Row(artist=None, auth='Logged In', firstName='Alexandria', gender='F', itemInSession=6, lastName='Mills', length=None, level='paid', location='Atlantic City-Hammonton, NJ', method='GET', page='Downgrade', registration=1537149749000, sessionId=735, song=None, status=200, ts=1539340042000, userAgent='\"Mozilla/5.0 (Macintosh; Intel Mac OS X 10_9_4) AppleWebKit/537.36 (KHTML, like Gecko) Chrome/37.0.2062.94 Safari/537.36\"', userId='96', churn=1)\n",
      "Row(artist='Air Supply', auth='Logged In', firstName='Alexandria', gender='F', itemInSession=7, lastName='Mills', length=293.66812, level='paid', location='Atlantic City-Hammonton, NJ', method='PUT', page='NextSong', registration=1537149749000, sessionId=735, song='Faith (Album Version)', status=200, ts=1539340259000, userAgent='\"Mozilla/5.0 (Macintosh; Intel Mac OS X 10_9_4) AppleWebKit/537.36 (KHTML, like Gecko) Chrome/37.0.2062.94 Safari/537.36\"', userId='96', churn=0)\n",
      "******************\n",
      "Row(artist=None, auth='Logged In', firstName='Lucas', gender='M', itemInSession=64, lastName='Franklin', length=None, level='paid', location='Phoenix-Mesa-Scottsdale, AZ', method='GET', page='Downgrade', registration=1537707098000, sessionId=44, song=None, status=200, ts=1538689821000, userAgent='\"Mozilla/5.0 (X11; Linux x86_64) AppleWebKit/537.36 (KHTML, like Gecko) Chrome/36.0.1985.125 Safari/537.36\"', userId='300007', churn=1)\n",
      "Row(artist='Morris Day', auth='Logged In', firstName='Lucas', gender='M', itemInSession=65, lastName='Franklin', length=442.46159, level='paid', location='Phoenix-Mesa-Scottsdale, AZ', method='PUT', page='NextSong', registration=1537707098000, sessionId=44, song='The Oak Tree (Album Version)', status=200, ts=1538690040000, userAgent='\"Mozilla/5.0 (X11; Linux x86_64) AppleWebKit/537.36 (KHTML, like Gecko) Chrome/36.0.1985.125 Safari/537.36\"', userId='300007', churn=0)\n",
      "******************\n",
      "Row(artist=None, auth='Logged In', firstName='Colin', gender='M', itemInSession=27, lastName='Larson', length=None, level='paid', location='Dallas-Fort Worth-Arlington, TX', method='GET', page='Downgrade', registration=1537982255000, sessionId=369, song=None, status=200, ts=1538618142000, userAgent='Mozilla/5.0 (Windows NT 6.1; WOW64; rv:30.0) Gecko/20100101 Firefox/30.0', userId='100', churn=1)\n",
      "Row(artist='Jackson 5', auth='Logged In', firstName='Colin', gender='M', itemInSession=28, lastName='Larson', length=165.85098, level='paid', location='Dallas-Fort Worth-Arlington, TX', method='PUT', page='NextSong', registration=1537982255000, sessionId=369, song='Teenage Symphony', status=200, ts=1538618403000, userAgent='Mozilla/5.0 (Windows NT 6.1; WOW64; rv:30.0) Gecko/20100101 Firefox/30.0', userId='100', churn=0)\n",
      "******************\n",
      "Row(artist=None, auth='Logged In', firstName='Adriel', gender='M', itemInSession=141, lastName='Mendoza', length=None, level='paid', location='Kansas City, MO-KS', method='GET', page='Downgrade', registration=1535623466000, sessionId=409, song=None, status=200, ts=1538749555000, userAgent='\"Mozilla/5.0 (Macintosh; Intel Mac OS X 10_9_4) AppleWebKit/537.77.4 (KHTML, like Gecko) Version/7.0.5 Safari/537.77.4\"', userId='18', churn=1)\n",
      "Row(artist='The Heavy', auth='Logged In', firstName='Adriel', gender='M', itemInSession=142, lastName='Mendoza', length=197.35465, level='paid', location='Kansas City, MO-KS', method='PUT', page='NextSong', registration=1535623466000, sessionId=409, song='How You Like Me Now?', status=200, ts=1538749728000, userAgent='\"Mozilla/5.0 (Macintosh; Intel Mac OS X 10_9_4) AppleWebKit/537.77.4 (KHTML, like Gecko) Version/7.0.5 Safari/537.77.4\"', userId='18', churn=0)\n",
      "******************\n",
      "Row(artist=None, auth='Logged In', firstName='Chayse', gender='M', itemInSession=53, lastName='Keller', length=None, level='paid', location='Jackson, MS', method='GET', page='Downgrade', registration=1529643103000, sessionId=904, song=None, status=200, ts=1539698526000, userAgent='\"Mozilla/5.0 (Windows NT 6.1; WOW64) AppleWebKit/537.36 (KHTML, like Gecko) Chrome/37.0.2062.103 Safari/537.36\"', userId='70', churn=1)\n",
      "Row(artist='Steely Dan', auth='Logged In', firstName='Chayse', gender='M', itemInSession=54, lastName='Keller', length=377.59955, level='paid', location='Jackson, MS', method='PUT', page='NextSong', registration=1529643103000, sessionId=904, song='Jack Of Speed (Album Version)', status=200, ts=1539698738000, userAgent='\"Mozilla/5.0 (Windows NT 6.1; WOW64) AppleWebKit/537.36 (KHTML, like Gecko) Chrome/37.0.2062.103 Safari/537.36\"', userId='70', churn=0)\n",
      "******************\n",
      "Row(artist=None, auth='Logged In', firstName='Parker', gender='M', itemInSession=267, lastName='Williams', length=None, level='paid', location='San Francisco-Oakland-Hayward, CA', method='GET', page='Downgrade', registration=1537188538000, sessionId=529, song=None, status=200, ts=1539161532000, userAgent='\"Mozilla/5.0 (iPhone; CPU iPhone OS 7_1_1 like Mac OS X) AppleWebKit/537.51.2 (KHTML, like Gecko) Version/7.0 Mobile/11D201 Safari/9537.53\"', userId='61', churn=1)\n",
      "Row(artist='Janis Joplin', auth='Logged In', firstName='Parker', gender='M', itemInSession=268, lastName='Williams', length=226.24608, level='paid', location='San Francisco-Oakland-Hayward, CA', method='PUT', page='NextSong', registration=1537188538000, sessionId=529, song='Raise Your Hand (Live)', status=200, ts=1539161586000, userAgent='\"Mozilla/5.0 (iPhone; CPU iPhone OS 7_1_1 like Mac OS X) AppleWebKit/537.51.2 (KHTML, like Gecko) Version/7.0 Mobile/11D201 Safari/9537.53\"', userId='61', churn=0)\n",
      "******************\n",
      "Row(artist=None, auth='Logged In', firstName='Amberlynn', gender='F', itemInSession=1, lastName='Olson', length=None, level='paid', location='Buffalo-Cheektowaga-Niagara Falls, NY', method='GET', page='Downgrade', registration=1537201808000, sessionId=74, song=None, status=200, ts=1538660966000, userAgent='\"Mozilla/5.0 (Windows NT 5.1) AppleWebKit/537.36 (KHTML, like Gecko) Chrome/36.0.1985.143 Safari/537.36\"', userId='75', churn=1)\n",
      "Row(artist='Skeletonwitch', auth='Logged In', firstName='Amberlynn', gender='F', itemInSession=2, lastName='Olson', length=151.66649, level='paid', location='Buffalo-Cheektowaga-Niagara Falls, NY', method='PUT', page='NextSong', registration=1537201808000, sessionId=74, song='Crushed Beyond Dust', status=200, ts=1538661146000, userAgent='\"Mozilla/5.0 (Windows NT 5.1) AppleWebKit/537.36 (KHTML, like Gecko) Chrome/36.0.1985.143 Safari/537.36\"', userId='75', churn=0)\n",
      "******************\n",
      "Row(artist=None, auth='Logged In', firstName='Kael', gender='M', itemInSession=46, lastName='Baker', length=None, level='paid', location='Kingsport-Bristol-Bristol, TN-VA', method='GET', page='Downgrade', registration=1533102330000, sessionId=249, song=None, status=200, ts=1538393618000, userAgent='\"Mozilla/5.0 (Macintosh; Intel Mac OS X 10_9_4) AppleWebKit/537.77.4 (KHTML, like Gecko) Version/7.0.5 Safari/537.77.4\"', userId='131', churn=1)\n",
      "Row(artist='the bird and the bee', auth='Logged In', firstName='Kael', gender='M', itemInSession=49, lastName='Baker', length=181.02812, level='paid', location='Kingsport-Bristol-Bristol, TN-VA', method='PUT', page='NextSong', registration=1533102330000, sessionId=249, song='Heard It On The Radio', status=200, ts=1538393915000, userAgent='\"Mozilla/5.0 (Macintosh; Intel Mac OS X 10_9_4) AppleWebKit/537.77.4 (KHTML, like Gecko) Version/7.0.5 Safari/537.77.4\"', userId='131', churn=0)\n",
      "******************\n",
      "Row(artist=None, auth='Logged In', firstName='Lucero', gender='F', itemInSession=97, lastName='Reed', length=None, level='paid', location='Louisville/Jefferson County, KY-IN', method='GET', page='Downgrade', registration=1536642109000, sessionId=492, song=None, status=200, ts=1538801289000, userAgent='\"Mozilla/5.0 (Windows NT 6.1; WOW64) AppleWebKit/537.36 (KHTML, like Gecko) Chrome/36.0.1985.125 Safari/537.36\"', userId='140', churn=1)\n",
      "Row(artist='Airbourne', auth='Logged In', firstName='Lucero', gender='F', itemInSession=98, lastName='Reed', length=224.7571, level='paid', location='Louisville/Jefferson County, KY-IN', method='PUT', page='NextSong', registration=1536642109000, sessionId=492, song='Too Much_ Too Young_ Too Fast', status=200, ts=1538801528000, userAgent='\"Mozilla/5.0 (Windows NT 6.1; WOW64) AppleWebKit/537.36 (KHTML, like Gecko) Chrome/36.0.1985.125 Safari/537.36\"', userId='140', churn=0)\n",
      "******************\n",
      "Row(artist=None, auth='Logged In', firstName='Kayla', gender='F', itemInSession=21, lastName='Johnson', length=None, level='paid', location='Philadelphia-Camden-Wilmington, PA-NJ-DE-MD', method='GET', page='Downgrade', registration=1538333829000, sessionId=602, song=None, status=200, ts=1539171080000, userAgent='Mozilla/5.0 (Windows NT 6.1; WOW64; rv:24.0) Gecko/20100101 Firefox/24.0', userId='17', churn=1)\n",
      "Row(artist='Bebe', auth='Logged In', firstName='Kayla', gender='F', itemInSession=22, lastName='Johnson', length=222.17098, level='paid', location='Philadelphia-Camden-Wilmington, PA-NJ-DE-MD', method='PUT', page='NextSong', registration=1538333829000, sessionId=602, song='Ska De La Tierra', status=200, ts=1539171362000, userAgent='Mozilla/5.0 (Windows NT 6.1; WOW64; rv:24.0) Gecko/20100101 Firefox/24.0', userId='17', churn=0)\n",
      "******************\n",
      "Row(artist=None, auth='Logged In', firstName='Daelin', gender='M', itemInSession=94, lastName='Turner', length=None, level='paid', location='New York-Newark-Jersey City, NY-NJ-PA', method='GET', page='Downgrade', registration=1538227408000, sessionId=988, song=None, status=200, ts=1539982527000, userAgent='\"Mozilla/5.0 (Windows NT 6.1; WOW64) AppleWebKit/537.36 (KHTML, like Gecko) Chrome/37.0.2062.94 Safari/537.36\"', userId='126', churn=1)\n",
      "Row(artist='Lords Of The New Church', auth='Logged In', firstName='Daelin', gender='M', itemInSession=95, lastName='Turner', length=182.36036, level='paid', location='New York-Newark-Jersey City, NY-NJ-PA', method='PUT', page='NextSong', registration=1538227408000, sessionId=988, song='Girls Girls Girls', status=200, ts=1539982724000, userAgent='\"Mozilla/5.0 (Windows NT 6.1; WOW64) AppleWebKit/537.36 (KHTML, like Gecko) Chrome/37.0.2062.94 Safari/537.36\"', userId='126', churn=0)\n",
      "******************\n",
      "Row(artist=None, auth='Logged In', firstName='Piper', gender='F', itemInSession=8, lastName='Cook', length=None, level='paid', location='Little Rock-North Little Rock-Conway, AR', method='GET', page='Downgrade', registration=1533522419000, sessionId=34, song=None, status=200, ts=1538467035000, userAgent='\"Mozilla/5.0 (Windows NT 6.3; WOW64) AppleWebKit/537.36 (KHTML, like Gecko) Chrome/36.0.1985.125 Safari/537.36\"', userId='100007', churn=1)\n",
      "Row(artist='MotÃ\\x83Â¶rhead', auth='Logged In', firstName='Piper', gender='F', itemInSession=9, lastName='Cook', length=221.09995, level='paid', location='Little Rock-North Little Rock-Conway, AR', method='PUT', page='NextSong', registration=1533522419000, sessionId=34, song='All gone to hell', status=200, ts=1538467205000, userAgent='\"Mozilla/5.0 (Windows NT 6.3; WOW64) AppleWebKit/537.36 (KHTML, like Gecko) Chrome/36.0.1985.125 Safari/537.36\"', userId='100007', churn=0)\n",
      "******************\n",
      "Row(artist=None, auth='Logged In', firstName='Elizabeth', gender='F', itemInSession=17, lastName='Washington', length=None, level='paid', location='Oklahoma City, OK', method='GET', page='Downgrade', registration=1532472246000, sessionId=247, song=None, status=200, ts=1538396771000, userAgent='\"Mozilla/5.0 (Macintosh; Intel Mac OS X 10_9_4) AppleWebKit/537.36 (KHTML, like Gecko) Chrome/36.0.1985.143 Safari/537.36\"', userId='120', churn=1)\n",
      "Row(artist='Mes AÃ\\x83Â¯eux', auth='Logged In', firstName='Elizabeth', gender='F', itemInSession=18, lastName='Washington', length=437.31546, level='paid', location='Oklahoma City, OK', method='PUT', page='NextSong', registration=1532472246000, sessionId=247, song='Descendus au chantier', status=200, ts=1538396969000, userAgent='\"Mozilla/5.0 (Macintosh; Intel Mac OS X 10_9_4) AppleWebKit/537.36 (KHTML, like Gecko) Chrome/36.0.1985.143 Safari/537.36\"', userId='120', churn=0)\n",
      "******************\n",
      "Row(artist=None, auth='Logged In', firstName='Adelaida', gender='F', itemInSession=64, lastName='Rodriguez', length=None, level='paid', location='Los Angeles-Long Beach-Anaheim, CA', method='GET', page='Downgrade', registration=1537767796000, sessionId=1431, song=None, status=200, ts=1541009154000, userAgent='\"Mozilla/5.0 (Macintosh; Intel Mac OS X 10_9_4) AppleWebKit/537.36 (KHTML, like Gecko) Chrome/36.0.1985.143 Safari/537.36\"', userId='46', churn=1)\n",
      "Row(artist='Base Ball Bear', auth='Logged In', firstName='Adelaida', gender='F', itemInSession=65, lastName='Rodriguez', length=255.60771, level='paid', location='Los Angeles-Long Beach-Anaheim, CA', method='PUT', page='NextSong', registration=1537767796000, sessionId=1431, song='Sayonara-Nostalgia', status=200, ts=1541009353000, userAgent='\"Mozilla/5.0 (Macintosh; Intel Mac OS X 10_9_4) AppleWebKit/537.36 (KHTML, like Gecko) Chrome/36.0.1985.143 Safari/537.36\"', userId='46', churn=0)\n",
      "******************\n",
      "Row(artist=None, auth='Logged In', firstName='Peyton', gender='F', itemInSession=118, lastName='Fischer', length=None, level='paid', location='Los Angeles-Long Beach-Anaheim, CA', method='GET', page='Downgrade', registration=1534513445000, sessionId=267, song=None, status=200, ts=1542224965000, userAgent='\"Mozilla/5.0 (Windows NT 6.1) AppleWebKit/537.36 (KHTML, like Gecko) Chrome/36.0.1985.143 Safari/537.36\"', userId='300004', churn=1)\n",
      "Row(artist='Amparanoia', auth='Logged In', firstName='Peyton', gender='F', itemInSession=121, lastName='Fischer', length=221.30893, level='free', location='Los Angeles-Long Beach-Anaheim, CA', method='PUT', page='NextSong', registration=1534513445000, sessionId=267, song='DonÃ\\x82Â´t Leave Me Now', status=200, ts=1542225123000, userAgent='\"Mozilla/5.0 (Windows NT 6.1) AppleWebKit/537.36 (KHTML, like Gecko) Chrome/36.0.1985.143 Safari/537.36\"', userId='300004', churn=0)\n",
      "******************\n",
      "Row(artist=None, auth='Logged In', firstName='Gilbert', gender='M', itemInSession=81, lastName='Todd', length=None, level='paid', location='Charlotte-Concord-Gastonia, NC-SC', method='GET', page='Downgrade', registration=1537522781000, sessionId=1851, song=None, status=200, ts=1542090970000, userAgent='Mozilla/5.0 (compatible; MSIE 9.0; Windows NT 6.1; WOW64; Trident/5.0)', userId='147', churn=1)\n",
      "Row(artist='No Doubt', auth='Logged In', firstName='Gilbert', gender='M', itemInSession=82, lastName='Todd', length=197.45914, level='paid', location='Charlotte-Concord-Gastonia, NC-SC', method='PUT', page='NextSong', registration=1537522781000, sessionId=1851, song='Brand New Day', status=200, ts=1542091126000, userAgent='Mozilla/5.0 (compatible; MSIE 9.0; Windows NT 6.1; WOW64; Trident/5.0)', userId='147', churn=0)\n",
      "******************\n",
      "Row(artist=None, auth='Logged In', firstName='Antonina', gender='F', itemInSession=137, lastName='Kennedy', length=None, level='paid', location='Colorado Springs, CO', method='GET', page='Downgrade', registration=1526739206000, sessionId=1, song=None, status=200, ts=1538415345000, userAgent='\"Mozilla/5.0 (Windows NT 5.1) AppleWebKit/537.36 (KHTML, like Gecko) Chrome/36.0.1985.125 Safari/537.36\"', userId='300001', churn=1)\n",
      "Row(artist='The Mahotella Queens', auth='Logged In', firstName='Antonina', gender='F', itemInSession=138, lastName='Kennedy', length=196.33587, level='paid', location='Colorado Springs, CO', method='PUT', page='NextSong', registration=1526739206000, sessionId=1, song=\"Saphel 'Isizwe\", status=200, ts=1538415528000, userAgent='\"Mozilla/5.0 (Windows NT 5.1) AppleWebKit/537.36 (KHTML, like Gecko) Chrome/36.0.1985.125 Safari/537.36\"', userId='300001', churn=0)\n",
      "******************\n",
      "Row(artist=None, auth='Logged In', firstName='Joshua', gender='M', itemInSession=95, lastName='White', length=None, level='paid', location='San Antonio-New Braunfels, TX', method='GET', page='Downgrade', registration=1528780738000, sessionId=69, song=None, status=200, ts=1539027804000, userAgent='\"Mozilla/5.0 (iPhone; CPU iPhone OS 7_1_2 like Mac OS X) AppleWebKit/537.51.2 (KHTML, like Gecko) Version/7.0 Mobile/11D257 Safari/9537.53\"', userId='300015', churn=1)\n",
      "Row(artist='GirugÃ\\x83Â¤mesh', auth='Logged In', firstName='Joshua', gender='M', itemInSession=98, lastName='White', length=97.93261, level='free', location='San Antonio-New Braunfels, TX', method='PUT', page='NextSong', registration=1528780738000, sessionId=69, song='Intro', status=200, ts=1539029057000, userAgent='\"Mozilla/5.0 (iPhone; CPU iPhone OS 7_1_2 like Mac OS X) AppleWebKit/537.51.2 (KHTML, like Gecko) Version/7.0 Mobile/11D257 Safari/9537.53\"', userId='300015', churn=0)\n",
      "******************\n",
      "Row(artist=None, auth='Logged In', firstName='Autumn', gender='F', itemInSession=44, lastName='Martin', length=None, level='paid', location='Gainesville, FL', method='GET', page='Downgrade', registration=1537749786000, sessionId=315, song=None, status=200, ts=1538471417000, userAgent='\"Mozilla/5.0 (Windows NT 6.1; WOW64) AppleWebKit/537.36 (KHTML, like Gecko) Chrome/36.0.1985.125 Safari/537.36\"', userId='77', churn=1)\n",
      "Row(artist='Garbage', auth='Logged In', firstName='Autumn', gender='F', itemInSession=0, lastName='Martin', length=276.81914, level='paid', location='Gainesville, FL', method='PUT', page='NextSong', registration=1537749786000, sessionId=332, song='Queer', status=200, ts=1539109700000, userAgent='\"Mozilla/5.0 (Windows NT 6.1; WOW64) AppleWebKit/537.36 (KHTML, like Gecko) Chrome/36.0.1985.125 Safari/537.36\"', userId='77', churn=0)\n",
      "******************\n",
      "Row(artist=None, auth='Logged In', firstName='Azrael', gender='M', itemInSession=281, lastName='Hicks', length=None, level='paid', location='Atlanta-Sandy Springs-Roswell, GA', method='GET', page='Downgrade', registration=1535774889000, sessionId=1271, song=None, status=200, ts=1541067431000, userAgent='\"Mozilla/5.0 (Windows NT 6.1; WOW64) AppleWebKit/537.36 (KHTML, like Gecko) Chrome/36.0.1985.125 Safari/537.36\"', userId='89', churn=1)\n",
      "Row(artist='Alexi Murdoch', auth='Logged In', firstName='Azrael', gender='M', itemInSession=282, lastName='Hicks', length=371.1473, level='paid', location='Atlanta-Sandy Springs-Roswell, GA', method='PUT', page='NextSong', registration=1535774889000, sessionId=1271, song='Orange Sky', status=200, ts=1541067704000, userAgent='\"Mozilla/5.0 (Windows NT 6.1; WOW64) AppleWebKit/537.36 (KHTML, like Gecko) Chrome/36.0.1985.125 Safari/537.36\"', userId='89', churn=0)\n",
      "******************\n",
      "Row(artist=None, auth='Logged In', firstName='Freedom', gender='F', itemInSession=135, lastName='Aguilar', length=None, level='paid', location='Charlotte-Concord-Gastonia, NC-SC', method='GET', page='Downgrade', registration=1537034286000, sessionId=855, song=None, status=200, ts=1539741381000, userAgent='\"Mozilla/5.0 (Macintosh; Intel Mac OS X 10_9_4) AppleWebKit/537.77.4 (KHTML, like Gecko) Version/7.0.5 Safari/537.77.4\"', userId='136', churn=1)\n",
      "Row(artist='The Chills', auth='Logged In', firstName='Freedom', gender='F', itemInSession=136, lastName='Aguilar', length=237.76608, level='paid', location='Charlotte-Concord-Gastonia, NC-SC', method='PUT', page='NextSong', registration=1537034286000, sessionId=855, song='Pink Frost', status=200, ts=1539741407000, userAgent='\"Mozilla/5.0 (Macintosh; Intel Mac OS X 10_9_4) AppleWebKit/537.77.4 (KHTML, like Gecko) Version/7.0.5 Safari/537.77.4\"', userId='136', churn=0)\n",
      "******************\n",
      "Row(artist=None, auth='Logged In', firstName='Bryson', gender='M', itemInSession=3, lastName='Roberson', length=None, level='paid', location='Houston-The Woodlands-Sugar Land, TX', method='GET', page='Downgrade', registration=1521380675000, sessionId=539, song=None, status=200, ts=1538846532000, userAgent='\"Mozilla/5.0 (Macintosh; Intel Mac OS X 10_9_4) AppleWebKit/537.36 (KHTML, like Gecko) Chrome/36.0.1985.125 Safari/537.36\"', userId='6', churn=1)\n",
      "Row(artist='Paulina Rubio', auth='Logged In', firstName='Bryson', gender='M', itemInSession=4, lastName='Roberson', length=213.39383, level='paid', location='Houston-The Woodlands-Sugar Land, TX', method='PUT', page='NextSong', registration=1521380675000, sessionId=539, song='MÃ\\x83Â\\xada', status=200, ts=1538846653000, userAgent='\"Mozilla/5.0 (Macintosh; Intel Mac OS X 10_9_4) AppleWebKit/537.36 (KHTML, like Gecko) Chrome/36.0.1985.125 Safari/537.36\"', userId='6', churn=0)\n",
      "******************\n",
      "Row(artist=None, auth='Logged In', firstName='Jayden', gender='F', itemInSession=122, lastName='Phillips', length=None, level='paid', location='New York-Newark-Jersey City, NY-NJ-PA', method='GET', page='Downgrade', registration=1537893493000, sessionId=806, song=None, status=200, ts=1539618949000, userAgent='\"Mozilla/5.0 (Windows NT 6.2; WOW64) AppleWebKit/537.36 (KHTML, like Gecko) Chrome/36.0.1985.125 Safari/537.36\"', userId='118', churn=1)\n",
      "Row(artist='Madder Mortem', auth='Logged In', firstName='Jayden', gender='F', itemInSession=0, lastName='Phillips', length=302.36689, level='paid', location='New York-Newark-Jersey City, NY-NJ-PA', method='PUT', page='NextSong', registration=1537893493000, sessionId=882, song='Ruby Red', status=200, ts=1539880052000, userAgent='\"Mozilla/5.0 (Windows NT 6.2; WOW64) AppleWebKit/537.36 (KHTML, like Gecko) Chrome/36.0.1985.125 Safari/537.36\"', userId='118', churn=0)\n",
      "******************\n",
      "Row(artist=None, auth='Logged In', firstName='Troy', gender='M', itemInSession=54, lastName='Mathis', length=None, level='paid', location='San Francisco-Oakland-Hayward, CA', method='GET', page='Downgrade', registration=1537376437000, sessionId=85, song=None, status=200, ts=1539562691000, userAgent='\"Mozilla/5.0 (Windows NT 6.1; WOW64) AppleWebKit/537.36 (KHTML, like Gecko) Chrome/37.0.2062.94 Safari/537.36\"', userId='100009', churn=1)\n",
      "Row(artist='La Polla Records', auth='Logged In', firstName='Troy', gender='M', itemInSession=55, lastName='Mathis', length=146.38975, level='paid', location='San Francisco-Oakland-Hayward, CA', method='PUT', page='NextSong', registration=1537376437000, sessionId=85, song='ListÃ\\x83Â\\xadsimos', status=200, ts=1539562830000, userAgent='\"Mozilla/5.0 (Windows NT 6.1; WOW64) AppleWebKit/537.36 (KHTML, like Gecko) Chrome/37.0.2062.94 Safari/537.36\"', userId='100009', churn=0)\n",
      "******************\n",
      "Row(artist=None, auth='Logged In', firstName='Emilia', gender='F', itemInSession=142, lastName='House', length=None, level='paid', location='New York-Newark-Jersey City, NY-NJ-PA', method='GET', page='Downgrade', registration=1538336771000, sessionId=66, song=None, status=200, ts=1538656966000, userAgent='Mozilla/5.0 (compatible; MSIE 9.0; Windows NT 6.1; WOW64; Trident/5.0)', userId='300011', churn=1)\n",
      "Row(artist='Thom Yorke', auth='Logged In', firstName='Emilia', gender='F', itemInSession=143, lastName='House', length=402.18077, level='paid', location='New York-Newark-Jersey City, NY-NJ-PA', method='PUT', page='NextSong', registration=1538336771000, sessionId=66, song='FeelingPulledApartByHorses', status=200, ts=1538657494000, userAgent='Mozilla/5.0 (compatible; MSIE 9.0; Windows NT 6.1; WOW64; Trident/5.0)', userId='300011', churn=0)\n",
      "******************\n",
      "Row(artist=None, auth='Logged In', firstName='Michael', gender='M', itemInSession=14, lastName='Miller', length=None, level='paid', location='Phoenix-Mesa-Scottsdale, AZ', method='GET', page='Downgrade', registration=1537014411000, sessionId=1043, song=None, status=200, ts=1539963180000, userAgent='Mozilla/5.0 (Macintosh; Intel Mac OS X 10.8; rv:31.0) Gecko/20100101 Firefox/31.0', userId='60', churn=1)\n",
      "Row(artist=\"K'Naan\", auth='Logged In', firstName='Michael', gender='M', itemInSession=15, lastName='Miller', length=173.06077, level='paid', location='Phoenix-Mesa-Scottsdale, AZ', method='PUT', page='NextSong', registration=1537014411000, sessionId=1043, song='Voices In My Head', status=200, ts=1539963282000, userAgent='Mozilla/5.0 (Macintosh; Intel Mac OS X 10.8; rv:31.0) Gecko/20100101 Firefox/31.0', userId='60', churn=0)\n",
      "******************\n",
      "Row(artist=None, auth='Logged In', firstName='Sophia', gender='F', itemInSession=43, lastName='Hunt', length=None, level='paid', location='Billings, MT', method='GET', page='Downgrade', registration=1532498424000, sessionId=1103, song=None, status=200, ts=1540239941000, userAgent='\"Mozilla/5.0 (Windows NT 6.1) AppleWebKit/537.36 (KHTML, like Gecko) Chrome/36.0.1985.125 Safari/537.36\"', userId='104', churn=1)\n",
      "Row(artist='Fever Ray', auth='Logged In', firstName='Sophia', gender='F', itemInSession=48, lastName='Hunt', length=237.68771, level='paid', location='Billings, MT', method='PUT', page='NextSong', registration=1532498424000, sessionId=1103, song=\"Now's The Only Time I Know\", status=200, ts=1540240072000, userAgent='\"Mozilla/5.0 (Windows NT 6.1) AppleWebKit/537.36 (KHTML, like Gecko) Chrome/36.0.1985.125 Safari/537.36\"', userId='104', churn=0)\n",
      "******************\n",
      "Row(artist=None, auth='Logged In', firstName='Emily', gender='F', itemInSession=3, lastName='Fisher', length=None, level='paid', location='Syracuse, NY', method='GET', page='Downgrade', registration=1528560242000, sessionId=110, song=None, status=200, ts=1539602315000, userAgent='Mozilla/5.0 (compatible; MSIE 9.0; Windows NT 6.1; Trident/5.0)', userId='100004', churn=1)\n",
      "Row(artist='Postal Service', auth='Logged In', firstName='Emily', gender='F', itemInSession=5, lastName='Fisher', length=300.53832, level='paid', location='Syracuse, NY', method='PUT', page='NextSong', registration=1528560242000, sessionId=110, song='We Will Become Silhouettes (Album)', status=200, ts=1539602330000, userAgent='Mozilla/5.0 (compatible; MSIE 9.0; Windows NT 6.1; Trident/5.0)', userId='100004', churn=0)\n",
      "******************\n",
      "Row(artist=None, auth='Logged In', firstName='Zoey', gender='F', itemInSession=52, lastName='Floyd', length=None, level='paid', location='Chicago-Naperville-Elgin, IL-IN-WI', method='GET', page='Downgrade', registration=1530333492000, sessionId=28, song=None, status=200, ts=1538744280000, userAgent='\"Mozilla/5.0 (Windows NT 6.1; WOW64) AppleWebKit/537.36 (KHTML, like Gecko) Chrome/36.0.1985.143 Safari/537.36\"', userId='200003', churn=1)\n",
      "Row(artist='Lil Wayne / Eminem', auth='Logged In', firstName='Zoey', gender='F', itemInSession=55, lastName='Floyd', length=229.58975, level='free', location='Chicago-Naperville-Elgin, IL-IN-WI', method='PUT', page='NextSong', registration=1530333492000, sessionId=28, song='Drop The World', status=200, ts=1538744533000, userAgent='\"Mozilla/5.0 (Windows NT 6.1; WOW64) AppleWebKit/537.36 (KHTML, like Gecko) Chrome/36.0.1985.143 Safari/537.36\"', userId='200003', churn=0)\n",
      "******************\n",
      "Row(artist=None, auth='Logged In', firstName='Tina', gender='F', itemInSession=73, lastName='Thompson', length=None, level='paid', location='North Wilkesboro, NC', method='GET', page='Downgrade', registration=1537208989000, sessionId=121, song=None, status=200, ts=1539834858000, userAgent='\"Mozilla/5.0 (Macintosh; Intel Mac OS X 10_9_4) AppleWebKit/537.36 (KHTML, like Gecko) Chrome/36.0.1985.143 Safari/537.36\"', userId='100015', churn=1)\n",
      "Row(artist='Train', auth='Logged In', firstName='Tina', gender='F', itemInSession=76, lastName='Thompson', length=213.34159, level='free', location='North Wilkesboro, NC', method='PUT', page='NextSong', registration=1537208989000, sessionId=121, song='Always Remember', status=200, ts=1539835220000, userAgent='\"Mozilla/5.0 (Macintosh; Intel Mac OS X 10_9_4) AppleWebKit/537.36 (KHTML, like Gecko) Chrome/36.0.1985.143 Safari/537.36\"', userId='100015', churn=0)\n",
      "******************\n",
      "Row(artist=None, auth='Logged In', firstName='Isabella', gender='F', itemInSession=53, lastName='Randall', length=None, level='paid', location='Dayton, OH', method='GET', page='Downgrade', registration=1537306307000, sessionId=159, song=None, status=200, ts=1539115776000, userAgent='Mozilla/5.0 (Windows NT 6.1; WOW64; Trident/7.0; rv:11.0) like Gecko', userId='19', churn=1)\n",
      "Row(artist='Bond', auth='Logged In', firstName='Isabella', gender='F', itemInSession=54, lastName='Randall', length=208.16934, level='paid', location='Dayton, OH', method='PUT', page='NextSong', registration=1537306307000, sessionId=159, song='Victory', status=200, ts=1539115952000, userAgent='Mozilla/5.0 (Windows NT 6.1; WOW64; Trident/7.0; rv:11.0) like Gecko', userId='19', churn=0)\n",
      "******************\n",
      "Row(artist=None, auth='Logged In', firstName='Chloe', gender='F', itemInSession=8, lastName='Deleon', length=None, level='paid', location='Boston-Cambridge-Newton, MA-NH', method='GET', page='Downgrade', registration=1530514394000, sessionId=23, song=None, status=200, ts=1538466662000, userAgent='\"Mozilla/5.0 (Windows NT 6.1; WOW64) AppleWebKit/537.36 (KHTML, like Gecko) Chrome/36.0.1985.125 Safari/537.36\"', userId='300023', churn=1)\n",
      "Row(artist='Incubus', auth='Logged In', firstName='Chloe', gender='F', itemInSession=13, lastName='Deleon', length=257.25342, level='paid', location='Boston-Cambridge-Newton, MA-NH', method='PUT', page='NextSong', registration=1530514394000, sessionId=23, song='Dig', status=200, ts=1538466856000, userAgent='\"Mozilla/5.0 (Windows NT 6.1; WOW64) AppleWebKit/537.36 (KHTML, like Gecko) Chrome/36.0.1985.125 Safari/537.36\"', userId='300023', churn=0)\n",
      "******************\n",
      "Row(artist=None, auth='Logged In', firstName='Brisa', gender='F', itemInSession=12, lastName='Murray', length=None, level='paid', location='Manchester-Nashua, NH', method='GET', page='Downgrade', registration=1533438580000, sessionId=377, song=None, status=200, ts=1539714729000, userAgent='Mozilla/5.0 (compatible; MSIE 9.0; Windows NT 6.1; WOW64; Trident/5.0)', userId='41', churn=1)\n",
      "Row(artist='Talking Heads', auth='Logged In', firstName='Brisa', gender='F', itemInSession=14, lastName='Murray', length=259.02975, level='paid', location='Manchester-Nashua, NH', method='PUT', page='NextSong', registration=1533438580000, sessionId=377, song='Road To Nowhere (Remastered LP Version )', status=200, ts=1539715123000, userAgent='Mozilla/5.0 (compatible; MSIE 9.0; Windows NT 6.1; WOW64; Trident/5.0)', userId='41', churn=0)\n",
      "******************\n",
      "Row(artist=None, auth='Logged In', firstName='Caleb', gender='M', itemInSession=22, lastName='Pena', length=None, level='paid', location='Fairbanks, AK', method='GET', page='Downgrade', registration=1535269914000, sessionId=1195, song=None, status=200, ts=1540843198000, userAgent='\"Mozilla/5.0 (Macintosh; Intel Mac OS X 10_9_3) AppleWebKit/537.76.4 (KHTML, like Gecko) Version/7.0.4 Safari/537.76.4\"', userId='128', churn=1)\n",
      "Row(artist='Britney Spears', auth='Logged In', firstName='Caleb', gender='M', itemInSession=23, lastName='Pena', length=198.97424, level='paid', location='Fairbanks, AK', method='PUT', page='NextSong', registration=1535269914000, sessionId=1195, song='Toxic', status=200, ts=1540843374000, userAgent='\"Mozilla/5.0 (Macintosh; Intel Mac OS X 10_9_3) AppleWebKit/537.76.4 (KHTML, like Gecko) Version/7.0.4 Safari/537.76.4\"', userId='128', churn=0)\n",
      "******************\n",
      "Row(artist=None, auth='Logged In', firstName='Ava', gender='F', itemInSession=88, lastName='Bennett', length=None, level='paid', location='Chicago-Naperville-Elgin, IL-IN-WI', method='GET', page='Downgrade', registration=1531281160000, sessionId=2056, song=None, status=200, ts=1542898562000, userAgent='\"Mozilla/5.0 (Windows NT 6.1; WOW64) AppleWebKit/537.36 (KHTML, like Gecko) Chrome/36.0.1985.125 Safari/537.36\"', userId='23', churn=1)\n",
      "Row(artist='Easy Star All-Stars', auth='Logged In', firstName='Ava', gender='F', itemInSession=89, lastName='Bennett', length=203.72853, level='paid', location='Chicago-Naperville-Elgin, IL-IN-WI', method='PUT', page='NextSong', registration=1531281160000, sessionId=2056, song='On The Run', status=200, ts=1542898791000, userAgent='\"Mozilla/5.0 (Windows NT 6.1; WOW64) AppleWebKit/537.36 (KHTML, like Gecko) Chrome/36.0.1985.125 Safari/537.36\"', userId='23', churn=0)\n",
      "******************\n",
      "Row(artist=None, auth='Logged In', firstName='Isaiah', gender='M', itemInSession=72, lastName='Gomez', length=None, level='paid', location='London, KY', method='GET', page='Downgrade', registration=1537897424000, sessionId=197, song=None, status=200, ts=1540281662000, userAgent='Mozilla/5.0 (X11; Ubuntu; Linux x86_64; rv:31.0) Gecko/20100101 Firefox/31.0', userId='200024', churn=1)\n",
      "Row(artist='James Brown', auth='Logged In', firstName='Isaiah', gender='M', itemInSession=73, lastName='Gomez', length=150.46485, level='paid', location='London, KY', method='PUT', page='NextSong', registration=1537897424000, sessionId=197, song='In The Middle', status=200, ts=1540281907000, userAgent='Mozilla/5.0 (X11; Ubuntu; Linux x86_64; rv:31.0) Gecko/20100101 Firefox/31.0', userId='200024', churn=0)\n",
      "******************\n",
      "Row(artist=None, auth='Logged In', firstName='Adriana', gender='F', itemInSession=36, lastName='Mayer', length=None, level='paid', location='Charlotte-Concord-Gastonia, NC-SC', method='GET', page='Downgrade', registration=1533670697000, sessionId=71, song=None, status=200, ts=1539019996000, userAgent='\"Mozilla/5.0 (Windows NT 6.1) AppleWebKit/537.36 (KHTML, like Gecko) Chrome/36.0.1985.143 Safari/537.36\"', userId='200008', churn=1)\n",
      "Row(artist='London Symphony Orchestra / George Szell', auth='Logged In', firstName='Adriana', gender='F', itemInSession=37, lastName='Mayer', length=161.35791, level='paid', location='Charlotte-Concord-Gastonia, NC-SC', method='PUT', page='NextSong', registration=1533670697000, sessionId=71, song='Allegro', status=200, ts=1539020277000, userAgent='\"Mozilla/5.0 (Windows NT 6.1) AppleWebKit/537.36 (KHTML, like Gecko) Chrome/36.0.1985.143 Safari/537.36\"', userId='200008', churn=0)\n",
      "******************\n",
      "Row(artist=None, auth='Logged In', firstName='Makayla', gender='F', itemInSession=208, lastName='Williams', length=None, level='paid', location='Detroit-Warren-Dearborn, MI', method='GET', page='Downgrade', registration=1536372490000, sessionId=1416, song=None, status=200, ts=1541198072000, userAgent='\"Mozilla/5.0 (Windows NT 6.1; WOW64) AppleWebKit/537.36 (KHTML, like Gecko) Chrome/36.0.1985.143 Safari/537.36\"', userId='111', churn=1)\n",
      "Row(artist='Joy Division', auth='Logged In', firstName='Makayla', gender='F', itemInSession=209, lastName='Williams', length=254.09261, level='paid', location='Detroit-Warren-Dearborn, MI', method='PUT', page='NextSong', registration=1536372490000, sessionId=1416, song='Transmission', status=200, ts=1541198229000, userAgent='\"Mozilla/5.0 (Windows NT 6.1; WOW64) AppleWebKit/537.36 (KHTML, like Gecko) Chrome/36.0.1985.143 Safari/537.36\"', userId='111', churn=0)\n",
      "******************\n",
      "Row(artist=None, auth='Logged In', firstName='Landon', gender='M', itemInSession=94, lastName='Walton', length=None, level='paid', location='St. Louis, MO-IL', method='GET', page='Downgrade', registration=1536854322000, sessionId=149, song=None, status=200, ts=1541021967000, userAgent='\"Mozilla/5.0 (X11; Linux x86_64) AppleWebKit/537.36 (KHTML, like Gecko) Chrome/36.0.1985.143 Safari/537.36\"', userId='100016', churn=1)\n",
      "Row(artist='Darren Styles', auth='Logged In', firstName='Landon', gender='M', itemInSession=99, lastName='Walton', length=243.30404, level='paid', location='St. Louis, MO-IL', method='PUT', page='NextSong', registration=1536854322000, sessionId=149, song='Paradise & Dreams', status=200, ts=1541022270000, userAgent='\"Mozilla/5.0 (X11; Linux x86_64) AppleWebKit/537.36 (KHTML, like Gecko) Chrome/36.0.1985.143 Safari/537.36\"', userId='100016', churn=0)\n",
      "******************\n",
      "Row(artist=None, auth='Logged In', firstName='Faigy', gender='F', itemInSession=29, lastName='Howe', length=None, level='paid', location='Phoenix-Mesa-Scottsdale, AZ', method='GET', page='Downgrade', registration=1538211832000, sessionId=248, song=None, status=200, ts=1538373286000, userAgent='Mozilla/5.0 (Macintosh; Intel Mac OS X 10.9; rv:31.0) Gecko/20100101 Firefox/31.0', userId='95', churn=1)\n",
      "Row(artist='Kode9', auth='Logged In', firstName='Faigy', gender='F', itemInSession=30, lastName='Howe', length=369.47546, level='paid', location='Phoenix-Mesa-Scottsdale, AZ', method='PUT', page='NextSong', registration=1538211832000, sessionId=248, song='2 Far Gone', status=200, ts=1538373504000, userAgent='Mozilla/5.0 (Macintosh; Intel Mac OS X 10.9; rv:31.0) Gecko/20100101 Firefox/31.0', userId='95', churn=0)\n",
      "******************\n",
      "Row(artist=None, auth='Logged In', firstName='Joseph', gender='M', itemInSession=22, lastName='Phillips', length=None, level='paid', location='Allentown-Bethlehem-Easton, PA-NJ', method='GET', page='Downgrade', registration=1537484200000, sessionId=2351, song=None, status=200, ts=1543351356000, userAgent='Mozilla/5.0 (compatible; MSIE 10.0; Windows NT 6.1; WOW64; Trident/6.0)', userId='93', churn=1)\n",
      "Row(artist='Elliott Smith', auth='Logged In', firstName='Joseph', gender='M', itemInSession=23, lastName='Phillips', length=180.29669, level='paid', location='Allentown-Bethlehem-Easton, PA-NJ', method='PUT', page='NextSong', registration=1537484200000, sessionId=2351, song='St Ides Heaven', status=200, ts=1543351519000, userAgent='Mozilla/5.0 (compatible; MSIE 10.0; Windows NT 6.1; WOW64; Trident/6.0)', userId='93', churn=0)\n",
      "******************\n",
      "Row(artist=None, auth='Logged In', firstName='Calvin', gender='M', itemInSession=16, lastName='Marshall', length=None, level='paid', location='Pittsburgh, PA', method='GET', page='Downgrade', registration=1537120757000, sessionId=313, song=None, status=200, ts=1538516444000, userAgent='\"Mozilla/5.0 (Macintosh; Intel Mac OS X 10_9_4) AppleWebKit/537.78.2 (KHTML, like Gecko) Version/7.0.6 Safari/537.78.2\"', userId='38', churn=1)\n",
      "Row(artist='Four Tet', auth='Logged In', firstName='Calvin', gender='M', itemInSession=19, lastName='Marshall', length=209.05751, level='free', location='Pittsburgh, PA', method='PUT', page='NextSong', registration=1537120757000, sessionId=313, song='Hilarious Movie Of The 90s', status=200, ts=1538516574000, userAgent='\"Mozilla/5.0 (Macintosh; Intel Mac OS X 10_9_4) AppleWebKit/537.78.2 (KHTML, like Gecko) Version/7.0.6 Safari/537.78.2\"', userId='38', churn=0)\n",
      "******************\n",
      "Row(artist=None, auth='Logged In', firstName='Piper', gender='F', itemInSession=209, lastName='Nielsen', length=None, level='paid', location='New York-Newark-Jersey City, NY-NJ-PA', method='GET', page='Downgrade', registration=1537699856000, sessionId=865, song=None, status=200, ts=1539647784000, userAgent='\"Mozilla/5.0 (Macintosh; Intel Mac OS X 10_9_4) AppleWebKit/537.36 (KHTML, like Gecko) Chrome/36.0.1985.125 Safari/537.36\"', userId='103', churn=1)\n",
      "Row(artist='JosÃ\\x83Â© Gonzalez', auth='Logged In', firstName='Piper', gender='F', itemInSession=212, lastName='Nielsen', length=158.48444, level='free', location='New York-Newark-Jersey City, NY-NJ-PA', method='PUT', page='NextSong', registration=1537699856000, sessionId=865, song='Heartbeats', status=200, ts=1539647836000, userAgent='\"Mozilla/5.0 (Macintosh; Intel Mac OS X 10_9_4) AppleWebKit/537.36 (KHTML, like Gecko) Chrome/36.0.1985.125 Safari/537.36\"', userId='103', churn=0)\n",
      "******************\n",
      "Row(artist=None, auth='Logged In', firstName='Annabella', gender='F', itemInSession=42, lastName='Knapp', length=None, level='paid', location='San Antonio-New Braunfels, TX', method='GET', page='Downgrade', registration=1535525247000, sessionId=1025, song=None, status=200, ts=1540016075000, userAgent='Mozilla/5.0 (Windows NT 6.3; WOW64; rv:31.0) Gecko/20100101 Firefox/31.0', userId='40', churn=1)\n",
      "Row(artist='Ornatos Violeta', auth='Logged In', firstName='Annabella', gender='F', itemInSession=48, lastName='Knapp', length=229.642, level='paid', location='San Antonio-New Braunfels, TX', method='PUT', page='NextSong', registration=1535525247000, sessionId=1025, song='CapitÃ\\x83Â£o Romance (Aventuras No Mundo_ Cap. I - Rumo Ã\\x83Â\\x80 Verdade)', status=200, ts=1540016347000, userAgent='Mozilla/5.0 (Windows NT 6.3; WOW64; rv:31.0) Gecko/20100101 Firefox/31.0', userId='40', churn=0)\n",
      "******************\n",
      "Row(artist=None, auth='Logged In', firstName='Madison', gender='F', itemInSession=120, lastName='Morales', length=None, level='paid', location='Tampa-St. Petersburg-Clearwater, FL', method='GET', page='Downgrade', registration=1536287099000, sessionId=827, song=None, status=200, ts=1539538579000, userAgent='\"Mozilla/5.0 (Macintosh; Intel Mac OS X 10_9_4) AppleWebKit/537.36 (KHTML, like Gecko) Chrome/36.0.1985.125 Safari/537.36\"', userId='25', churn=1)\n",
      "Row(artist='Charlie Daniels', auth='Logged In', firstName='Madison', gender='F', itemInSession=121, lastName='Morales', length=203.28444, level='paid', location='Tampa-St. Petersburg-Clearwater, FL', method='PUT', page='NextSong', registration=1536287099000, sessionId=827, song='In The Sweet By And By (How Sweet The Sound Album Version)', status=200, ts=1539538742000, userAgent='\"Mozilla/5.0 (Macintosh; Intel Mac OS X 10_9_4) AppleWebKit/537.36 (KHTML, like Gecko) Chrome/36.0.1985.125 Safari/537.36\"', userId='25', churn=0)\n",
      "******************\n",
      "Row(artist=None, auth='Logged In', firstName='Benjamin', gender='M', itemInSession=172, lastName='Mata', length=None, level='paid', location='Sterling, IL', method='GET', page='Downgrade', registration=1538313468000, sessionId=236, song=None, status=200, ts=1540682492000, userAgent='\"Mozilla/5.0 (Windows NT 6.1; WOW64) AppleWebKit/537.36 (KHTML, like Gecko) Chrome/35.0.1916.153 Safari/537.36\"', userId='200009', churn=1)\n",
      "Row(artist='Postal Service', auth='Logged In', firstName='Benjamin', gender='M', itemInSession=173, lastName='Mata', length=226.61179, level='paid', location='Sterling, IL', method='PUT', page='NextSong', registration=1538313468000, sessionId=236, song='Nothing Better (Album)', status=200, ts=1540682713000, userAgent='\"Mozilla/5.0 (Windows NT 6.1; WOW64) AppleWebKit/537.36 (KHTML, like Gecko) Chrome/35.0.1916.153 Safari/537.36\"', userId='200009', churn=0)\n",
      "******************\n",
      "Row(artist=None, auth='Logged In', firstName='Kaysie', gender='F', itemInSession=131, lastName='Vega', length=None, level='paid', location='Bridgeport-Stamford-Norwalk, CT', method='GET', page='Downgrade', registration=1537779419000, sessionId=758, song=None, status=200, ts=1540922775000, userAgent='\"Mozilla/5.0 (Macintosh; Intel Mac OS X 10_9_2) AppleWebKit/537.75.14 (KHTML, like Gecko) Version/7.0.3 Safari/537.75.14\"', userId='44', churn=1)\n",
      "Row(artist='Deep Blue Something', auth='Logged In', firstName='Kaysie', gender='F', itemInSession=132, lastName='Vega', length=257.2273, level='paid', location='Bridgeport-Stamford-Norwalk, CT', method='PUT', page='NextSong', registration=1537779419000, sessionId=758, song=\"Breakfast At Tiffany's\", status=200, ts=1540923106000, userAgent='\"Mozilla/5.0 (Macintosh; Intel Mac OS X 10_9_2) AppleWebKit/537.75.14 (KHTML, like Gecko) Version/7.0.3 Safari/537.75.14\"', userId='44', churn=0)\n",
      "******************\n",
      "Row(artist=None, auth='Logged In', firstName='Lina', gender='F', itemInSession=105, lastName='Francis', length=None, level='paid', location='Los Angeles-Long Beach-Anaheim, CA', method='GET', page='Downgrade', registration=1536948181000, sessionId=316, song=None, status=200, ts=1538720551000, userAgent='Mozilla/5.0 (Windows NT 6.1; WOW64; rv:31.0) Gecko/20100101 Firefox/31.0', userId='115', churn=1)\n",
      "Row(artist='Sade', auth='Logged In', firstName='Lina', gender='F', itemInSession=106, lastName='Francis', length=442.5922, level='paid', location='Los Angeles-Long Beach-Anaheim, CA', method='PUT', page='NextSong', registration=1536948181000, sessionId=316, song='No Ordinary Love', status=200, ts=1538720762000, userAgent='Mozilla/5.0 (Windows NT 6.1; WOW64; rv:31.0) Gecko/20100101 Firefox/31.0', userId='115', churn=0)\n",
      "******************\n",
      "Row(artist=None, auth='Logged In', firstName='Peyton', gender='F', itemInSession=199, lastName='Stewart', length=None, level='paid', location='Kansas City, MO-KS', method='GET', page='Downgrade', registration=1536963370000, sessionId=1623, song=None, status=200, ts=1541886033000, userAgent='\"Mozilla/5.0 (Macintosh; Intel Mac OS X 10_9_4) AppleWebKit/537.36 (KHTML, like Gecko) Chrome/36.0.1985.125 Safari/537.36\"', userId='82', churn=1)\n",
      "Row(artist='Kid Cudi / Kanye West / Common', auth='Logged In', firstName='Peyton', gender='F', itemInSession=200, lastName='Stewart', length=237.76608, level='paid', location='Kansas City, MO-KS', method='PUT', page='NextSong', registration=1536963370000, sessionId=1623, song='Make Her Say', status=200, ts=1541886148000, userAgent='\"Mozilla/5.0 (Macintosh; Intel Mac OS X 10_9_4) AppleWebKit/537.36 (KHTML, like Gecko) Chrome/36.0.1985.125 Safari/537.36\"', userId='82', churn=0)\n",
      "******************\n",
      "Row(artist=None, auth='Logged In', firstName='Katiana', gender='F', itemInSession=42, lastName='Daniels', length=None, level='paid', location='New York-Newark-Jersey City, NY-NJ-PA', method='GET', page='Downgrade', registration=1537812949000, sessionId=37, song=None, status=200, ts=1538401834000, userAgent='\"Mozilla/5.0 (Windows NT 6.3; WOW64) AppleWebKit/537.36 (KHTML, like Gecko) Chrome/36.0.1985.143 Safari/537.36\"', userId='200023', churn=1)\n",
      "Row(artist='Eminem', auth='Logged In', firstName='Katiana', gender='F', itemInSession=43, lastName='Daniels', length=251.55873, level='paid', location='New York-Newark-Jersey City, NY-NJ-PA', method='PUT', page='NextSong', registration=1537812949000, sessionId=37, song='Without Me', status=200, ts=1538403629000, userAgent='\"Mozilla/5.0 (Windows NT 6.3; WOW64) AppleWebKit/537.36 (KHTML, like Gecko) Chrome/36.0.1985.143 Safari/537.36\"', userId='200023', churn=0)\n",
      "******************\n",
      "Row(artist=None, auth='Logged In', firstName='Sebastian', gender='M', itemInSession=4, lastName='Wang', length=None, level='paid', location='Jackson, MS', method='GET', page='Downgrade', registration=1538050164000, sessionId=1306, song=None, status=200, ts=1540920444000, userAgent='\"Mozilla/5.0 (Macintosh; Intel Mac OS X 10_9_2) AppleWebKit/537.36 (KHTML, like Gecko) Chrome/36.0.1985.125 Safari/537.36\"', userId='53', churn=1)\n",
      "Row(artist='Pulp', auth='Logged In', firstName='Sebastian', gender='M', itemInSession=5, lastName='Wang', length=191.242, level='paid', location='Jackson, MS', method='PUT', page='NextSong', registration=1538050164000, sessionId=1306, song='Pencil Skirt', status=200, ts=1540920559000, userAgent='\"Mozilla/5.0 (Macintosh; Intel Mac OS X 10_9_2) AppleWebKit/537.36 (KHTML, like Gecko) Chrome/36.0.1985.125 Safari/537.36\"', userId='53', churn=0)\n",
      "******************\n",
      "Row(artist=None, auth='Logged In', firstName='Riley', gender='F', itemInSession=132, lastName='Taylor', length=None, level='paid', location='Boston-Cambridge-Newton, MA-NH', method='GET', page='Downgrade', registration=1536403972000, sessionId=501, song=None, status=200, ts=1538790891000, userAgent='\"Mozilla/5.0 (iPad; CPU OS 7_1_2 like Mac OS X) AppleWebKit/537.51.2 (KHTML, like Gecko) Version/7.0 Mobile/11D257 Safari/9537.53\"', userId='92', churn=1)\n",
      "Row(artist='BjÃ\\x83Â¶rk', auth='Logged In', firstName='Riley', gender='F', itemInSession=133, lastName='Taylor', length=348.57751, level='paid', location='Boston-Cambridge-Newton, MA-NH', method='PUT', page='NextSong', registration=1536403972000, sessionId=501, song='Undo', status=200, ts=1538791024000, userAgent='\"Mozilla/5.0 (iPad; CPU OS 7_1_2 like Mac OS X) AppleWebKit/537.51.2 (KHTML, like Gecko) Version/7.0 Mobile/11D257 Safari/9537.53\"', userId='92', churn=0)\n",
      "******************\n",
      "Row(artist=None, auth='Logged In', firstName='Kimberly', gender='F', itemInSession=69, lastName='Norton', length=None, level='paid', location='Washington-Arlington-Alexandria, DC-VA-MD-WV', method='GET', page='Downgrade', registration=1538215963000, sessionId=1228, song=None, status=200, ts=1541571102000, userAgent='\"Mozilla/5.0 (Macintosh; Intel Mac OS X 10_9_4) AppleWebKit/537.36 (KHTML, like Gecko) Chrome/36.0.1985.125 Safari/537.36\"', userId='108', churn=1)\n",
      "Row(artist='The String Cheese Incident', auth='Logged In', firstName='Kimberly', gender='F', itemInSession=0, lastName='Norton', length=392.35873, level='paid', location='Washington-Arlington-Alexandria, DC-VA-MD-WV', method='PUT', page='NextSong', registration=1538215963000, sessionId=1688, song=\"Bigger Isn't Better\", status=200, ts=1542072616000, userAgent='\"Mozilla/5.0 (Macintosh; Intel Mac OS X 10_9_4) AppleWebKit/537.36 (KHTML, like Gecko) Chrome/36.0.1985.125 Safari/537.36\"', userId='108', churn=0)\n",
      "******************\n",
      "Row(artist=None, auth='Logged In', firstName='Jaxon', gender='M', itemInSession=82, lastName='Reilly', length=None, level='paid', location='Jacksonville, FL', method='GET', page='Downgrade', registration=1531760527000, sessionId=1932, song=None, status=200, ts=1542662970000, userAgent='Mozilla/5.0 (Windows NT 6.1; WOW64; rv:31.0) Gecko/20100101 Firefox/31.0', userId='86', churn=1)\n",
      "Row(artist='Gang Of Four', auth='Logged In', firstName='Jaxon', gender='M', itemInSession=83, lastName='Reilly', length=190.71955, level='paid', location='Jacksonville, FL', method='PUT', page='NextSong', registration=1531760527000, sessionId=1932, song=\"Natural's Not In It\", status=200, ts=1542663245000, userAgent='Mozilla/5.0 (Windows NT 6.1; WOW64; rv:31.0) Gecko/20100101 Firefox/31.0', userId='86', churn=0)\n",
      "******************\n",
      "Row(artist=None, auth='Logged In', firstName='James', gender='M', itemInSession=15, lastName='Dickerson', length=None, level='paid', location='New York-Newark-Jersey City, NY-NJ-PA', method='GET', page='Downgrade', registration=1537043743000, sessionId=257, song=None, status=200, ts=1541101480000, userAgent='\"Mozilla/5.0 (Macintosh; Intel Mac OS X 10_9_4) AppleWebKit/537.77.4 (KHTML, like Gecko) Version/7.0.5 Safari/537.77.4\"', userId='200017', churn=1)\n",
      "Row(artist='Elliott Smith', auth='Logged In', firstName='James', gender='M', itemInSession=20, lastName='Dickerson', length=251.71546, level='paid', location='New York-Newark-Jersey City, NY-NJ-PA', method='PUT', page='NextSong', registration=1537043743000, sessionId=257, song='Alphabet Town', status=200, ts=1541102531000, userAgent='\"Mozilla/5.0 (Macintosh; Intel Mac OS X 10_9_4) AppleWebKit/537.77.4 (KHTML, like Gecko) Version/7.0.5 Safari/537.77.4\"', userId='200017', churn=0)\n",
      "******************\n",
      "Row(artist=None, auth='Logged In', firstName='Erick', gender='M', itemInSession=103, lastName='Brooks', length=None, level='paid', location='Selma, AL', method='GET', page='Downgrade', registration=1537956751000, sessionId=325, song=None, status=200, ts=1538636648000, userAgent='\"Mozilla/5.0 (Windows NT 6.3; WOW64) AppleWebKit/537.36 (KHTML, like Gecko) Chrome/36.0.1985.143 Safari/537.36\"', userId='58', churn=1)\n",
      "Row(artist='MGMT', auth='Logged In', firstName='Erick', gender='M', itemInSession=104, lastName='Brooks', length=229.25016, level='paid', location='Selma, AL', method='PUT', page='NextSong', registration=1537956751000, sessionId=325, song='Electric Feel', status=200, ts=1538636828000, userAgent='\"Mozilla/5.0 (Windows NT 6.3; WOW64) AppleWebKit/537.36 (KHTML, like Gecko) Chrome/36.0.1985.143 Safari/537.36\"', userId='58', churn=0)\n",
      "******************\n",
      "Row(artist=None, auth='Logged In', firstName='Adrian', gender='M', itemInSession=22, lastName='Williams', length=None, level='paid', location='San Diego-Carlsbad, CA', method='GET', page='Downgrade', registration=1533629444000, sessionId=61, song=None, status=200, ts=1538814027000, userAgent='Mozilla/5.0 (Windows NT 6.1; WOW64; rv:31.0) Gecko/20100101 Firefox/31.0', userId='300014', churn=1)\n",
      "Row(artist='A Day To Remember', auth='Logged In', firstName='Adrian', gender='M', itemInSession=23, lastName='Williams', length=197.85098, level='paid', location='San Diego-Carlsbad, CA', method='PUT', page='NextSong', registration=1533629444000, sessionId=61, song='If Looks Could Kill...', status=200, ts=1538814227000, userAgent='Mozilla/5.0 (Windows NT 6.1; WOW64; rv:31.0) Gecko/20100101 Firefox/31.0', userId='300014', churn=0)\n",
      "******************\n",
      "Row(artist=None, auth='Logged In', firstName='Oliver', gender='M', itemInSession=62, lastName='Gilbert', length=None, level='paid', location='Philadelphia-Camden-Wilmington, PA-NJ-DE-MD', method='GET', page='Downgrade', registration=1535093367000, sessionId=297, song=None, status=200, ts=1539198701000, userAgent='\"Mozilla/5.0 (Macintosh; Intel Mac OS X 10_9_4) AppleWebKit/537.36 (KHTML, like Gecko) Chrome/36.0.1985.125 Safari/537.36\"', userId='81', churn=1)\n",
      "Row(artist='Live', auth='Logged In', firstName='Oliver', gender='M', itemInSession=64, lastName='Gilbert', length=233.89995, level='paid', location='Philadelphia-Camden-Wilmington, PA-NJ-DE-MD', method='PUT', page='NextSong', registration=1535093367000, sessionId=297, song='We Deal In Dreams', status=200, ts=1539198935000, userAgent='\"Mozilla/5.0 (Macintosh; Intel Mac OS X 10_9_4) AppleWebKit/537.36 (KHTML, like Gecko) Chrome/36.0.1985.125 Safari/537.36\"', userId='81', churn=0)\n",
      "******************\n",
      "Row(artist=None, auth='Logged In', firstName='Deegan', gender='M', itemInSession=59, lastName='Robinson', length=None, level='paid', location='Hartford-West Hartford-East Hartford, CT', method='GET', page='Downgrade', registration=1529252604000, sessionId=281, song=None, status=200, ts=1539181854000, userAgent='Mozilla/5.0 (Macintosh; Intel Mac OS X 10.9; rv:31.0) Gecko/20100101 Firefox/31.0', userId='33', churn=1)\n",
      "Row(artist='Ron Carter', auth='Logged In', firstName='Deegan', gender='M', itemInSession=61, lastName='Robinson', length=497.13587, level='paid', location='Hartford-West Hartford-East Hartford, CT', method='PUT', page='NextSong', registration=1529252604000, sessionId=281, song=\"I CAN'T GET STARTED\", status=200, ts=1539182147000, userAgent='Mozilla/5.0 (Macintosh; Intel Mac OS X 10.9; rv:31.0) Gecko/20100101 Firefox/31.0', userId='33', churn=0)\n",
      "******************\n",
      "Row(artist=None, auth='Logged In', firstName='Titus', gender='M', itemInSession=87, lastName='Jones', length=None, level='paid', location='Las Vegas-Henderson-Paradise, NV', method='GET', page='Downgrade', registration=1536831228000, sessionId=1013, song=None, status=200, ts=1540414172000, userAgent='\"Mozilla/5.0 (Windows NT 6.1; WOW64) AppleWebKit/537.36 (KHTML, like Gecko) Chrome/36.0.1985.125 Safari/537.36\"', userId='114', churn=1)\n",
      "Row(artist='Nelly / Jazze Pha / T.I.', auth='Logged In', firstName='Titus', gender='M', itemInSession=88, lastName='Jones', length=270.88934, level='paid', location='Las Vegas-Henderson-Paradise, NV', method='PUT', page='NextSong', registration=1536831228000, sessionId=1013, song='Pretty Toes', status=200, ts=1540414410000, userAgent='\"Mozilla/5.0 (Windows NT 6.1; WOW64) AppleWebKit/537.36 (KHTML, like Gecko) Chrome/36.0.1985.125 Safari/537.36\"', userId='114', churn=0)\n",
      "******************\n",
      "Row(artist=None, auth='Logged In', firstName='Daniel', gender='M', itemInSession=16, lastName='Marks', length=None, level='paid', location='Chicago-Naperville-Elgin, IL-IN-WI', method='GET', page='Downgrade', registration=1537381154000, sessionId=59, song=None, status=200, ts=1539195449000, userAgent='\"Mozilla/5.0 (Macintosh; Intel Mac OS X 10_9_4) AppleWebKit/537.78.2 (KHTML, like Gecko) Version/7.0.6 Safari/537.78.2\"', userId='100012', churn=1)\n",
      "Row(artist='Ten Years After', auth='Logged In', firstName='Daniel', gender='M', itemInSession=17, lastName='Marks', length=455.8624, level='paid', location='Chicago-Naperville-Elgin, IL-IN-WI', method='PUT', page='NextSong', registration=1537381154000, sessionId=59, song='Love Like A Man', status=200, ts=1539195723000, userAgent='\"Mozilla/5.0 (Macintosh; Intel Mac OS X 10_9_4) AppleWebKit/537.78.2 (KHTML, like Gecko) Version/7.0.6 Safari/537.78.2\"', userId='100012', churn=0)\n",
      "******************\n",
      "Row(artist=None, auth='Logged In', firstName='Elias', gender='M', itemInSession=17, lastName='Love', length=None, level='paid', location='Salinas, CA', method='GET', page='Downgrade', registration=1532696273000, sessionId=115, song=None, status=200, ts=1539316657000, userAgent='\"Mozilla/5.0 (Windows NT 6.1; WOW64) AppleWebKit/537.36 (KHTML, like Gecko) Chrome/36.0.1985.143 Safari/537.36\"', userId='200025', churn=1)\n",
      "Row(artist='Shakira Featuring Wyclef Jean', auth='Logged In', firstName='Elias', gender='M', itemInSession=18, lastName='Love', length=217.36444, level='paid', location='Salinas, CA', method='PUT', page='NextSong', registration=1532696273000, sessionId=115, song=\"Hips Don't Lie (featuring Wyclef Jean)\", status=200, ts=1539316942000, userAgent='\"Mozilla/5.0 (Windows NT 6.1; WOW64) AppleWebKit/537.36 (KHTML, like Gecko) Chrome/36.0.1985.143 Safari/537.36\"', userId='200025', churn=0)\n",
      "******************\n",
      "Row(artist=None, auth='Logged In', firstName='Andrew', gender='M', itemInSession=49, lastName='Poole', length=None, level='paid', location='Greensboro-High Point, NC', method='GET', page='Downgrade', registration=1541223737000, sessionId=1719, song=None, status=200, ts=1541720437000, userAgent='\"Mozilla/5.0 (Windows NT 6.1; WOW64) AppleWebKit/537.36 (KHTML, like Gecko) Chrome/36.0.1985.125 Safari/537.36\"', userId='153', churn=1)\n",
      "Row(artist='John DahlbÃ\\x83Â¤ck', auth='Logged In', firstName='Andrew', gender='M', itemInSession=50, lastName='Poole', length=337.47546, level='paid', location='Greensboro-High Point, NC', method='PUT', page='NextSong', registration=1541223737000, sessionId=1719, song=\"Don't Speak\", status=200, ts=1541720517000, userAgent='\"Mozilla/5.0 (Windows NT 6.1; WOW64) AppleWebKit/537.36 (KHTML, like Gecko) Chrome/36.0.1985.125 Safari/537.36\"', userId='153', churn=0)\n",
      "******************\n",
      "Row(artist=None, auth='Logged In', firstName='Keegan', gender='M', itemInSession=11, lastName='Rivera', length=None, level='paid', location='Orlando-Kissimmee-Sanford, FL', method='GET', page='Downgrade', registration=1535907116000, sessionId=204, song=None, status=200, ts=1540270546000, userAgent='Mozilla/5.0 (Macintosh; Intel Mac OS X 10.9; rv:31.0) Gecko/20100101 Firefox/31.0', userId='200020', churn=1)\n",
      "Row(artist='Xzibit', auth='Logged In', firstName='Keegan', gender='M', itemInSession=12, lastName='Rivera', length=219.16689, level='paid', location='Orlando-Kissimmee-Sanford, FL', method='PUT', page='NextSong', registration=1535907116000, sessionId=204, song='Alkaholik (featuring Erick Sermon_ J-Ro &Tash of Tha Liks)', status=200, ts=1540271008000, userAgent='Mozilla/5.0 (Macintosh; Intel Mac OS X 10.9; rv:31.0) Gecko/20100101 Firefox/31.0', userId='200020', churn=0)\n",
      "******************\n",
      "Row(artist=None, auth='Logged In', firstName='Kaylenn', gender='F', itemInSession=22, lastName='Jenkins', length=None, level='paid', location='Price, UT', method='GET', page='Downgrade', registration=1535903878000, sessionId=288, song=None, status=200, ts=1538677833000, userAgent='\"Mozilla/5.0 (Macintosh; Intel Mac OS X 10_9_2) AppleWebKit/537.74.9 (KHTML, like Gecko) Version/7.0.2 Safari/537.74.9\"', userId='141', churn=1)\n",
      "Row(artist='Black Eyed Peas', auth='Logged In', firstName='Kaylenn', gender='F', itemInSession=23, lastName='Jenkins', length=214.93506, level='paid', location='Price, UT', method='PUT', page='NextSong', registration=1535903878000, sessionId=288, song='Pump It', status=200, ts=1538677903000, userAgent='\"Mozilla/5.0 (Macintosh; Intel Mac OS X 10_9_2) AppleWebKit/537.74.9 (KHTML, like Gecko) Version/7.0.2 Safari/537.74.9\"', userId='141', churn=0)\n",
      "******************\n",
      "Row(artist=None, auth='Logged In', firstName='Jayleen', gender='F', itemInSession=88, lastName='Reed', length=None, level='paid', location='Riverside-San Bernardino-Ontario, CA', method='GET', page='Downgrade', registration=1536019842000, sessionId=1359, song=None, status=200, ts=1540847334000, userAgent='\"Mozilla/5.0 (Windows NT 5.1) AppleWebKit/537.36 (KHTML, like Gecko) Chrome/36.0.1985.143 Safari/537.36\"', userId='97', churn=1)\n",
      "Row(artist='Afrika Bambaataa', auth='Logged In', firstName='Jayleen', gender='F', itemInSession=89, lastName='Reed', length=388.0224, level='paid', location='Riverside-San Bernardino-Ontario, CA', method='PUT', page='NextSong', registration=1536019842000, sessionId=1359, song='World Racial War', status=200, ts=1540847402000, userAgent='\"Mozilla/5.0 (Windows NT 5.1) AppleWebKit/537.36 (KHTML, like Gecko) Chrome/36.0.1985.143 Safari/537.36\"', userId='97', churn=0)\n",
      "******************\n",
      "Row(artist=None, auth='Logged In', firstName='Oliver', gender='M', itemInSession=37, lastName='Rivas', length=None, level='paid', location='Sacramento--Roseville--Arden-Arcade, CA', method='GET', page='Downgrade', registration=1530674962000, sessionId=791, song=None, status=200, ts=1539996914000, userAgent='\"Mozilla/5.0 (Macintosh; Intel Mac OS X 10_10) AppleWebKit/600.1.3 (KHTML, like Gecko) Version/8.0 Safari/600.1.3\"', userId='67', churn=1)\n",
      "Row(artist='Kate Bush', auth='Logged In', firstName='Oliver', gender='M', itemInSession=38, lastName='Rivas', length=245.60281, level='paid', location='Sacramento--Roseville--Arden-Arcade, CA', method='PUT', page='NextSong', registration=1530674962000, sessionId=791, song='Room For The Life', status=200, ts=1539997091000, userAgent='\"Mozilla/5.0 (Macintosh; Intel Mac OS X 10_10) AppleWebKit/600.1.3 (KHTML, like Gecko) Version/8.0 Safari/600.1.3\"', userId='67', churn=0)\n",
      "******************\n",
      "Row(artist=None, auth='Logged In', firstName='Sophia', gender='F', itemInSession=49, lastName='Key', length=None, level='paid', location='Los Angeles-Long Beach-Anaheim, CA', method='GET', page='Downgrade', registration=1537679535000, sessionId=1172, song=None, status=200, ts=1540394382000, userAgent='\"Mozilla/5.0 (Macintosh; Intel Mac OS X 10_9_4) AppleWebKit/537.78.2 (KHTML, like Gecko) Version/7.0.6 Safari/537.78.2\"', userId='106', churn=1)\n",
      "Row(artist='D.L.G.', auth='Logged In', firstName='Sophia', gender='F', itemInSession=50, lastName='Key', length=277.55057, level='paid', location='Los Angeles-Long Beach-Anaheim, CA', method='PUT', page='NextSong', registration=1537679535000, sessionId=1172, song='Volvere', status=200, ts=1540394610000, userAgent='\"Mozilla/5.0 (Macintosh; Intel Mac OS X 10_9_4) AppleWebKit/537.78.2 (KHTML, like Gecko) Version/7.0.6 Safari/537.78.2\"', userId='106', churn=0)\n",
      "******************\n",
      "Row(artist=None, auth='Logged In', firstName='Samuel', gender='M', itemInSession=68, lastName='Walker', length=None, level='paid', location='Philadelphia-Camden-Wilmington, PA-NJ-DE-MD', method='GET', page='Downgrade', registration=1536919023000, sessionId=1921, song=None, status=200, ts=1542196539000, userAgent='\"Mozilla/5.0 (iPhone; CPU iPhone OS 7_1_2 like Mac OS X) AppleWebKit/537.51.2 (KHTML, like Gecko) Version/7.0 Mobile/11D257 Safari/9537.53\"', userId='79', churn=1)\n",
      "Row(artist='Future Rock', auth='Logged In', firstName='Samuel', gender='M', itemInSession=69, lastName='Walker', length=239.90812, level='paid', location='Philadelphia-Camden-Wilmington, PA-NJ-DE-MD', method='PUT', page='NextSong', registration=1536919023000, sessionId=1921, song='Gears', status=200, ts=1542196542000, userAgent='\"Mozilla/5.0 (iPhone; CPU iPhone OS 7_1_2 like Mac OS X) AppleWebKit/537.51.2 (KHTML, like Gecko) Version/7.0 Mobile/11D257 Safari/9537.53\"', userId='79', churn=0)\n",
      "******************\n",
      "Row(artist=None, auth='Logged In', firstName='Joshua', gender='M', itemInSession=175, lastName='Warner', length=None, level='paid', location='San Jose-Sunnyvale-Santa Clara, CA', method='GET', page='Downgrade', registration=1536935950000, sessionId=63, song=None, status=200, ts=1539118709000, userAgent='Mozilla/5.0 (Windows NT 6.1; WOW64; Trident/7.0; rv:11.0) like Gecko', userId='300025', churn=1)\n",
      "Row(artist='Zac Brown Band', auth='Logged In', firstName='Joshua', gender='M', itemInSession=176, lastName='Warner', length=208.22159, level='paid', location='San Jose-Sunnyvale-Santa Clara, CA', method='PUT', page='NextSong', registration=1536935950000, sessionId=63, song='Whatever It Is (Album)', status=200, ts=1539119205000, userAgent='Mozilla/5.0 (Windows NT 6.1; WOW64; Trident/7.0; rv:11.0) like Gecko', userId='300025', churn=0)\n",
      "******************\n",
      "Row(artist=None, auth='Logged In', firstName='Micah', gender='M', itemInSession=35, lastName='Long', length=None, level='paid', location='Boston-Cambridge-Newton, MA-NH', method='GET', page='Downgrade', registration=1538331630000, sessionId=542, song=None, status=200, ts=1538903551000, userAgent='\"Mozilla/5.0 (Windows NT 6.1; WOW64) AppleWebKit/537.36 (KHTML, like Gecko) Chrome/37.0.2062.103 Safari/537.36\"', userId='9', churn=1)\n",
      "Row(artist='Kimya Dawson', auth='Logged In', firstName='Micah', gender='M', itemInSession=40, lastName='Long', length=187.402, level='paid', location='Boston-Cambridge-Newton, MA-NH', method='PUT', page='NextSong', registration=1538331630000, sessionId=542, song='Tire Swing', status=200, ts=1538903896000, userAgent='\"Mozilla/5.0 (Windows NT 6.1; WOW64) AppleWebKit/537.36 (KHTML, like Gecko) Chrome/37.0.2062.103 Safari/537.36\"', userId='9', churn=0)\n",
      "******************\n",
      "Row(artist=None, auth='Logged In', firstName='Garrett', gender='M', itemInSession=24, lastName='Jones', length=None, level='paid', location='Troy, AL', method='GET', page='Downgrade', registration=1536954914000, sessionId=1233, song=None, status=200, ts=1540572585000, userAgent='\"Mozilla/5.0 (Windows NT 6.3; WOW64) AppleWebKit/537.36 (KHTML, like Gecko) Chrome/36.0.1985.143 Safari/537.36\"', userId='24', churn=1)\n",
      "Row(artist='Jamie T', auth='Logged In', firstName='Garrett', gender='M', itemInSession=25, lastName='Jones', length=280.63302, level='paid', location='Troy, AL', method='PUT', page='NextSong', registration=1536954914000, sessionId=1233, song='Calm Down Dearest (Explicit)', status=200, ts=1540572686000, userAgent='\"Mozilla/5.0 (Windows NT 6.3; WOW64) AppleWebKit/537.36 (KHTML, like Gecko) Chrome/36.0.1985.143 Safari/537.36\"', userId='24', churn=0)\n",
      "******************\n",
      "Row(artist=None, auth='Logged In', firstName='Diego', gender='M', itemInSession=41, lastName='Mckee', length=None, level='paid', location='Phoenix-Mesa-Scottsdale, AZ', method='GET', page='Downgrade', registration=1537167593000, sessionId=540, song=None, status=200, ts=1539030302000, userAgent='\"Mozilla/5.0 (iPhone; CPU iPhone OS 7_1_2 like Mac OS X) AppleWebKit/537.51.2 (KHTML, like Gecko) Version/7.0 Mobile/11D257 Safari/9537.53\"', userId='32', churn=1)\n",
      "Row(artist='Looptroop', auth='Logged In', firstName='Diego', gender='M', itemInSession=43, lastName='Mckee', length=319.32036, level='paid', location='Phoenix-Mesa-Scottsdale, AZ', method='PUT', page='NextSong', registration=1537167593000, sessionId=540, song='Long Arm Of The Law', status=200, ts=1539030623000, userAgent='\"Mozilla/5.0 (iPhone; CPU iPhone OS 7_1_2 like Mac OS X) AppleWebKit/537.51.2 (KHTML, like Gecko) Version/7.0 Mobile/11D257 Safari/9537.53\"', userId='32', churn=0)\n",
      "******************\n",
      "Row(artist=None, auth='Logged In', firstName='Mishael', gender='M', itemInSession=56, lastName='Ortega', length=None, level='paid', location='Los Angeles-Long Beach-Anaheim, CA', method='GET', page='Downgrade', registration=1540940608000, sessionId=2077, song=None, status=200, ts=1542671100000, userAgent='\"Mozilla/5.0 (iPad; CPU OS 7_1_2 like Mac OS X) AppleWebKit/537.51.2 (KHTML, like Gecko) Version/7.0 Mobile/11D257 Safari/9537.53\"', userId='152', churn=1)\n",
      "Row(artist='Afrika Bambaataa & The Soul Sonic Force', auth='Logged In', firstName='Mishael', gender='M', itemInSession=57, lastName='Ortega', length=557.94893, level='paid', location='Los Angeles-Long Beach-Anaheim, CA', method='PUT', page='NextSong', registration=1540940608000, sessionId=2077, song=\"Don't Stop...Planet Rock (In The Pocket Mix) feat. Bambaataa_ Eric Kupper & Mohamed Moretta\", status=200, ts=1542671314000, userAgent='\"Mozilla/5.0 (iPad; CPU OS 7_1_2 like Mac OS X) AppleWebKit/537.51.2 (KHTML, like Gecko) Version/7.0 Mobile/11D257 Safari/9537.53\"', userId='152', churn=0)\n",
      "******************\n",
      "Row(artist=None, auth='Logged In', firstName='Zyonna', gender='F', itemInSession=268, lastName='Bird', length=None, level='paid', location='Columbus, GA-AL', method='GET', page='Downgrade', registration=1536663902000, sessionId=1188, song=None, status=200, ts=1540746443000, userAgent='Mozilla/5.0 (Windows NT 6.1; WOW64; rv:31.0) Gecko/20100101 Firefox/31.0', userId='88', churn=1)\n",
      "Row(artist='Edward Sharpe & The Magnetic Zeros', auth='Logged In', firstName='Zyonna', gender='F', itemInSession=277, lastName='Bird', length=270.2624, level='paid', location='Columbus, GA-AL', method='PUT', page='NextSong', registration=1536663902000, sessionId=1188, song='Desert Song', status=200, ts=1540746902000, userAgent='Mozilla/5.0 (Windows NT 6.1; WOW64; rv:31.0) Gecko/20100101 Firefox/31.0', userId='88', churn=0)\n",
      "******************\n",
      "Row(artist=None, auth='Logged In', firstName='Alexander', gender='M', itemInSession=145, lastName='Garcia', length=None, level='paid', location='Indianapolis-Carmel-Anderson, IN', method='GET', page='Downgrade', registration=1536817381000, sessionId=104, song=None, status=200, ts=1538539977000, userAgent='Mozilla/5.0 (Windows NT 6.1; WOW64; rv:31.0) Gecko/20100101 Firefox/31.0', userId='105', churn=1)\n",
      "Row(artist='Thrice', auth='Logged In', firstName='Alexander', gender='M', itemInSession=150, lastName='Garcia', length=232.48934, level='paid', location='Indianapolis-Carmel-Anderson, IN', method='PUT', page='NextSong', registration=1536817381000, sessionId=104, song='In Exile', status=200, ts=1538540136000, userAgent='Mozilla/5.0 (Windows NT 6.1; WOW64; rv:31.0) Gecko/20100101 Firefox/31.0', userId='105', churn=0)\n",
      "******************\n",
      "Row(artist=None, auth='Logged In', firstName='Destiny', gender='F', itemInSession=1, lastName='Herring', length=None, level='paid', location='Miami-Fort Lauderdale-West Palm Beach, FL', method='GET', page='Downgrade', registration=1536844410000, sessionId=378, song=None, status=200, ts=1538997355000, userAgent='\"Mozilla/5.0 (Windows NT 6.1; WOW64) AppleWebKit/537.36 (KHTML, like Gecko) Chrome/36.0.1985.143 Safari/537.36\"', userId='20', churn=1)\n",
      "Row(artist='Taylor Swift', auth='Logged In', firstName='Destiny', gender='F', itemInSession=4, lastName='Herring', length=233.89995, level='free', location='Miami-Fort Lauderdale-West Palm Beach, FL', method='PUT', page='NextSong', registration=1536844410000, sessionId=378, song='Love Story', status=200, ts=1538997436000, userAgent='\"Mozilla/5.0 (Windows NT 6.1; WOW64) AppleWebKit/537.36 (KHTML, like Gecko) Chrome/36.0.1985.143 Safari/537.36\"', userId='20', churn=0)\n",
      "******************\n",
      "Row(artist=None, auth='Logged In', firstName='Charles', gender='M', itemInSession=34, lastName='Harper', length=None, level='paid', location='St. Louis, MO-IL', method='GET', page='Downgrade', registration=1531679695000, sessionId=134, song=None, status=200, ts=1539448217000, userAgent='\"Mozilla/5.0 (Macintosh; Intel Mac OS X 10_9_4) AppleWebKit/537.36 (KHTML, like Gecko) Chrome/36.0.1985.125 Safari/537.36\"', userId='200011', churn=1)\n",
      "Row(artist='Mike And The Mechanics', auth='Logged In', firstName='Charles', gender='M', itemInSession=36, lastName='Harper', length=249.75628, level='paid', location='St. Louis, MO-IL', method='PUT', page='NextSong', registration=1531679695000, sessionId=134, song='All I Need Is A Miracle', status=200, ts=1539448261000, userAgent='\"Mozilla/5.0 (Macintosh; Intel Mac OS X 10_9_4) AppleWebKit/537.36 (KHTML, like Gecko) Chrome/36.0.1985.125 Safari/537.36\"', userId='200011', churn=0)\n",
      "******************\n",
      "Row(artist=None, auth='Logged In', firstName='Sawyer', gender='M', itemInSession=82, lastName='Nelson', length=None, level='paid', location='Greenville-Anderson-Mauldin, SC', method='GET', page='Downgrade', registration=1536679150000, sessionId=61, song=None, status=200, ts=1538785799000, userAgent='\"Mozilla/5.0 (Windows NT 6.1; WOW64) AppleWebKit/537.36 (KHTML, like Gecko) Chrome/36.0.1985.143 Safari/537.36\"', userId='100023', churn=1)\n",
      "Row(artist='Kings Of Leon', auth='Logged In', firstName='Sawyer', gender='M', itemInSession=84, lastName='Nelson', length=201.79546, level='paid', location='Greenville-Anderson-Mauldin, SC', method='PUT', page='NextSong', registration=1536679150000, sessionId=61, song='Revelry', status=200, ts=1538785939000, userAgent='\"Mozilla/5.0 (Windows NT 6.1; WOW64) AppleWebKit/537.36 (KHTML, like Gecko) Chrome/36.0.1985.143 Safari/537.36\"', userId='100023', churn=0)\n",
      "******************\n",
      "Row(artist=None, auth='Logged In', firstName='Grant', gender='M', itemInSession=119, lastName='Flores', length=None, level='paid', location='New York-Newark-Jersey City, NY-NJ-PA', method='GET', page='Downgrade', registration=1538120859000, sessionId=141, song=None, status=200, ts=1538394855000, userAgent='\"Mozilla/5.0 (Macintosh; Intel Mac OS X 10_9_4) AppleWebKit/537.36 (KHTML, like Gecko) Chrome/36.0.1985.125 Safari/537.36\"', userId='142', churn=1)\n",
      "Row(artist='Miley Cyrus', auth='Logged In', firstName='Grant', gender='M', itemInSession=120, lastName='Flores', length=166.50404, level='paid', location='New York-Newark-Jersey City, NY-NJ-PA', method='PUT', page='NextSong', registration=1538120859000, sessionId=141, song='Wake Up America', status=200, ts=1538395009000, userAgent='\"Mozilla/5.0 (Macintosh; Intel Mac OS X 10_9_4) AppleWebKit/537.36 (KHTML, like Gecko) Chrome/36.0.1985.125 Safari/537.36\"', userId='142', churn=0)\n",
      "******************\n",
      "Row(artist=None, auth='Logged In', firstName='Cali', gender='F', itemInSession=104, lastName='Brown', length=None, level='paid', location='Cleveland-Elyria, OH', method='GET', page='Downgrade', registration=1537367773000, sessionId=62, song=None, status=200, ts=1538697377000, userAgent='\"Mozilla/5.0 (Windows NT 6.1) AppleWebKit/537.36 (KHTML, like Gecko) Chrome/36.0.1985.143 Safari/537.36\"', userId='100013', churn=1)\n",
      "Row(artist='UNKLE', auth='Logged In', firstName='Cali', gender='F', itemInSession=106, lastName='Brown', length=333.47873, level='paid', location='Cleveland-Elyria, OH', method='PUT', page='NextSong', registration=1537367773000, sessionId=62, song='Reign', status=200, ts=1538697575000, userAgent='\"Mozilla/5.0 (Windows NT 6.1) AppleWebKit/537.36 (KHTML, like Gecko) Chrome/36.0.1985.143 Safari/537.36\"', userId='100013', churn=0)\n",
      "******************\n",
      "Row(artist=None, auth='Logged In', firstName='Greysen', gender='M', itemInSession=59, lastName='Jackson', length=None, level='paid', location='Alexandria, LA', method='GET', page='Downgrade', registration=1537751138000, sessionId=1510, song=None, status=200, ts=1541639050000, userAgent='\"Mozilla/5.0 (Macintosh; Intel Mac OS X 10_9_4) AppleWebKit/537.78.2 (KHTML, like Gecko) Version/7.0.6 Safari/537.78.2\"', userId='56', churn=1)\n",
      "Row(artist='Sandy Nelson', auth='Logged In', firstName='Greysen', gender='M', itemInSession=60, lastName='Jackson', length=142.73261, level='paid', location='Alexandria, LA', method='PUT', page='NextSong', registration=1537751138000, sessionId=1510, song='Teen Beat', status=200, ts=1541639261000, userAgent='\"Mozilla/5.0 (Macintosh; Intel Mac OS X 10_9_4) AppleWebKit/537.78.2 (KHTML, like Gecko) Version/7.0.6 Safari/537.78.2\"', userId='56', churn=0)\n",
      "******************\n",
      "Row(artist=None, auth='Logged In', firstName='Aurora', gender='F', itemInSession=6, lastName='Humphrey', length=None, level='paid', location='Dallas-Fort Worth-Arlington, TX', method='GET', page='Downgrade', registration=1536795126000, sessionId=235, song=None, status=200, ts=1538476564000, userAgent='\"Mozilla/5.0 (Windows NT 6.3; WOW64) AppleWebKit/537.36 (KHTML, like Gecko) Chrome/36.0.1985.125 Safari/537.36\"', userId='127', churn=1)\n",
      "Row(artist='Phoenix', auth='Logged In', firstName='Aurora', gender='F', itemInSession=7, lastName='Humphrey', length=336.92689, level='paid', location='Dallas-Fort Worth-Arlington, TX', method='PUT', page='NextSong', registration=1536795126000, sessionId=235, song='Lisztomania', status=200, ts=1538476800000, userAgent='\"Mozilla/5.0 (Windows NT 6.3; WOW64) AppleWebKit/537.36 (KHTML, like Gecko) Chrome/36.0.1985.125 Safari/537.36\"', userId='127', churn=0)\n",
      "******************\n",
      "Row(artist=None, auth='Logged In', firstName='Carly', gender='F', itemInSession=279, lastName='Weiss', length=None, level='paid', location='Minneapolis-St. Paul-Bloomington, MN-WI', method='GET', page='Downgrade', registration=1533908361000, sessionId=1766, song=None, status=200, ts=1542066566000, userAgent='\"Mozilla/5.0 (Windows NT 6.1; WOW64) AppleWebKit/537.36 (KHTML, like Gecko) Chrome/36.0.1985.143 Safari/537.36\"', userId='36', churn=1)\n",
      "Row(artist='Metallica', auth='Logged In', firstName='Carly', gender='F', itemInSession=280, lastName='Weiss', length=256.9922, level='paid', location='Minneapolis-St. Paul-Bloomington, MN-WI', method='PUT', page='NextSong', registration=1533908361000, sessionId=1766, song='Of Wolf And Man', status=200, ts=1542066582000, userAgent='\"Mozilla/5.0 (Windows NT 6.1; WOW64) AppleWebKit/537.36 (KHTML, like Gecko) Chrome/36.0.1985.143 Safari/537.36\"', userId='36', churn=0)\n",
      "******************\n",
      "Row(artist=None, auth='Logged In', firstName='Lauren', gender='F', itemInSession=65, lastName='Boone', length=None, level='paid', location='St. Louis, MO-IL', method='GET', page='Downgrade', registration=1534859694000, sessionId=9, song=None, status=200, ts=1538577693000, userAgent='\"Mozilla/5.0 (Windows NT 6.1; WOW64) AppleWebKit/537.36 (KHTML, like Gecko) Chrome/36.0.1985.143 Safari/537.36\"', userId='300009', churn=1)\n",
      "Row(artist='Manian', auth='Logged In', firstName='Lauren', gender='F', itemInSession=66, lastName='Boone', length=192.60036, level='paid', location='St. Louis, MO-IL', method='PUT', page='NextSong', registration=1534859694000, sessionId=9, song='Welcome To The Club', status=200, ts=1538577914000, userAgent='\"Mozilla/5.0 (Windows NT 6.1; WOW64) AppleWebKit/537.36 (KHTML, like Gecko) Chrome/36.0.1985.143 Safari/537.36\"', userId='300009', churn=0)\n",
      "******************\n",
      "Row(artist=None, auth='Logged In', firstName='Brycen', gender='M', itemInSession=17, lastName='Bradley', length=None, level='paid', location='Laurel, MS', method='GET', page='Downgrade', registration=1538159495000, sessionId=595, song=None, status=200, ts=1539837753000, userAgent='\"Mozilla/5.0 (Macintosh; Intel Mac OS X 10_9_4) AppleWebKit/537.36 (KHTML, like Gecko) Chrome/36.0.1985.143 Safari/537.36\"', userId='10', churn=1)\n",
      "Row(artist='Whitechapel', auth='Logged In', firstName='Brycen', gender='M', itemInSession=22, lastName='Bradley', length=151.24853, level='paid', location='Laurel, MS', method='PUT', page='NextSong', registration=1538159495000, sessionId=595, song='Festering Fiesta', status=200, ts=1539837987000, userAgent='\"Mozilla/5.0 (Macintosh; Intel Mac OS X 10_9_4) AppleWebKit/537.36 (KHTML, like Gecko) Chrome/36.0.1985.143 Safari/537.36\"', userId='10', churn=0)\n",
      "******************\n",
      "Row(artist=None, auth='Logged In', firstName='Jadyn', gender='M', itemInSession=18, lastName='Rose', length=None, level='paid', location='Austin-Round Rock, TX', method='GET', page='Downgrade', registration=1535268719000, sessionId=893, song=None, status=200, ts=1539679310000, userAgent='\"Mozilla/5.0 (Windows NT 6.1; WOW64) AppleWebKit/537.36 (KHTML, like Gecko) Chrome/36.0.1985.143 Safari/537.36\"', userId='37', churn=1)\n",
      "Row(artist=\"Plain White T's\", auth='Logged In', firstName='Jadyn', gender='M', itemInSession=19, lastName='Rose', length=232.202, level='paid', location='Austin-Round Rock, TX', method='PUT', page='NextSong', registration=1535268719000, sessionId=893, song='Hey There Delilah', status=200, ts=1539679358000, userAgent='\"Mozilla/5.0 (Windows NT 6.1; WOW64) AppleWebKit/537.36 (KHTML, like Gecko) Chrome/36.0.1985.143 Safari/537.36\"', userId='37', churn=0)\n",
      "******************\n",
      "Row(artist=None, auth='Logged In', firstName='Antonio', gender='M', itemInSession=78, lastName='Mcintosh', length=None, level='paid', location='London, KY', method='GET', page='Downgrade', registration=1534461078000, sessionId=46, song=None, status=200, ts=1539002906000, userAgent='\"Mozilla/5.0 (X11; Linux x86_64) AppleWebKit/537.36 (KHTML, like Gecko) Chrome/36.0.1985.143 Safari/537.36\"', userId='300022', churn=1)\n",
      "Row(artist='Kinski', auth='Logged In', firstName='Antonio', gender='M', itemInSession=79, lastName='Mcintosh', length=448.20853, level='paid', location='London, KY', method='PUT', page='NextSong', registration=1534461078000, sessionId=46, song='Boy_ Was I Mad! (Album)', status=200, ts=1539003210000, userAgent='\"Mozilla/5.0 (X11; Linux x86_64) AppleWebKit/537.36 (KHTML, like Gecko) Chrome/36.0.1985.143 Safari/537.36\"', userId='300022', churn=0)\n",
      "******************\n",
      "Row(artist=None, auth='Logged In', firstName='Christan', gender='M', itemInSession=306, lastName='Hopkins', length=None, level='paid', location='Napa, CA', method='GET', page='Downgrade', registration=1534318843000, sessionId=182, song=None, status=200, ts=1538682285000, userAgent='\"Mozilla/5.0 (Windows NT 5.1) AppleWebKit/537.36 (KHTML, like Gecko) Chrome/36.0.1985.143 Safari/537.36\"', userId='49', churn=1)\n",
      "Row(artist='The Killers', auth='Logged In', firstName='Christan', gender='M', itemInSession=307, lastName='Hopkins', length=284.60363, level='paid', location='Napa, CA', method='PUT', page='NextSong', registration=1534318843000, sessionId=182, song='Spaceman', status=200, ts=1538682509000, userAgent='\"Mozilla/5.0 (Windows NT 5.1) AppleWebKit/537.36 (KHTML, like Gecko) Chrome/36.0.1985.143 Safari/537.36\"', userId='49', churn=0)\n",
      "******************\n",
      "Row(artist=None, auth='Logged In', firstName='Emma', gender='F', itemInSession=67, lastName='Allen', length=None, level='paid', location='Wilson, NC', method='GET', page='Downgrade', registration=1537611935000, sessionId=81, song=None, status=200, ts=1538761499000, userAgent='\"Mozilla/5.0 (Macintosh; Intel Mac OS X 10_9_4) AppleWebKit/537.77.4 (KHTML, like Gecko) Version/7.0.5 Safari/537.77.4\"', userId='300021', churn=1)\n",
      "Row(artist='The Offspring', auth='Logged In', firstName='Emma', gender='F', itemInSession=68, lastName='Allen', length=170.86649, level='paid', location='Wilson, NC', method='PUT', page='NextSong', registration=1537611935000, sessionId=81, song='Feelings', status=200, ts=1538761603000, userAgent='\"Mozilla/5.0 (Macintosh; Intel Mac OS X 10_9_4) AppleWebKit/537.77.4 (KHTML, like Gecko) Version/7.0.5 Safari/537.77.4\"', userId='300021', churn=0)\n",
      "******************\n",
      "Row(artist=None, auth='Logged In', firstName='Joseph', gender='M', itemInSession=9, lastName='Pearson', length=None, level='paid', location='Jacksonville, NC', method='GET', page='Downgrade', registration=1537672236000, sessionId=62, song=None, status=200, ts=1538684519000, userAgent='\"Mozilla/5.0 (Macintosh; Intel Mac OS X 10_9_4) AppleWebKit/537.78.2 (KHTML, like Gecko) Version/7.0.6 Safari/537.78.2\"', userId='200004', churn=1)\n",
      "Row(artist='Vienna Teng', auth='Logged In', firstName='Joseph', gender='M', itemInSession=11, lastName='Pearson', length=257.33179, level='paid', location='Jacksonville, NC', method='PUT', page='NextSong', registration=1537672236000, sessionId=62, song='Passage', status=200, ts=1538684599000, userAgent='\"Mozilla/5.0 (Macintosh; Intel Mac OS X 10_9_4) AppleWebKit/537.78.2 (KHTML, like Gecko) Version/7.0.6 Safari/537.78.2\"', userId='200004', churn=0)\n",
      "******************\n",
      "Row(artist=None, auth='Logged In', firstName='Maleah', gender='F', itemInSession=79, lastName='Pierce', length=None, level='paid', location='Atlanta-Sandy Springs-Roswell, GA', method='GET', page='Downgrade', registration=1537920589000, sessionId=103, song=None, status=200, ts=1540538827000, userAgent='\"Mozilla/5.0 (Macintosh; Intel Mac OS X 10_9_4) AppleWebKit/537.36 (KHTML, like Gecko) Chrome/37.0.2062.94 Safari/537.36\"', userId='300020', churn=1)\n",
      "Row(artist='Flop', auth='Logged In', firstName='Maleah', gender='F', itemInSession=80, lastName='Pierce', length=134.81751, level='paid', location='Atlanta-Sandy Springs-Roswell, GA', method='PUT', page='NextSong', registration=1537920589000, sessionId=103, song='Of Today', status=200, ts=1540538853000, userAgent='\"Mozilla/5.0 (Macintosh; Intel Mac OS X 10_9_4) AppleWebKit/537.36 (KHTML, like Gecko) Chrome/37.0.2062.94 Safari/537.36\"', userId='300020', churn=0)\n",
      "******************\n",
      "Row(artist=None, auth='Logged In', firstName='Spencer', gender='M', itemInSession=54, lastName='Gonzalez', length=None, level='paid', location='Concord, NH', method='GET', page='Downgrade', registration=1537347211000, sessionId=672, song=None, status=200, ts=1539188942000, userAgent='Mozilla/5.0 (X11; Linux x86_64; rv:31.0) Gecko/20100101 Firefox/31.0', userId='65', churn=1)\n",
      "Row(artist='Envio', auth='Logged In', firstName='Spencer', gender='M', itemInSession=55, lastName='Gonzalez', length=505.73016, level='paid', location='Concord, NH', method='PUT', page='NextSong', registration=1537347211000, sessionId=672, song='Touched By The Sun', status=200, ts=1539189026000, userAgent='Mozilla/5.0 (X11; Linux x86_64; rv:31.0) Gecko/20100101 Firefox/31.0', userId='65', churn=0)\n",
      "******************\n",
      "Row(artist=None, auth='Logged In', firstName='Nikolas', gender='M', itemInSession=62, lastName='Olsen', length=None, level='paid', location='Oxnard-Thousand Oaks-Ventura, CA', method='GET', page='Downgrade', registration=1528403713000, sessionId=881, song=None, status=200, ts=1539715075000, userAgent='Mozilla/5.0 (X11; Ubuntu; Linux x86_64; rv:31.0) Gecko/20100101 Firefox/31.0', userId='121', churn=1)\n",
      "Row(artist='Dusminguet', auth='Logged In', firstName='Nikolas', gender='M', itemInSession=63, lastName='Olsen', length=208.90077, level='paid', location='Oxnard-Thousand Oaks-Ventura, CA', method='PUT', page='NextSong', registration=1528403713000, sessionId=881, song='Rock & Roll', status=200, ts=1539715252000, userAgent='Mozilla/5.0 (X11; Ubuntu; Linux x86_64; rv:31.0) Gecko/20100101 Firefox/31.0', userId='121', churn=0)\n",
      "******************\n",
      "Row(artist=None, auth='Logged In', firstName='Warren', gender='M', itemInSession=196, lastName='Miller', length=None, level='paid', location='Baltimore-Columbia-Towson, MD', method='GET', page='Downgrade', registration=1538169823000, sessionId=1128, song=None, status=200, ts=1540341585000, userAgent='Mozilla/5.0 (Windows NT 6.0; rv:31.0) Gecko/20100101 Firefox/31.0', userId='4', churn=1)\n",
      "Row(artist='Little Anthony & The Imperials', auth='Logged In', firstName='Warren', gender='M', itemInSession=197, lastName='Miller', length=138.16118, level='paid', location='Baltimore-Columbia-Towson, MD', method='PUT', page='NextSong', registration=1538169823000, sessionId=1128, song='Tears On My Pillow', status=200, ts=1540341795000, userAgent='Mozilla/5.0 (Windows NT 6.0; rv:31.0) Gecko/20100101 Firefox/31.0', userId='4', churn=0)\n",
      "******************\n",
      "Row(artist=None, auth='Logged In', firstName='Payton', gender='F', itemInSession=156, lastName='Campbell', length=None, level='paid', location='Los Angeles-Long Beach-Anaheim, CA', method='GET', page='Downgrade', registration=1529027541000, sessionId=619, song=None, status=200, ts=1539089716000, userAgent='\"Mozilla/5.0 (Windows NT 6.1; WOW64) AppleWebKit/537.36 (KHTML, like Gecko) Chrome/37.0.2062.103 Safari/537.36\"', userId='39', churn=1)\n",
      "Row(artist='The Cure', auth='Logged In', firstName='Payton', gender='F', itemInSession=157, lastName='Campbell', length=672.96608, level='paid', location='Los Angeles-Long Beach-Anaheim, CA', method='PUT', page='NextSong', registration=1529027541000, sessionId=619, song='Watching Me Fall', status=200, ts=1539089830000, userAgent='\"Mozilla/5.0 (Windows NT 6.1; WOW64) AppleWebKit/537.36 (KHTML, like Gecko) Chrome/37.0.2062.103 Safari/537.36\"', userId='39', churn=0)\n",
      "******************\n",
      "Row(artist=None, auth='Logged In', firstName='Saul', gender='M', itemInSession=1, lastName='Johnson', length=None, level='paid', location='Houston-The Woodlands-Sugar Land, TX', method='GET', page='Downgrade', registration=1531804365000, sessionId=207, song=None, status=200, ts=1539095515000, userAgent='Mozilla/5.0 (Windows NT 6.1; WOW64; rv:31.0) Gecko/20100101 Firefox/31.0', userId='62', churn=1)\n",
      "Row(artist='Kelis', auth='Logged In', firstName='Saul', gender='M', itemInSession=0, lastName='Johnson', length=241.29261, level='paid', location='Houston-The Woodlands-Sugar Land, TX', method='PUT', page='NextSong', registration=1531804365000, sessionId=652, song='Appreciate Me', status=200, ts=1540139499000, userAgent='Mozilla/5.0 (Windows NT 6.1; WOW64; rv:31.0) Gecko/20100101 Firefox/31.0', userId='62', churn=0)\n",
      "******************\n",
      "Row(artist=None, auth='Logged In', firstName='Sophia', gender='F', itemInSession=100, lastName='Perry', length=None, level='paid', location='Los Angeles-Long Beach-Anaheim, CA', method='GET', page='Downgrade', registration=1533885783000, sessionId=379, song=None, status=200, ts=1539019797000, userAgent='Mozilla/5.0 (Windows NT 6.3; WOW64; rv:31.0) Gecko/20100101 Firefox/31.0', userId='12', churn=1)\n",
      "Row(artist='Radiohead', auth='Logged In', firstName='Sophia', gender='F', itemInSession=102, lastName='Perry', length=130.82077, level='paid', location='Los Angeles-Long Beach-Anaheim, CA', method='PUT', page='NextSong', registration=1533885783000, sessionId=379, song='Pop Is Dead', status=200, ts=1539020157000, userAgent='Mozilla/5.0 (Windows NT 6.3; WOW64; rv:31.0) Gecko/20100101 Firefox/31.0', userId='12', churn=0)\n",
      "******************\n",
      "Row(artist=None, auth='Logged In', firstName='Sean', gender='M', itemInSession=113, lastName='Mercer', length=None, level='paid', location='Anchorage, AK', method='GET', page='Downgrade', registration=1532771049000, sessionId=1472, song=None, status=200, ts=1541440388000, userAgent='\"Mozilla/5.0 (X11; Linux x86_64) AppleWebKit/537.36 (KHTML, like Gecko) Chrome/36.0.1985.125 Safari/537.36\"', userId='83', churn=1)\n",
      "Row(artist='Animal Collective', auth='Logged In', firstName='Sean', gender='M', itemInSession=114, lastName='Mercer', length=312.58077, level='paid', location='Anchorage, AK', method='PUT', page='NextSong', registration=1532771049000, sessionId=1472, song='Peacebone', status=200, ts=1541440546000, userAgent='\"Mozilla/5.0 (X11; Linux x86_64) AppleWebKit/537.36 (KHTML, like Gecko) Chrome/36.0.1985.125 Safari/537.36\"', userId='83', churn=0)\n",
      "******************\n",
      "Row(artist=None, auth='Logged In', firstName='Casey', gender='F', itemInSession=136, lastName='Ramirez', length=None, level='paid', location='St. Louis, MO-IL', method='GET', page='Downgrade', registration=1534768517000, sessionId=558, song=None, status=200, ts=1539121062000, userAgent='Mozilla/5.0 (Windows NT 6.1; WOW64; rv:31.0) Gecko/20100101 Firefox/31.0', userId='109', churn=1)\n",
      "Row(artist='Parov Stelar', auth='Logged In', firstName='Casey', gender='F', itemInSession=137, lastName='Ramirez', length=281.5473, level='paid', location='St. Louis, MO-IL', method='PUT', page='NextSong', registration=1534768517000, sessionId=558, song='KissKiss', status=200, ts=1539121312000, userAgent='Mozilla/5.0 (Windows NT 6.1; WOW64; rv:31.0) Gecko/20100101 Firefox/31.0', userId='109', churn=0)\n",
      "******************\n",
      "Row(artist=None, auth='Logged In', firstName='Anika', gender='F', itemInSession=7, lastName='Osborne', length=None, level='paid', location='Philadelphia-Camden-Wilmington, PA-NJ-DE-MD', method='GET', page='Downgrade', registration=1533192032000, sessionId=1652, song=None, status=200, ts=1541516668000, userAgent='\"Mozilla/5.0 (iPhone; CPU iPhone OS 7_1_2 like Mac OS X) AppleWebKit/537.51.2 (KHTML, like Gecko) Version/7.0 Mobile/11D257 Safari/9537.53\"', userId='13', churn=1)\n",
      "Row(artist='Distance', auth='Logged In', firstName='Anika', gender='F', itemInSession=12, lastName='Osborne', length=369.37098, level='paid', location='Philadelphia-Camden-Wilmington, PA-NJ-DE-MD', method='PUT', page='NextSong', registration=1533192032000, sessionId=1652, song='Night Vision', status=200, ts=1541516775000, userAgent='\"Mozilla/5.0 (iPhone; CPU iPhone OS 7_1_2 like Mac OS X) AppleWebKit/537.51.2 (KHTML, like Gecko) Version/7.0 Mobile/11D257 Safari/9537.53\"', userId='13', churn=0)\n",
      "******************\n",
      "Row(artist=None, auth='Logged In', firstName='Conley', gender='M', itemInSession=39, lastName='Johnston', length=None, level='paid', location='Los Angeles-Long Beach-Anaheim, CA', method='GET', page='Downgrade', registration=1537638755000, sessionId=19, song=None, status=200, ts=1538399013000, userAgent='\"Mozilla/5.0 (Macintosh; Intel Mac OS X 10_9_4) AppleWebKit/537.36 (KHTML, like Gecko) Chrome/35.0.1916.153 Safari/537.36\"', userId='200019', churn=1)\n",
      "Row(artist='A Fine Frenzy', auth='Logged In', firstName='Conley', gender='M', itemInSession=40, lastName='Johnston', length=269.71383, level='paid', location='Los Angeles-Long Beach-Anaheim, CA', method='PUT', page='NextSong', registration=1537638755000, sessionId=19, song='Electric Twist', status=200, ts=1538399528000, userAgent='\"Mozilla/5.0 (Macintosh; Intel Mac OS X 10_9_4) AppleWebKit/537.36 (KHTML, like Gecko) Chrome/35.0.1916.153 Safari/537.36\"', userId='200019', churn=0)\n",
      "******************\n"
     ]
    },
    {
     "name": "stdout",
     "output_type": "stream",
     "text": [
      "Row(artist=None, auth='Logged In', firstName='Michael', gender='M', itemInSession=53, lastName='Williams', length=None, level='paid', location='Syracuse, NY', method='GET', page='Downgrade', registration=1531910878000, sessionId=643, song=None, status=200, ts=1539959907000, userAgent='Mozilla/5.0 (Macintosh; Intel Mac OS X 10.9; rv:31.0) Gecko/20100101 Firefox/31.0', userId='14', churn=1)\n",
      "Row(artist='The Dears', auth='Logged In', firstName='Michael', gender='M', itemInSession=54, lastName='Williams', length=266.86649, level='paid', location='Syracuse, NY', method='PUT', page='NextSong', registration=1531910878000, sessionId=643, song='Berlin Heart', status=200, ts=1539960084000, userAgent='Mozilla/5.0 (Macintosh; Intel Mac OS X 10.9; rv:31.0) Gecko/20100101 Firefox/31.0', userId='14', churn=0)\n",
      "******************\n",
      "Row(artist=None, auth='Logged In', firstName='Oscar', gender='M', itemInSession=83, lastName='Williams', length=None, level='paid', location='Kankakee, IL', method='GET', page='Downgrade', registration=1536855067000, sessionId=1037, song=None, status=200, ts=1540400820000, userAgent='Mozilla/5.0 (Windows NT 6.3; WOW64; rv:31.0) Gecko/20100101 Firefox/31.0', userId='21', churn=1)\n",
      "Row(artist='Train', auth='Logged In', firstName='Oscar', gender='M', itemInSession=84, lastName='Williams', length=216.76363, level='paid', location='Kankakee, IL', method='PUT', page='NextSong', registration=1536855067000, sessionId=1037, song='Hey_ Soul Sister', status=200, ts=1540401059000, userAgent='Mozilla/5.0 (Windows NT 6.3; WOW64; rv:31.0) Gecko/20100101 Firefox/31.0', userId='21', churn=0)\n",
      "******************\n",
      "Row(artist=None, auth='Logged In', firstName='Alyssa', gender='F', itemInSession=115, lastName='Johnston', length=None, level='paid', location='Los Angeles-Long Beach-Anaheim, CA', method='GET', page='Downgrade', registration=1532634173000, sessionId=1169, song=None, status=200, ts=1540450402000, userAgent='Mozilla/5.0 (Windows NT 6.1; WOW64; rv:31.0) Gecko/20100101 Firefox/31.0', userId='66', churn=1)\n",
      "Row(artist='Radiohead', auth='Logged In', firstName='Alyssa', gender='F', itemInSession=116, lastName='Johnston', length=235.7024, level='paid', location='Los Angeles-Long Beach-Anaheim, CA', method='PUT', page='NextSong', registration=1532634173000, sessionId=1169, song='Creep (Explicit)', status=200, ts=1540450604000, userAgent='Mozilla/5.0 (Windows NT 6.1; WOW64; rv:31.0) Gecko/20100101 Firefox/31.0', userId='66', churn=0)\n",
      "******************\n",
      "Row(artist=None, auth='Logged In', firstName='Karter', gender='M', itemInSession=47, lastName='Mathews', length=None, level='paid', location='New Haven-Milford, CT', method='GET', page='Downgrade', registration=1533398428000, sessionId=693, song=None, status=200, ts=1540368224000, userAgent='Mozilla/5.0 (Windows NT 6.3; WOW64; rv:31.0) Gecko/20100101 Firefox/31.0', userId='91', churn=1)\n",
      "Row(artist='Kirk Franklin & The Family', auth='Logged In', firstName='Karter', gender='M', itemInSession=48, lastName='Mathews', length=504.37179, level='paid', location='New Haven-Milford, CT', method='PUT', page='NextSong', registration=1533398428000, sessionId=693, song='Conquerors', status=200, ts=1540368447000, userAgent='Mozilla/5.0 (Windows NT 6.3; WOW64; rv:31.0) Gecko/20100101 Firefox/31.0', userId='91', churn=0)\n",
      "******************\n",
      "Row(artist=None, auth='Logged In', firstName='Ashlynn', gender='F', itemInSession=114, lastName='Williams', length=None, level='paid', location='Tallahassee, FL', method='GET', page='Downgrade', registration=1537365219000, sessionId=924, song=None, status=200, ts=1539959456000, userAgent='\"Mozilla/5.0 (Macintosh; Intel Mac OS X 10_9_4) AppleWebKit/537.36 (KHTML, like Gecko) Chrome/37.0.2062.94 Safari/537.36\"', userId='74', churn=1)\n",
      "Row(artist='Daddy Yankee', auth='Logged In', firstName='Ashlynn', gender='F', itemInSession=116, lastName='Williams', length=209.55383, level='paid', location='Tallahassee, FL', method='PUT', page='NextSong', registration=1537365219000, sessionId=924, song='Ella Me Levanto', status=200, ts=1539959668000, userAgent='\"Mozilla/5.0 (Macintosh; Intel Mac OS X 10_9_4) AppleWebKit/537.36 (KHTML, like Gecko) Chrome/37.0.2062.94 Safari/537.36\"', userId='74', churn=0)\n",
      "******************\n",
      "Row(artist=None, auth='Logged In', firstName='Isaiah', gender='M', itemInSession=9, lastName='Alexander', length=None, level='paid', location='Minneapolis-St. Paul-Bloomington, MN-WI', method='GET', page='Downgrade', registration=1534622171000, sessionId=187, song=None, status=200, ts=1541012935000, userAgent='Mozilla/5.0 (Windows NT 6.1; rv:31.0) Gecko/20100101 Firefox/31.0', userId='300016', churn=1)\n",
      "Row(artist='Bullet For My Valentine', auth='Logged In', firstName='Isaiah', gender='M', itemInSession=10, lastName='Alexander', length=247.69261, level='paid', location='Minneapolis-St. Paul-Bloomington, MN-WI', method='PUT', page='NextSong', registration=1534622171000, sessionId=187, song='Waking The Demon', status=200, ts=1541013090000, userAgent='Mozilla/5.0 (Windows NT 6.1; rv:31.0) Gecko/20100101 Firefox/31.0', userId='300016', churn=0)\n",
      "******************\n",
      "Row(artist=None, auth='Logged In', firstName='Davis', gender='M', itemInSession=88, lastName='Wang', length=None, level='paid', location='Flint, MI', method='GET', page='Downgrade', registration=1538289776000, sessionId=536, song=None, status=200, ts=1538896047000, userAgent='\"Mozilla/5.0 (Windows NT 6.3; WOW64) AppleWebKit/537.36 (KHTML, like Gecko) Chrome/36.0.1985.125 Safari/537.36\"', userId='129', churn=1)\n",
      "Row(artist='Red Hot Chili Peppers', auth='Logged In', firstName='Davis', gender='M', itemInSession=89, lastName='Wang', length=265.50812, level='paid', location='Flint, MI', method='PUT', page='NextSong', registration=1538289776000, sessionId=536, song='Under The Bridge (Album Version)', status=200, ts=1538896158000, userAgent='\"Mozilla/5.0 (Windows NT 6.3; WOW64) AppleWebKit/537.36 (KHTML, like Gecko) Chrome/36.0.1985.125 Safari/537.36\"', userId='129', churn=0)\n",
      "******************\n",
      "Row(artist=None, auth='Logged In', firstName='Natalee', gender='F', itemInSession=19, lastName='Charles', length=None, level='paid', location='Raleigh, NC', method='GET', page='Downgrade', registration=1536799770000, sessionId=1, song=None, status=200, ts=1538976932000, userAgent='\"Mozilla/5.0 (Windows NT 6.1; WOW64) AppleWebKit/537.36 (KHTML, like Gecko) Chrome/36.0.1985.143 Safari/537.36\"', userId='2', churn=1)\n",
      "Row(artist='Shakira', auth='Logged In', firstName='Natalee', gender='F', itemInSession=20, lastName='Charles', length=571.79383, level='paid', location='Raleigh, NC', method='PUT', page='NextSong', registration=1536799770000, sessionId=1, song='Estoy AquÃ\\x83Â\\xad', status=200, ts=1538977101000, userAgent='\"Mozilla/5.0 (Windows NT 6.1; WOW64) AppleWebKit/537.36 (KHTML, like Gecko) Chrome/36.0.1985.143 Safari/537.36\"', userId='2', churn=0)\n",
      "******************\n",
      "Row(artist=None, auth='Logged In', firstName='Jayden', gender='M', itemInSession=215, lastName='Santos', length=None, level='paid', location='Dallas-Fort Worth-Arlington, TX', method='GET', page='Downgrade', registration=1533812833000, sessionId=67, song=None, status=200, ts=1539103078000, userAgent='\"Mozilla/5.0 (Macintosh; Intel Mac OS X 10_10) AppleWebKit/600.1.8 (KHTML, like Gecko) Version/8.0 Safari/600.1.8\"', userId='100018', churn=1)\n",
      "Row(artist='Andrew Bird', auth='Logged In', firstName='Jayden', gender='M', itemInSession=216, lastName='Santos', length=428.95628, level='paid', location='Dallas-Fort Worth-Arlington, TX', method='PUT', page='NextSong', registration=1533812833000, sessionId=67, song='Plasticities', status=200, ts=1539103317000, userAgent='\"Mozilla/5.0 (Macintosh; Intel Mac OS X 10_10) AppleWebKit/600.1.8 (KHTML, like Gecko) Version/8.0 Safari/600.1.8\"', userId='100018', churn=0)\n",
      "******************\n",
      "Row(artist=None, auth='Logged In', firstName='Gracie', gender='F', itemInSession=5, lastName='Chang', length=None, level='paid', location='Santa Maria-Santa Barbara, CA', method='GET', page='Downgrade', registration=1529934689000, sessionId=81, song=None, status=200, ts=1541518921000, userAgent='Mozilla/5.0 (Windows NT 6.1; WOW64; rv:32.0) Gecko/20100101 Firefox/32.0', userId='100002', churn=1)\n",
      "Row(artist='Harmonia', auth='Logged In', firstName='Gracie', gender='F', itemInSession=6, lastName='Chang', length=655.77751, level='paid', location='Santa Maria-Santa Barbara, CA', method='PUT', page='NextSong', registration=1529934689000, sessionId=81, song='Sehr kosmisch', status=200, ts=1541519173000, userAgent='Mozilla/5.0 (Windows NT 6.1; WOW64; rv:32.0) Gecko/20100101 Firefox/32.0', userId='100002', churn=0)\n",
      "******************\n",
      "Row(artist=None, auth='Logged In', firstName='Lorelei', gender='F', itemInSession=56, lastName='Silva', length=None, level='paid', location='Pittsburgh, PA', method='GET', page='Downgrade', registration=1534779204000, sessionId=932, song=None, status=200, ts=1539961799000, userAgent='\"Mozilla/5.0 (X11; Linux x86_64) AppleWebKit/537.36 (KHTML, like Gecko) Chrome/36.0.1985.143 Safari/537.36\"', userId='145', churn=1)\n",
      "Row(artist='Cat Stevens', auth='Logged In', firstName='Lorelei', gender='F', itemInSession=57, lastName='Silva', length=223.32036, level='paid', location='Pittsburgh, PA', method='PUT', page='NextSong', registration=1534779204000, sessionId=932, song=\"Lady D'Arbanville\", status=200, ts=1539961986000, userAgent='\"Mozilla/5.0 (X11; Linux x86_64) AppleWebKit/537.36 (KHTML, like Gecko) Chrome/36.0.1985.143 Safari/537.36\"', userId='145', churn=0)\n",
      "******************\n",
      "Row(artist=None, auth='Logged In', firstName='Isabella', gender='F', itemInSession=149, lastName='Evans', length=None, level='paid', location='Dubuque, IA', method='GET', page='Downgrade', registration=1537057938000, sessionId=1578, song=None, status=200, ts=1542820043000, userAgent='\"Mozilla/5.0 (Windows NT 6.1; WOW64) AppleWebKit/537.36 (KHTML, like Gecko) Chrome/36.0.1985.125 Safari/537.36\"', userId='50', churn=1)\n",
      "Row(artist='A Day To Remember', auth='Logged In', firstName='Isabella', gender='F', itemInSession=150, lastName='Evans', length=211.12118, level='paid', location='Dubuque, IA', method='PUT', page='NextSong', registration=1537057938000, sessionId=1578, song='NJ Legion Iced Tea', status=200, ts=1542820170000, userAgent='\"Mozilla/5.0 (Windows NT 6.1; WOW64) AppleWebKit/537.36 (KHTML, like Gecko) Chrome/36.0.1985.125 Safari/537.36\"', userId='50', churn=0)\n",
      "******************\n",
      "Row(artist=None, auth='Logged In', firstName='Isobella', gender='F', itemInSession=100, lastName='Wright', length=None, level='paid', location='Atlanta-Sandy Springs-Roswell, GA', method='GET', page='Downgrade', registration=1536398117000, sessionId=1045, song=None, status=200, ts=1540023520000, userAgent='\"Mozilla/5.0 (Windows NT 6.3; WOW64) AppleWebKit/537.36 (KHTML, like Gecko) Chrome/36.0.1985.125 Safari/537.36\"', userId='45', churn=1)\n",
      "Row(artist='Adam Lambert', auth='Logged In', firstName='Isobella', gender='F', itemInSession=102, lastName='Wright', length=227.39546, level='paid', location='Atlanta-Sandy Springs-Roswell, GA', method='PUT', page='NextSong', registration=1536398117000, sessionId=1045, song='Whataya Want From Me', status=200, ts=1540023686000, userAgent='\"Mozilla/5.0 (Windows NT 6.3; WOW64) AppleWebKit/537.36 (KHTML, like Gecko) Chrome/36.0.1985.125 Safari/537.36\"', userId='45', churn=0)\n",
      "******************\n",
      "Row(artist=None, auth='Logged In', firstName='Liliana', gender='F', itemInSession=44, lastName='Owen', length=None, level='paid', location='Detroit-Warren-Dearborn, MI', method='GET', page='Downgrade', registration=1535032914000, sessionId=137, song=None, status=200, ts=1539622516000, userAgent='Mozilla/5.0 (Macintosh; Intel Mac OS X 10.7; rv:31.0) Gecko/20100101 Firefox/31.0', userId='200021', churn=1)\n",
      "Row(artist='Ramona Falls', auth='Logged In', firstName='Liliana', gender='F', itemInSession=45, lastName='Owen', length=267.38893, level='paid', location='Detroit-Warren-Dearborn, MI', method='PUT', page='NextSong', registration=1535032914000, sessionId=137, song='I Say Fever', status=200, ts=1539622589000, userAgent='Mozilla/5.0 (Macintosh; Intel Mac OS X 10.7; rv:31.0) Gecko/20100101 Firefox/31.0', userId='200021', churn=0)\n",
      "******************\n",
      "Number of users that came back after churn: 151, the number of users that churned: 171.\n"
     ]
    }
   ],
   "source": [
    "back_ids = []\n",
    "for user in churned_users_by_id:\n",
    "    churned_row = False\n",
    "    r = None\n",
    "    for row in user:\n",
    "        if row.page == \"Downgrade\":\n",
    "            churned_row = True\n",
    "            r = row\n",
    "            continue\n",
    "        if row.churn == 0 and churned_row == True and row.song != None:\n",
    "            print(r)\n",
    "            print(row)\n",
    "            print('******************')\n",
    "            back_ids.append(row.userId)\n",
    "            break\n",
    "print(\"Number of users that came back after churn: {}, the number of users that churned: {}.\".format(len(back_ids), len(churned_users_by_id)))"
   ]
  },
  {
   "cell_type": "markdown",
   "metadata": {},
   "source": [
    "### How long users were using the service before downgrade?"
   ]
  },
  {
   "cell_type": "markdown",
   "metadata": {},
   "source": [
    "###"
   ]
  },
  {
   "cell_type": "markdown",
   "metadata": {},
   "source": [
    "# Feature Engineering\n",
    "Once you've familiarized yourself with the data, build out the features you find promising to train your model on. To work with the full dataset, you can follow the following steps.\n",
    "- Write a script to extract the necessary features from the smaller subset of data\n",
    "- Ensure that your script is scalable, using the best practices discussed in Lesson 3\n",
    "- Try your script on the full data set, debugging your script if necessary\n",
    "\n",
    "If you are working in the classroom workspace, you can just extract features based on the small subset of data contained here. Be sure to transfer over this work to the larger dataset when you work on your Spark cluster."
   ]
  },
  {
   "cell_type": "code",
   "execution_count": null,
   "metadata": {},
   "outputs": [],
   "source": []
  },
  {
   "cell_type": "markdown",
   "metadata": {},
   "source": [
    "# Modeling\n",
    "Split the full dataset into train, test, and validation sets. Test out several of the machine learning methods you learned. Evaluate the accuracy of the various models, tuning parameters as necessary. Determine your winning model based on test accuracy and report results on the validation set. Since the churned users are a fairly small subset, I suggest using F1 score as the metric to optimize."
   ]
  },
  {
   "cell_type": "code",
   "execution_count": null,
   "metadata": {},
   "outputs": [],
   "source": []
  },
  {
   "cell_type": "markdown",
   "metadata": {},
   "source": [
    "# Final Steps\n",
    "Clean up your code, adding comments and renaming variables to make the code easier to read and maintain. Refer to the Spark Project Overview page and Data Scientist Capstone Project Rubric to make sure you are including all components of the capstone project and meet all expectations. Remember, this includes thorough documentation in a README file in a Github repository, as well as a web app or blog post."
   ]
  },
  {
   "cell_type": "code",
   "execution_count": null,
   "metadata": {},
   "outputs": [],
   "source": []
  }
 ],
 "metadata": {
  "kernelspec": {
   "display_name": "Python 3",
   "language": "python",
   "name": "python3"
  },
  "language_info": {
   "codemirror_mode": {
    "name": "ipython",
    "version": 3
   },
   "file_extension": ".py",
   "mimetype": "text/x-python",
   "name": "python",
   "nbconvert_exporter": "python",
   "pygments_lexer": "ipython3",
   "version": "3.7.6"
  }
 },
 "nbformat": 4,
 "nbformat_minor": 2
}
