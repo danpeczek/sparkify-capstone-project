{
 "cells": [
  {
   "cell_type": "markdown",
   "metadata": {},
   "source": [
    "# Sparkify Project Workspace\n",
    "This workspace contains a tiny subset (128MB) of the full dataset available (12GB). Feel free to use this workspace to build your project, or to explore a smaller subset with Spark before deploying your cluster on the cloud. Instructions for setting up your Spark cluster is included in the last lesson of the Extracurricular Spark Course content.\n",
    "\n",
    "You can follow the steps below to guide your data analysis and model building portion of this project."
   ]
  },
  {
   "cell_type": "code",
   "execution_count": 1,
   "metadata": {},
   "outputs": [],
   "source": [
    "# import libraries\n",
    "from pyspark.sql import SparkSession\n",
    "from pyspark.sql.functions import udf\n",
    "from pyspark.sql.types import IntegerType"
   ]
  },
  {
   "cell_type": "code",
   "execution_count": 2,
   "metadata": {},
   "outputs": [],
   "source": [
    "spark = SparkSession.builder \\\n",
    "    .master(\"local\") \\\n",
    "    .appName(\"Sparkify\") \\\n",
    "    .getOrCreate()"
   ]
  },
  {
   "cell_type": "markdown",
   "metadata": {},
   "source": [
    "# Load and Clean Dataset\n",
    "In this workspace, the mini-dataset file is `mini_sparkify_event_data.json`. Load and clean the dataset, checking for invalid or missing data - for example, records without userids or sessionids. "
   ]
  },
  {
   "cell_type": "code",
   "execution_count": 3,
   "metadata": {},
   "outputs": [],
   "source": [
    "dataset_path = \"data/mini_sparkify_event_data.json\""
   ]
  },
  {
   "cell_type": "code",
   "execution_count": 4,
   "metadata": {},
   "outputs": [
    {
     "data": {
      "text/plain": [
       "DataFrame[artist: string, auth: string, firstName: string, gender: string, itemInSession: bigint, lastName: string, length: double, level: string, location: string, method: string, page: string, registration: bigint, sessionId: bigint, song: string, status: bigint, ts: bigint, userAgent: string, userId: string]"
      ]
     },
     "execution_count": 4,
     "metadata": {},
     "output_type": "execute_result"
    }
   ],
   "source": [
    "df = spark.read.json(dataset_path)\n",
    "df.persist()"
   ]
  },
  {
   "cell_type": "code",
   "execution_count": 5,
   "metadata": {},
   "outputs": [
    {
     "name": "stdout",
     "output_type": "stream",
     "text": [
      "root\n",
      " |-- artist: string (nullable = true)\n",
      " |-- auth: string (nullable = true)\n",
      " |-- firstName: string (nullable = true)\n",
      " |-- gender: string (nullable = true)\n",
      " |-- itemInSession: long (nullable = true)\n",
      " |-- lastName: string (nullable = true)\n",
      " |-- length: double (nullable = true)\n",
      " |-- level: string (nullable = true)\n",
      " |-- location: string (nullable = true)\n",
      " |-- method: string (nullable = true)\n",
      " |-- page: string (nullable = true)\n",
      " |-- registration: long (nullable = true)\n",
      " |-- sessionId: long (nullable = true)\n",
      " |-- song: string (nullable = true)\n",
      " |-- status: long (nullable = true)\n",
      " |-- ts: long (nullable = true)\n",
      " |-- userAgent: string (nullable = true)\n",
      " |-- userId: string (nullable = true)\n",
      "\n"
     ]
    }
   ],
   "source": [
    "df.printSchema()"
   ]
  },
  {
   "cell_type": "markdown",
   "metadata": {},
   "source": [
    "# Exploratory Data Analysis\n",
    "When you're working with the full dataset, perform EDA by loading a small subset of the data and doing basic manipulations within Spark. In this workspace, you are already provided a small subset of data you can explore.\n",
    "\n",
    "### Define Churn\n",
    "\n",
    "Once you've done some preliminary analysis, create a column `Churn` to use as the label for your model. I suggest using the `Cancellation Confirmation` events to define your churn, which happen for both paid and free users. As a bonus task, you can also look into the `Downgrade` events.\n",
    "\n",
    "### Explore Data\n",
    "Once you've defined churn, perform some exploratory data analysis to observe the behavior for users who stayed vs users who churned. You can start by exploring aggregates on these two groups of users, observing how much of a specific action they experienced per a certain time unit or number of songs played."
   ]
  },
  {
   "cell_type": "markdown",
   "metadata": {},
   "source": [
    "First let's define the churn function that will find set 1 when row means churn and 0 otherwise. To find a churn we'll use the `page` when `Downgrade` and `Cancellation Confirmation` event happened."
   ]
  },
  {
   "cell_type": "code",
   "execution_count": null,
   "metadata": {},
   "outputs": [],
   "source": [
    "def churn(value):\n",
    "    if value == \"Downgrade\" or value == \"Cancellation Confirmation\":\n",
    "        return 1\n",
    "    return 0"
   ]
  },
  {
   "cell_type": "markdown",
   "metadata": {},
   "source": [
    "Now let's apply this function our dataframe."
   ]
  },
  {
   "cell_type": "code",
   "execution_count": 11,
   "metadata": {},
   "outputs": [],
   "source": [
    "setChurn = udf(churn, IntegerType())\n",
    "df = df.withColumn(\"churn\", setChurn(df.page))"
   ]
  },
  {
   "cell_type": "markdown",
   "metadata": {},
   "source": [
    "So now let's take churned users id's and let's put them to separate collection."
   ]
  },
  {
   "cell_type": "code",
   "execution_count": 25,
   "metadata": {},
   "outputs": [
    {
     "data": {
      "text/plain": [
       "[Row(userId='200002'),\n",
       " Row(userId='125'),\n",
       " Row(userId='51'),\n",
       " Row(userId='124'),\n",
       " Row(userId='54'),\n",
       " Row(userId='15'),\n",
       " Row(userId='155'),\n",
       " Row(userId='132'),\n",
       " Row(userId='100014'),\n",
       " Row(userId='101'),\n",
       " Row(userId='11'),\n",
       " Row(userId='138'),\n",
       " Row(userId='300017'),\n",
       " Row(userId='29'),\n",
       " Row(userId='69'),\n",
       " Row(userId='100021'),\n",
       " Row(userId='42'),\n",
       " Row(userId='87'),\n",
       " Row(userId='73'),\n",
       " Row(userId='3'),\n",
       " Row(userId='113'),\n",
       " Row(userId='30'),\n",
       " Row(userId='59'),\n",
       " Row(userId='139'),\n",
       " Row(userId='28'),\n",
       " Row(userId='300018'),\n",
       " Row(userId='300012'),\n",
       " Row(userId='100022'),\n",
       " Row(userId='85'),\n",
       " Row(userId='35'),\n",
       " Row(userId='16'),\n",
       " Row(userId='52'),\n",
       " Row(userId='300008'),\n",
       " Row(userId='71'),\n",
       " Row(userId='98'),\n",
       " Row(userId='300013'),\n",
       " Row(userId='99'),\n",
       " Row(userId='100008'),\n",
       " Row(userId='100025'),\n",
       " Row(userId='300006'),\n",
       " Row(userId='300002'),\n",
       " Row(userId='96'),\n",
       " Row(userId='300007'),\n",
       " Row(userId='100'),\n",
       " Row(userId='100006'),\n",
       " Row(userId='18'),\n",
       " Row(userId='70'),\n",
       " Row(userId='100005'),\n",
       " Row(userId='61'),\n",
       " Row(userId='75'),\n",
       " Row(userId='131'),\n",
       " Row(userId='140'),\n",
       " Row(userId='17'),\n",
       " Row(userId='126'),\n",
       " Row(userId='100007'),\n",
       " Row(userId='120'),\n",
       " Row(userId='46'),\n",
       " Row(userId='300004'),\n",
       " Row(userId='147'),\n",
       " Row(userId='300001'),\n",
       " Row(userId='300015'),\n",
       " Row(userId='77'),\n",
       " Row(userId='89'),\n",
       " Row(userId='136'),\n",
       " Row(userId='6'),\n",
       " Row(userId='118'),\n",
       " Row(userId='100009'),\n",
       " Row(userId='300011'),\n",
       " Row(userId='60'),\n",
       " Row(userId='104'),\n",
       " Row(userId='100004'),\n",
       " Row(userId='200003'),\n",
       " Row(userId='100015'),\n",
       " Row(userId='19'),\n",
       " Row(userId='300023'),\n",
       " Row(userId='41'),\n",
       " Row(userId='128'),\n",
       " Row(userId='23'),\n",
       " Row(userId='200024'),\n",
       " Row(userId='200008'),\n",
       " Row(userId='111'),\n",
       " Row(userId='100016'),\n",
       " Row(userId='100003'),\n",
       " Row(userId='95'),\n",
       " Row(userId='93'),\n",
       " Row(userId='38'),\n",
       " Row(userId='103'),\n",
       " Row(userId='40'),\n",
       " Row(userId='25'),\n",
       " Row(userId='200009'),\n",
       " Row(userId='44'),\n",
       " Row(userId='100024'),\n",
       " Row(userId='115'),\n",
       " Row(userId='82'),\n",
       " Row(userId='200023'),\n",
       " Row(userId='53'),\n",
       " Row(userId='92'),\n",
       " Row(userId='122'),\n",
       " Row(userId='108'),\n",
       " Row(userId='86'),\n",
       " Row(userId='200017'),\n",
       " Row(userId='58'),\n",
       " Row(userId='100011'),\n",
       " Row(userId='100019'),\n",
       " Row(userId='300014'),\n",
       " Row(userId='81'),\n",
       " Row(userId='33'),\n",
       " Row(userId='114'),\n",
       " Row(userId='100012'),\n",
       " Row(userId='200018'),\n",
       " Row(userId='200025'),\n",
       " Row(userId='200016'),\n",
       " Row(userId='153'),\n",
       " Row(userId='200020'),\n",
       " Row(userId='141'),\n",
       " Row(userId='97'),\n",
       " Row(userId='67'),\n",
       " Row(userId='106'),\n",
       " Row(userId='143'),\n",
       " Row(userId='79'),\n",
       " Row(userId='300025'),\n",
       " Row(userId='9'),\n",
       " Row(userId='24'),\n",
       " Row(userId='32'),\n",
       " Row(userId='152'),\n",
       " Row(userId='88'),\n",
       " Row(userId='200001'),\n",
       " Row(userId='105'),\n",
       " Row(userId='20'),\n",
       " Row(userId='200011'),\n",
       " Row(userId='100023'),\n",
       " Row(userId='142'),\n",
       " Row(userId='100013'),\n",
       " Row(userId='56'),\n",
       " Row(userId='127'),\n",
       " Row(userId='36'),\n",
       " Row(userId='300009'),\n",
       " Row(userId='10'),\n",
       " Row(userId='37'),\n",
       " Row(userId='300022'),\n",
       " Row(userId='49'),\n",
       " Row(userId='300021'),\n",
       " Row(userId='200004'),\n",
       " Row(userId='100017'),\n",
       " Row(userId='300020'),\n",
       " Row(userId='65'),\n",
       " Row(userId='121'),\n",
       " Row(userId='4'),\n",
       " Row(userId='39'),\n",
       " Row(userId='62'),\n",
       " Row(userId='12'),\n",
       " Row(userId='83'),\n",
       " Row(userId='109'),\n",
       " Row(userId='13'),\n",
       " Row(userId='200019'),\n",
       " Row(userId='14'),\n",
       " Row(userId='21'),\n",
       " Row(userId='66'),\n",
       " Row(userId='91'),\n",
       " Row(userId='74'),\n",
       " Row(userId='300016'),\n",
       " Row(userId='200015'),\n",
       " Row(userId='129'),\n",
       " Row(userId='2'),\n",
       " Row(userId='100018'),\n",
       " Row(userId='100002'),\n",
       " Row(userId='145'),\n",
       " Row(userId='50'),\n",
       " Row(userId='45'),\n",
       " Row(userId='200021'),\n",
       " Row(userId='100001')]"
      ]
     },
     "execution_count": 25,
     "metadata": {},
     "output_type": "execute_result"
    }
   ],
   "source": [
    "churned_ids = df.filter(df.churn == 1).select(\"userId\").dropDuplicates().collect()"
   ]
  },
  {
   "cell_type": "markdown",
   "metadata": {},
   "source": [
    "# Feature Engineering\n",
    "Once you've familiarized yourself with the data, build out the features you find promising to train your model on. To work with the full dataset, you can follow the following steps.\n",
    "- Write a script to extract the necessary features from the smaller subset of data\n",
    "- Ensure that your script is scalable, using the best practices discussed in Lesson 3\n",
    "- Try your script on the full data set, debugging your script if necessary\n",
    "\n",
    "If you are working in the classroom workspace, you can just extract features based on the small subset of data contained here. Be sure to transfer over this work to the larger dataset when you work on your Spark cluster."
   ]
  },
  {
   "cell_type": "code",
   "execution_count": null,
   "metadata": {},
   "outputs": [],
   "source": []
  },
  {
   "cell_type": "markdown",
   "metadata": {},
   "source": [
    "# Modeling\n",
    "Split the full dataset into train, test, and validation sets. Test out several of the machine learning methods you learned. Evaluate the accuracy of the various models, tuning parameters as necessary. Determine your winning model based on test accuracy and report results on the validation set. Since the churned users are a fairly small subset, I suggest using F1 score as the metric to optimize."
   ]
  },
  {
   "cell_type": "code",
   "execution_count": null,
   "metadata": {},
   "outputs": [],
   "source": []
  },
  {
   "cell_type": "markdown",
   "metadata": {},
   "source": [
    "# Final Steps\n",
    "Clean up your code, adding comments and renaming variables to make the code easier to read and maintain. Refer to the Spark Project Overview page and Data Scientist Capstone Project Rubric to make sure you are including all components of the capstone project and meet all expectations. Remember, this includes thorough documentation in a README file in a Github repository, as well as a web app or blog post."
   ]
  },
  {
   "cell_type": "code",
   "execution_count": null,
   "metadata": {},
   "outputs": [],
   "source": []
  }
 ],
 "metadata": {
  "kernelspec": {
   "display_name": "Python 3",
   "language": "python",
   "name": "python3"
  },
  "language_info": {
   "codemirror_mode": {
    "name": "ipython",
    "version": 3
   },
   "file_extension": ".py",
   "mimetype": "text/x-python",
   "name": "python",
   "nbconvert_exporter": "python",
   "pygments_lexer": "ipython3",
   "version": "3.7.6"
  }
 },
 "nbformat": 4,
 "nbformat_minor": 2
}
